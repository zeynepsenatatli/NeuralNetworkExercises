{
  "nbformat": 4,
  "nbformat_minor": 0,
  "metadata": {
    "colab": {
      "provenance": [],
      "authorship_tag": "ABX9TyMlZ8xFfFSGumv24EpwLgQW",
      "include_colab_link": true
    },
    "kernelspec": {
      "name": "python3",
      "display_name": "Python 3"
    },
    "language_info": {
      "name": "python"
    }
  },
  "cells": [
    {
      "cell_type": "markdown",
      "metadata": {
        "id": "view-in-github",
        "colab_type": "text"
      },
      "source": [
        "<a href=\"https://colab.research.google.com/github/zeynepsenatatli/NeuralNetworkExercises/blob/main/UE05_C14E9.ipynb\" target=\"_parent\"><img src=\"https://colab.research.google.com/assets/colab-badge.svg\" alt=\"Open In Colab\"/></a>"
      ]
    },
    {
      "cell_type": "markdown",
      "source": [
        " Build your own CNN from scratch and try to achieve the highest possible accuracy on MNIST."
      ],
      "metadata": {
        "id": "o16dR4VZizAv"
      }
    },
    {
      "cell_type": "code",
      "execution_count": null,
      "metadata": {
        "id": "FOWql47TiZ9p"
      },
      "outputs": [],
      "source": [
        "import numpy as np\n",
        "import tensorflow as tf\n",
        "from tensorflow import keras"
      ]
    },
    {
      "cell_type": "code",
      "source": [
        "(X_train_full, y_train_full), (X_test, y_test)  = keras.datasets.mnist.load_data()\n",
        "\n",
        "# Normalize pixel values between 0 and 1\n",
        "X_train_full = X_train_full / 255.\n",
        "X_test = X_test / 255.\n",
        "\n",
        "X_train, X_valid = X_train_full[:-5000], X_train_full[-5000:]\n",
        "y_train, y_valid = y_train_full[:-5000], y_train_full[-5000:]"
      ],
      "metadata": {
        "id": "yOKNP_lZixW-",
        "colab": {
          "base_uri": "https://localhost:8080/"
        },
        "outputId": "1e9faf7e-9107-4dbd-f1a0-4efa809c632e"
      },
      "execution_count": null,
      "outputs": [
        {
          "output_type": "stream",
          "name": "stdout",
          "text": [
            "Downloading data from https://storage.googleapis.com/tensorflow/tf-keras-datasets/mnist.npz\n",
            "11490434/11490434 [==============================] - 0s 0us/step\n"
          ]
        }
      ]
    },
    {
      "cell_type": "code",
      "source": [
        "X_train.shape"
      ],
      "metadata": {
        "colab": {
          "base_uri": "https://localhost:8080/"
        },
        "id": "caaXU6uQjZyr",
        "outputId": "e7be34d1-b779-4487-92c5-7a8e445650f1"
      },
      "execution_count": null,
      "outputs": [
        {
          "output_type": "execute_result",
          "data": {
            "text/plain": [
              "(55000, 28, 28)"
            ]
          },
          "metadata": {},
          "execution_count": 4
        }
      ]
    },
    {
      "cell_type": "code",
      "source": [
        "X_train = X_train[..., np.newaxis]\n",
        "X_valid = X_valid[..., np.newaxis]\n",
        "X_test = X_test[..., np.newaxis]"
      ],
      "metadata": {
        "id": "X0LfsXncjXJa"
      },
      "execution_count": null,
      "outputs": []
    },
    {
      "cell_type": "code",
      "source": [
        "X_train.shape"
      ],
      "metadata": {
        "colab": {
          "base_uri": "https://localhost:8080/"
        },
        "id": "-FsYXs0ljc_C",
        "outputId": "280529e1-a832-4001-d932-378644669ed3"
      },
      "execution_count": null,
      "outputs": [
        {
          "output_type": "execute_result",
          "data": {
            "text/plain": [
              "(55000, 28, 28, 1)"
            ]
          },
          "metadata": {},
          "execution_count": 6
        }
      ]
    },
    {
      "cell_type": "code",
      "source": [
        "tf.keras.backend.clear_session()\n",
        "tf.random.set_seed(42)\n",
        "np.random.seed(42)\n",
        "\n",
        "model = tf.keras.Sequential([\n",
        "    tf.keras.layers.Conv2D(32, kernel_size=3, padding=\"same\",\n",
        "                           activation=\"relu\", kernel_initializer=\"he_normal\"),\n",
        "    tf.keras.layers.Conv2D(64, kernel_size=3, padding=\"same\",\n",
        "                           activation=\"relu\", kernel_initializer=\"he_normal\"),\n",
        "    tf.keras.layers.MaxPool2D(),\n",
        "    tf.keras.layers.Flatten(),\n",
        "    tf.keras.layers.Dropout(0.25),\n",
        "    tf.keras.layers.Dense(128, activation=\"relu\",\n",
        "                          kernel_initializer=\"he_normal\"),\n",
        "    tf.keras.layers.Dropout(0.5),\n",
        "    tf.keras.layers.Dense(10, activation=\"softmax\")\n",
        "])"
      ],
      "metadata": {
        "id": "u4gZ8eaekAUu"
      },
      "execution_count": null,
      "outputs": []
    },
    {
      "cell_type": "code",
      "source": [
        "model.compile(loss=\"sparse_categorical_crossentropy\", optimizer=\"nadam\",\n",
        "              metrics=[\"accuracy\"])\n",
        "\n",
        "model.fit(X_train, y_train, epochs=10, validation_data=(X_valid, y_valid))\n",
        "model.evaluate(X_test, y_test)"
      ],
      "metadata": {
        "colab": {
          "base_uri": "https://localhost:8080/"
        },
        "id": "GHzJD1vFPTaz",
        "outputId": "4f1cc1fc-82bc-469f-face-fcaf6e3ed592"
      },
      "execution_count": null,
      "outputs": [
        {
          "output_type": "stream",
          "name": "stdout",
          "text": [
            "Epoch 1/10\n",
            "1719/1719 [==============================] - 264s 153ms/step - loss: 0.2003 - accuracy: 0.9392 - val_loss: 0.0421 - val_accuracy: 0.9888\n",
            "Epoch 2/10\n",
            "1719/1719 [==============================] - 265s 154ms/step - loss: 0.0837 - accuracy: 0.9753 - val_loss: 0.0421 - val_accuracy: 0.9874\n",
            "Epoch 3/10\n",
            "1719/1719 [==============================] - 265s 154ms/step - loss: 0.0613 - accuracy: 0.9813 - val_loss: 0.0332 - val_accuracy: 0.9896\n",
            "Epoch 4/10\n",
            "1719/1719 [==============================] - 262s 152ms/step - loss: 0.0501 - accuracy: 0.9846 - val_loss: 0.0316 - val_accuracy: 0.9908\n",
            "Epoch 5/10\n",
            "1719/1719 [==============================] - 260s 151ms/step - loss: 0.0404 - accuracy: 0.9875 - val_loss: 0.0336 - val_accuracy: 0.9916\n",
            "Epoch 6/10\n",
            "1719/1719 [==============================] - 248s 144ms/step - loss: 0.0356 - accuracy: 0.9893 - val_loss: 0.0348 - val_accuracy: 0.9902\n",
            "Epoch 7/10\n",
            "1719/1719 [==============================] - 244s 142ms/step - loss: 0.0328 - accuracy: 0.9900 - val_loss: 0.0299 - val_accuracy: 0.9922\n",
            "Epoch 8/10\n",
            "1719/1719 [==============================] - 249s 145ms/step - loss: 0.0261 - accuracy: 0.9914 - val_loss: 0.0414 - val_accuracy: 0.9912\n",
            "Epoch 9/10\n",
            "1719/1719 [==============================] - 253s 147ms/step - loss: 0.0237 - accuracy: 0.9922 - val_loss: 0.0376 - val_accuracy: 0.9920\n",
            "Epoch 10/10\n",
            "1719/1719 [==============================] - 251s 146ms/step - loss: 0.0227 - accuracy: 0.9927 - val_loss: 0.0370 - val_accuracy: 0.9920\n",
            "313/313 [==============================] - 10s 31ms/step - loss: 0.0315 - accuracy: 0.9921\n"
          ]
        },
        {
          "output_type": "execute_result",
          "data": {
            "text/plain": [
              "[0.031519170850515366, 0.9921000003814697]"
            ]
          },
          "metadata": {},
          "execution_count": 10
        }
      ]
    },
    {
      "cell_type": "markdown",
      "source": [
        "**One-hot encoding**"
      ],
      "metadata": {
        "id": "-81KI9gPOCWF"
      }
    },
    {
      "cell_type": "code",
      "source": [
        "# Convert class vectors to binary class matrices (one-hot encoding)\n",
        "num_classes = 10\n",
        "y_train_ = keras.utils.to_categorical(y_train, num_classes)\n",
        "y_valid_ = keras.utils.to_categorical(y_valid, num_classes)\n",
        "y_test_ = keras.utils.to_categorical(y_test, num_classes)"
      ],
      "metadata": {
        "id": "3VDJiJJdN-lO"
      },
      "execution_count": null,
      "outputs": []
    },
    {
      "cell_type": "code",
      "source": [
        "model.compile(loss=\"categorical_crossentropy\", optimizer=\"adam\", metrics=[\"accuracy\"])\n",
        "model.fit(X_train, y_train_, epochs=10, validation_data=(X_valid, y_valid_))"
      ],
      "metadata": {
        "colab": {
          "base_uri": "https://localhost:8080/"
        },
        "id": "M5ev1reQOqTC",
        "outputId": "be6f3838-4f37-4608-c17e-14c3685557d1"
      },
      "execution_count": null,
      "outputs": [
        {
          "output_type": "stream",
          "name": "stdout",
          "text": [
            "Epoch 1/10\n",
            "1719/1719 [==============================] - 266s 154ms/step - loss: 0.0177 - accuracy: 0.9943 - val_loss: 0.0459 - val_accuracy: 0.9920\n",
            "Epoch 2/10\n",
            "1719/1719 [==============================] - 248s 145ms/step - loss: 0.0144 - accuracy: 0.9956 - val_loss: 0.0404 - val_accuracy: 0.9932\n",
            "Epoch 3/10\n",
            "1719/1719 [==============================] - 249s 145ms/step - loss: 0.0140 - accuracy: 0.9954 - val_loss: 0.0522 - val_accuracy: 0.9928\n",
            "Epoch 4/10\n",
            "1719/1719 [==============================] - 255s 148ms/step - loss: 0.0127 - accuracy: 0.9958 - val_loss: 0.0512 - val_accuracy: 0.9924\n",
            "Epoch 5/10\n",
            "1719/1719 [==============================] - 250s 145ms/step - loss: 0.0104 - accuracy: 0.9967 - val_loss: 0.0519 - val_accuracy: 0.9922\n",
            "Epoch 6/10\n",
            "1719/1719 [==============================] - 252s 147ms/step - loss: 0.0113 - accuracy: 0.9967 - val_loss: 0.0535 - val_accuracy: 0.9916\n",
            "Epoch 7/10\n",
            "1719/1719 [==============================] - 252s 147ms/step - loss: 0.0114 - accuracy: 0.9965 - val_loss: 0.0610 - val_accuracy: 0.9918\n",
            "Epoch 8/10\n",
            "1719/1719 [==============================] - 246s 143ms/step - loss: 0.0095 - accuracy: 0.9970 - val_loss: 0.0627 - val_accuracy: 0.9922\n",
            "Epoch 9/10\n",
            "1719/1719 [==============================] - 247s 144ms/step - loss: 0.0095 - accuracy: 0.9970 - val_loss: 0.0653 - val_accuracy: 0.9916\n",
            "Epoch 10/10\n",
            "1719/1719 [==============================] - 248s 144ms/step - loss: 0.0101 - accuracy: 0.9969 - val_loss: 0.0614 - val_accuracy: 0.9922\n"
          ]
        },
        {
          "output_type": "execute_result",
          "data": {
            "text/plain": [
              "<keras.callbacks.History at 0x7fac540aa140>"
            ]
          },
          "metadata": {},
          "execution_count": 12
        }
      ]
    },
    {
      "cell_type": "code",
      "source": [
        "model.evaluate(X_test, y_test_)"
      ],
      "metadata": {
        "colab": {
          "base_uri": "https://localhost:8080/"
        },
        "id": "pAaa_Fb8Zygm",
        "outputId": "da689395-3f49-4105-fd05-cedc93169a5b"
      },
      "execution_count": null,
      "outputs": [
        {
          "output_type": "stream",
          "name": "stdout",
          "text": [
            "313/313 [==============================] - 11s 35ms/step - loss: 0.0581 - accuracy: 0.9912\n"
          ]
        },
        {
          "output_type": "execute_result",
          "data": {
            "text/plain": [
              "[0.05805153772234917, 0.9911999702453613]"
            ]
          },
          "metadata": {},
          "execution_count": 13
        }
      ]
    },
    {
      "cell_type": "markdown",
      "source": [
        "**with Batch Normalization**"
      ],
      "metadata": {
        "id": "5IoXIcDBj3JT"
      }
    },
    {
      "cell_type": "code",
      "source": [
        "tf.keras.backend.clear_session()\n",
        "tf.random.set_seed(42)\n",
        "np.random.seed(42)\n",
        "\n",
        "model_2 = tf.keras.Sequential([\n",
        "    tf.keras.layers.Conv2D(32, kernel_size=3, padding=\"same\",\n",
        "                           activation=\"relu\", kernel_initializer=\"he_normal\"),\n",
        "    tf.keras.layers.BatchNormalization(),  # Batch Normalization\n",
        "    tf.keras.layers.Conv2D(64, kernel_size=3, padding=\"same\",\n",
        "                           activation=\"relu\", kernel_initializer=\"he_normal\"),\n",
        "    tf.keras.layers.BatchNormalization(),  # Batch Normalization\n",
        "    tf.keras.layers.MaxPool2D(),\n",
        "    tf.keras.layers.Flatten(),\n",
        "    tf.keras.layers.Dropout(0.25),\n",
        "    tf.keras.layers.Dense(128, activation=\"relu\",\n",
        "                          kernel_initializer=\"he_normal\"),\n",
        "    tf.keras.layers.BatchNormalization(),  # Batch Normalization\n",
        "    tf.keras.layers.Dropout(0.5),\n",
        "    tf.keras.layers.Dense(10, activation=\"softmax\")\n",
        "])"
      ],
      "metadata": {
        "id": "pyGwrCc7j5N3"
      },
      "execution_count": null,
      "outputs": []
    },
    {
      "cell_type": "code",
      "source": [
        "model_2.compile(loss=\"sparse_categorical_crossentropy\", optimizer=\"adam\", metrics=[\"accuracy\"])\n",
        "model_2.fit(X_train, y_train, epochs=10, validation_data=(X_valid, y_valid))"
      ],
      "metadata": {
        "colab": {
          "base_uri": "https://localhost:8080/"
        },
        "id": "F6Tdst9sL4ma",
        "outputId": "67b77bb1-4080-45fa-f0af-09a8db1ee252"
      },
      "execution_count": null,
      "outputs": [
        {
          "output_type": "stream",
          "name": "stdout",
          "text": [
            "Epoch 1/10\n",
            "1719/1719 [==============================] - 265s 151ms/step - loss: 0.1657 - accuracy: 0.9494 - val_loss: 0.0544 - val_accuracy: 0.9848\n",
            "Epoch 2/10\n",
            "1719/1719 [==============================] - 255s 148ms/step - loss: 0.0757 - accuracy: 0.9766 - val_loss: 0.0435 - val_accuracy: 0.9872\n",
            "Epoch 3/10\n",
            "1719/1719 [==============================] - 254s 148ms/step - loss: 0.0566 - accuracy: 0.9827 - val_loss: 0.0488 - val_accuracy: 0.9884\n",
            "Epoch 4/10\n",
            "1719/1719 [==============================] - 254s 148ms/step - loss: 0.0474 - accuracy: 0.9850 - val_loss: 0.0312 - val_accuracy: 0.9916\n",
            "Epoch 5/10\n",
            "1719/1719 [==============================] - 257s 149ms/step - loss: 0.0419 - accuracy: 0.9871 - val_loss: 0.0313 - val_accuracy: 0.9912\n",
            "Epoch 6/10\n",
            "1719/1719 [==============================] - 261s 152ms/step - loss: 0.0371 - accuracy: 0.9880 - val_loss: 0.0316 - val_accuracy: 0.9910\n",
            "Epoch 7/10\n",
            "1719/1719 [==============================] - 255s 148ms/step - loss: 0.0285 - accuracy: 0.9907 - val_loss: 0.0327 - val_accuracy: 0.9928\n",
            "Epoch 8/10\n",
            "1719/1719 [==============================] - 260s 151ms/step - loss: 0.0257 - accuracy: 0.9917 - val_loss: 0.0341 - val_accuracy: 0.9920\n",
            "Epoch 9/10\n",
            "1719/1719 [==============================] - 254s 148ms/step - loss: 0.0248 - accuracy: 0.9917 - val_loss: 0.0286 - val_accuracy: 0.9928\n",
            "Epoch 10/10\n",
            "1719/1719 [==============================] - 253s 147ms/step - loss: 0.0222 - accuracy: 0.9929 - val_loss: 0.0324 - val_accuracy: 0.9918\n"
          ]
        },
        {
          "output_type": "execute_result",
          "data": {
            "text/plain": [
              "<keras.callbacks.History at 0x7f0b990555d0>"
            ]
          },
          "metadata": {},
          "execution_count": 8
        }
      ]
    },
    {
      "cell_type": "code",
      "source": [
        "model_2.evaluate(X_test, y_test)"
      ],
      "metadata": {
        "colab": {
          "base_uri": "https://localhost:8080/"
        },
        "id": "r9l2HhPgYmzB",
        "outputId": "66c72970-df8f-4a83-a598-fc0cfe424f12"
      },
      "execution_count": null,
      "outputs": [
        {
          "output_type": "stream",
          "name": "stdout",
          "text": [
            "313/313 [==============================] - 10s 33ms/step - loss: 0.0300 - accuracy: 0.9911\n"
          ]
        },
        {
          "output_type": "execute_result",
          "data": {
            "text/plain": [
              "[0.02996036410331726, 0.991100013256073]"
            ]
          },
          "metadata": {},
          "execution_count": 11
        }
      ]
    },
    {
      "cell_type": "code",
      "source": [
        "# model_2.compile(loss=\"categorical_crossentropy\", optimizer=\"adam\", metrics=[\"accuracy\"])\n",
        "# model_2.fit(X_train, y_train_, epochs=10, validation_data=(X_valid, y_valid))"
      ],
      "metadata": {
        "id": "blAyaYyhZYFb"
      },
      "execution_count": null,
      "outputs": []
    },
    {
      "cell_type": "markdown",
      "source": [
        "LeNet"
      ],
      "metadata": {
        "id": "i-5VbagaaC2T"
      }
    },
    {
      "cell_type": "code",
      "source": [
        "from keras.models import Sequential\n",
        "from keras.layers import Conv2D, AveragePooling2D, Flatten, Dense"
      ],
      "metadata": {
        "id": "d_-5bz8GaKGY"
      },
      "execution_count": null,
      "outputs": []
    },
    {
      "cell_type": "code",
      "source": [
        "model_3 = Sequential([\n",
        "    Conv2D(6, kernel_size=(5, 5), activation='relu', input_shape=(28, 28, 1)),\n",
        "    AveragePooling2D(pool_size=(2, 2)),\n",
        "    Conv2D(16, kernel_size=(5, 5), activation='relu'),\n",
        "    AveragePooling2D(pool_size=(2, 2)),\n",
        "    Flatten(),\n",
        "    Dense(120, activation='relu'),\n",
        "    Dense(84, activation='relu'),\n",
        "    Dense(num_classes, activation='softmax')\n",
        "])\n"
      ],
      "metadata": {
        "id": "NSPrN87LaD7Q"
      },
      "execution_count": null,
      "outputs": []
    },
    {
      "cell_type": "code",
      "source": [
        "model_3.compile(loss=\"sparse_categorical_crossentropy\", optimizer=\"adam\", metrics=[\"accuracy\"])\n",
        "model_3.fit(X_train, y_train, epochs=10, validation_data=(X_valid, y_valid))"
      ],
      "metadata": {
        "colab": {
          "base_uri": "https://localhost:8080/"
        },
        "id": "KUkQPS3_aFTB",
        "outputId": "1e67f120-2d1e-495a-9c4b-bd61ffd9662c"
      },
      "execution_count": null,
      "outputs": [
        {
          "output_type": "stream",
          "name": "stdout",
          "text": [
            "Epoch 1/10\n",
            "1719/1719 [==============================] - 32s 18ms/step - loss: 0.2716 - accuracy: 0.9164 - val_loss: 0.0804 - val_accuracy: 0.9768\n",
            "Epoch 2/10\n",
            "1719/1719 [==============================] - 29s 17ms/step - loss: 0.0840 - accuracy: 0.9741 - val_loss: 0.0769 - val_accuracy: 0.9804\n",
            "Epoch 3/10\n",
            "1719/1719 [==============================] - 30s 18ms/step - loss: 0.0614 - accuracy: 0.9813 - val_loss: 0.0567 - val_accuracy: 0.9868\n",
            "Epoch 4/10\n",
            "1719/1719 [==============================] - 31s 18ms/step - loss: 0.0490 - accuracy: 0.9848 - val_loss: 0.0496 - val_accuracy: 0.9850\n",
            "Epoch 5/10\n",
            "1719/1719 [==============================] - 30s 17ms/step - loss: 0.0395 - accuracy: 0.9878 - val_loss: 0.0469 - val_accuracy: 0.9880\n",
            "Epoch 6/10\n",
            "1719/1719 [==============================] - 29s 17ms/step - loss: 0.0332 - accuracy: 0.9889 - val_loss: 0.0405 - val_accuracy: 0.9884\n",
            "Epoch 7/10\n",
            "1719/1719 [==============================] - 31s 18ms/step - loss: 0.0278 - accuracy: 0.9912 - val_loss: 0.0320 - val_accuracy: 0.9912\n",
            "Epoch 8/10\n",
            "1719/1719 [==============================] - 29s 17ms/step - loss: 0.0238 - accuracy: 0.9923 - val_loss: 0.0452 - val_accuracy: 0.9888\n",
            "Epoch 9/10\n",
            "1719/1719 [==============================] - 30s 18ms/step - loss: 0.0212 - accuracy: 0.9931 - val_loss: 0.0497 - val_accuracy: 0.9892\n",
            "Epoch 10/10\n",
            "1719/1719 [==============================] - 31s 18ms/step - loss: 0.0178 - accuracy: 0.9942 - val_loss: 0.0449 - val_accuracy: 0.9898\n"
          ]
        },
        {
          "output_type": "execute_result",
          "data": {
            "text/plain": [
              "<keras.callbacks.History at 0x7f0b7c2cbdf0>"
            ]
          },
          "metadata": {},
          "execution_count": 19
        }
      ]
    },
    {
      "cell_type": "code",
      "source": [
        "model_3.evaluate(X_test, y_test)"
      ],
      "metadata": {
        "colab": {
          "base_uri": "https://localhost:8080/"
        },
        "id": "4Fo6-zxwbs4h",
        "outputId": "18a87404-142f-4df8-f3ec-4d2a3e8d3270"
      },
      "execution_count": null,
      "outputs": [
        {
          "output_type": "stream",
          "name": "stdout",
          "text": [
            "313/313 [==============================] - 2s 7ms/step - loss: 0.0386 - accuracy: 0.9901\n"
          ]
        },
        {
          "output_type": "execute_result",
          "data": {
            "text/plain": [
              "[0.038622356951236725, 0.9901000261306763]"
            ]
          },
          "metadata": {},
          "execution_count": 24
        }
      ]
    },
    {
      "cell_type": "code",
      "source": [
        "model_4 = Sequential([\n",
        "    Conv2D(6, kernel_size=(5, 5), activation='tanh', input_shape=(28, 28, 1)),\n",
        "    AveragePooling2D(pool_size=(2, 2)),\n",
        "    Conv2D(16, kernel_size=(5, 5), activation='tanh'),\n",
        "    AveragePooling2D(pool_size=(2, 2)),\n",
        "    Flatten(),\n",
        "    Dense(120, activation='tanh'),\n",
        "    Dense(84, activation='tanh'),\n",
        "    Dense(num_classes, activation='softmax')\n",
        "])"
      ],
      "metadata": {
        "id": "AzaM-nwVb6ho"
      },
      "execution_count": null,
      "outputs": []
    },
    {
      "cell_type": "code",
      "source": [
        "model_4.compile(loss=\"sparse_categorical_crossentropy\", optimizer=\"adam\", metrics=[\"accuracy\"])\n",
        "model_4.fit(X_train, y_train, epochs=10, validation_data=(X_valid, y_valid))"
      ],
      "metadata": {
        "colab": {
          "base_uri": "https://localhost:8080/"
        },
        "id": "foYP2xOQcM7l",
        "outputId": "3ed70696-a7f8-4065-b142-5a4df491e2a1"
      },
      "execution_count": null,
      "outputs": [
        {
          "output_type": "stream",
          "name": "stdout",
          "text": [
            "Epoch 1/10\n",
            "1719/1719 [==============================] - 55s 31ms/step - loss: 0.2594 - accuracy: 0.9213 - val_loss: 0.1071 - val_accuracy: 0.9690\n",
            "Epoch 2/10\n",
            "1719/1719 [==============================] - 31s 18ms/step - loss: 0.0969 - accuracy: 0.9710 - val_loss: 0.0783 - val_accuracy: 0.9766\n",
            "Epoch 3/10\n",
            "1719/1719 [==============================] - 30s 18ms/step - loss: 0.0660 - accuracy: 0.9800 - val_loss: 0.0639 - val_accuracy: 0.9828\n",
            "Epoch 4/10\n",
            "1719/1719 [==============================] - 30s 17ms/step - loss: 0.0506 - accuracy: 0.9845 - val_loss: 0.0676 - val_accuracy: 0.9804\n",
            "Epoch 5/10\n",
            "1719/1719 [==============================] - 31s 18ms/step - loss: 0.0386 - accuracy: 0.9876 - val_loss: 0.0567 - val_accuracy: 0.9850\n",
            "Epoch 6/10\n",
            "1719/1719 [==============================] - 30s 17ms/step - loss: 0.0316 - accuracy: 0.9895 - val_loss: 0.0599 - val_accuracy: 0.9832\n",
            "Epoch 7/10\n",
            "1719/1719 [==============================] - 30s 18ms/step - loss: 0.0283 - accuracy: 0.9905 - val_loss: 0.0591 - val_accuracy: 0.9842\n",
            "Epoch 8/10\n",
            "1719/1719 [==============================] - 31s 18ms/step - loss: 0.0222 - accuracy: 0.9929 - val_loss: 0.0581 - val_accuracy: 0.9840\n",
            "Epoch 9/10\n",
            "1719/1719 [==============================] - 31s 18ms/step - loss: 0.0200 - accuracy: 0.9932 - val_loss: 0.0548 - val_accuracy: 0.9846\n",
            "Epoch 10/10\n",
            "1719/1719 [==============================] - 30s 17ms/step - loss: 0.0169 - accuracy: 0.9943 - val_loss: 0.0587 - val_accuracy: 0.9862\n"
          ]
        },
        {
          "output_type": "execute_result",
          "data": {
            "text/plain": [
              "<keras.callbacks.History at 0x7f0b7c1316f0>"
            ]
          },
          "metadata": {},
          "execution_count": 26
        }
      ]
    },
    {
      "cell_type": "code",
      "source": [
        "model_4.evaluate(X_test, y_test)"
      ],
      "metadata": {
        "colab": {
          "base_uri": "https://localhost:8080/"
        },
        "id": "owc9koaccOWe",
        "outputId": "45482d04-47cc-4037-fdec-1259864a1a67"
      },
      "execution_count": null,
      "outputs": [
        {
          "output_type": "stream",
          "name": "stdout",
          "text": [
            "313/313 [==============================] - 3s 10ms/step - loss: 0.0511 - accuracy: 0.9854\n"
          ]
        },
        {
          "output_type": "execute_result",
          "data": {
            "text/plain": [
              "[0.051119524985551834, 0.9854000210762024]"
            ]
          },
          "metadata": {},
          "execution_count": 28
        }
      ]
    },
    {
      "cell_type": "markdown",
      "source": [
        "**Data Augmentation**"
      ],
      "metadata": {
        "id": "_ogliw-udq-q"
      }
    },
    {
      "cell_type": "code",
      "source": [
        "from scipy.ndimage import shift"
      ],
      "metadata": {
        "id": "1nVrB97IdrHf"
      },
      "execution_count": null,
      "outputs": []
    },
    {
      "cell_type": "code",
      "source": [
        "(X_train_full, y_train_full), (X_test, y_test)  = keras.datasets.mnist.load_data()\n",
        "\n",
        "# Normalize pixel values between 0 and 1\n",
        "X_train_full = X_train_full / 255.\n",
        "X_test = X_test / 255."
      ],
      "metadata": {
        "id": "talJwuH_e_Tf"
      },
      "execution_count": null,
      "outputs": []
    },
    {
      "cell_type": "code",
      "source": [
        "X_train_augmented = [image for image in X_train_full]\n",
        "y_train_augmented = [label for label in y_train_full]\n",
        "\n",
        "# left = [0, -1]\n",
        "# right = [0, 1]\n",
        "# up = [-1, 0]\n",
        "# down = [1, 0]\n",
        "\n",
        "for X, y in zip(X_train_full, y_train_full):\n",
        "  for i in ([0, -1],[0, 1],[-1, 0],[1, 0]):\n",
        "    X_train_augmented.append(shift(X, i, cval=0))\n",
        "    y_train_augmented.append(y)"
      ],
      "metadata": {
        "id": "jd2g3QrFeuK7"
      },
      "execution_count": null,
      "outputs": []
    },
    {
      "cell_type": "code",
      "source": [
        "X_train_full_augmented = np.array(X_train_augmented)\n",
        "y_train_full_augmented = np.array(y_train_augmented)"
      ],
      "metadata": {
        "id": "xCUaLsMHe0I9"
      },
      "execution_count": null,
      "outputs": []
    },
    {
      "cell_type": "code",
      "source": [
        "X_train, X_valid = X_train_full_augmented[:-5000], X_train_full_augmented[-5000:]\n",
        "y_train, y_valid = y_train_full_augmented[:-5000], y_train_full_augmented[-5000:]"
      ],
      "metadata": {
        "id": "jJ0udVZDfdwc"
      },
      "execution_count": null,
      "outputs": []
    },
    {
      "cell_type": "code",
      "source": [
        "X_train = X_train[..., np.newaxis]\n",
        "X_valid = X_valid[..., np.newaxis]\n",
        "X_test = X_test[..., np.newaxis]"
      ],
      "metadata": {
        "id": "Qbq-hqK9fP-B"
      },
      "execution_count": null,
      "outputs": []
    },
    {
      "cell_type": "code",
      "source": [
        "model.compile(loss=\"sparse_categorical_crossentropy\", optimizer=\"nadam\",\n",
        "              metrics=[\"accuracy\"])\n",
        "\n",
        "model.fit(X_train, y_train, epochs=10, validation_data=(X_valid, y_valid))\n",
        "model.evaluate(X_test, y_test)"
      ],
      "metadata": {
        "colab": {
          "base_uri": "https://localhost:8080/",
          "height": 432
        },
        "id": "T7Mt4hNRhN_S",
        "outputId": "b1d95d13-d8a0-40eb-f9aa-c5ddc9596ba6"
      },
      "execution_count": null,
      "outputs": [
        {
          "output_type": "stream",
          "name": "stdout",
          "text": [
            "Epoch 1/10\n",
            "9219/9219 [==============================] - 1240s 134ms/step - loss: 0.0814 - accuracy: 0.9757 - val_loss: 0.0392 - val_accuracy: 0.9942\n",
            "Epoch 2/10\n",
            " 505/9219 [>.............................] - ETA: 17:48 - loss: 0.0489 - accuracy: 0.9861"
          ]
        },
        {
          "output_type": "error",
          "ename": "KeyboardInterrupt",
          "evalue": "ignored",
          "traceback": [
            "\u001b[0;31m---------------------------------------------------------------------------\u001b[0m",
            "\u001b[0;31mKeyboardInterrupt\u001b[0m                         Traceback (most recent call last)",
            "\u001b[0;32m<ipython-input-55-69c5097be2bb>\u001b[0m in \u001b[0;36m<cell line: 4>\u001b[0;34m()\u001b[0m\n\u001b[1;32m      2\u001b[0m               metrics=[\"accuracy\"])\n\u001b[1;32m      3\u001b[0m \u001b[0;34m\u001b[0m\u001b[0m\n\u001b[0;32m----> 4\u001b[0;31m \u001b[0mmodel\u001b[0m\u001b[0;34m.\u001b[0m\u001b[0mfit\u001b[0m\u001b[0;34m(\u001b[0m\u001b[0mX_train\u001b[0m\u001b[0;34m,\u001b[0m \u001b[0my_train\u001b[0m\u001b[0;34m,\u001b[0m \u001b[0mepochs\u001b[0m\u001b[0;34m=\u001b[0m\u001b[0;36m10\u001b[0m\u001b[0;34m,\u001b[0m \u001b[0mvalidation_data\u001b[0m\u001b[0;34m=\u001b[0m\u001b[0;34m(\u001b[0m\u001b[0mX_valid\u001b[0m\u001b[0;34m,\u001b[0m \u001b[0my_valid\u001b[0m\u001b[0;34m)\u001b[0m\u001b[0;34m)\u001b[0m\u001b[0;34m\u001b[0m\u001b[0;34m\u001b[0m\u001b[0m\n\u001b[0m\u001b[1;32m      5\u001b[0m \u001b[0mmodel\u001b[0m\u001b[0;34m.\u001b[0m\u001b[0mevaluate\u001b[0m\u001b[0;34m(\u001b[0m\u001b[0mX_test\u001b[0m\u001b[0;34m,\u001b[0m \u001b[0my_test\u001b[0m\u001b[0;34m)\u001b[0m\u001b[0;34m\u001b[0m\u001b[0;34m\u001b[0m\u001b[0m\n",
            "\u001b[0;32m/usr/local/lib/python3.10/dist-packages/keras/utils/traceback_utils.py\u001b[0m in \u001b[0;36merror_handler\u001b[0;34m(*args, **kwargs)\u001b[0m\n\u001b[1;32m     63\u001b[0m         \u001b[0mfiltered_tb\u001b[0m \u001b[0;34m=\u001b[0m \u001b[0;32mNone\u001b[0m\u001b[0;34m\u001b[0m\u001b[0;34m\u001b[0m\u001b[0m\n\u001b[1;32m     64\u001b[0m         \u001b[0;32mtry\u001b[0m\u001b[0;34m:\u001b[0m\u001b[0;34m\u001b[0m\u001b[0;34m\u001b[0m\u001b[0m\n\u001b[0;32m---> 65\u001b[0;31m             \u001b[0;32mreturn\u001b[0m \u001b[0mfn\u001b[0m\u001b[0;34m(\u001b[0m\u001b[0;34m*\u001b[0m\u001b[0margs\u001b[0m\u001b[0;34m,\u001b[0m \u001b[0;34m**\u001b[0m\u001b[0mkwargs\u001b[0m\u001b[0;34m)\u001b[0m\u001b[0;34m\u001b[0m\u001b[0;34m\u001b[0m\u001b[0m\n\u001b[0m\u001b[1;32m     66\u001b[0m         \u001b[0;32mexcept\u001b[0m \u001b[0mException\u001b[0m \u001b[0;32mas\u001b[0m \u001b[0me\u001b[0m\u001b[0;34m:\u001b[0m\u001b[0;34m\u001b[0m\u001b[0;34m\u001b[0m\u001b[0m\n\u001b[1;32m     67\u001b[0m             \u001b[0mfiltered_tb\u001b[0m \u001b[0;34m=\u001b[0m \u001b[0m_process_traceback_frames\u001b[0m\u001b[0;34m(\u001b[0m\u001b[0me\u001b[0m\u001b[0;34m.\u001b[0m\u001b[0m__traceback__\u001b[0m\u001b[0;34m)\u001b[0m\u001b[0;34m\u001b[0m\u001b[0;34m\u001b[0m\u001b[0m\n",
            "\u001b[0;32m/usr/local/lib/python3.10/dist-packages/keras/engine/training.py\u001b[0m in \u001b[0;36mfit\u001b[0;34m(self, x, y, batch_size, epochs, verbose, callbacks, validation_split, validation_data, shuffle, class_weight, sample_weight, initial_epoch, steps_per_epoch, validation_steps, validation_batch_size, validation_freq, max_queue_size, workers, use_multiprocessing)\u001b[0m\n\u001b[1;32m   1683\u001b[0m                         ):\n\u001b[1;32m   1684\u001b[0m                             \u001b[0mcallbacks\u001b[0m\u001b[0;34m.\u001b[0m\u001b[0mon_train_batch_begin\u001b[0m\u001b[0;34m(\u001b[0m\u001b[0mstep\u001b[0m\u001b[0;34m)\u001b[0m\u001b[0;34m\u001b[0m\u001b[0;34m\u001b[0m\u001b[0m\n\u001b[0;32m-> 1685\u001b[0;31m                             \u001b[0mtmp_logs\u001b[0m \u001b[0;34m=\u001b[0m \u001b[0mself\u001b[0m\u001b[0;34m.\u001b[0m\u001b[0mtrain_function\u001b[0m\u001b[0;34m(\u001b[0m\u001b[0miterator\u001b[0m\u001b[0;34m)\u001b[0m\u001b[0;34m\u001b[0m\u001b[0;34m\u001b[0m\u001b[0m\n\u001b[0m\u001b[1;32m   1686\u001b[0m                             \u001b[0;32mif\u001b[0m \u001b[0mdata_handler\u001b[0m\u001b[0;34m.\u001b[0m\u001b[0mshould_sync\u001b[0m\u001b[0;34m:\u001b[0m\u001b[0;34m\u001b[0m\u001b[0;34m\u001b[0m\u001b[0m\n\u001b[1;32m   1687\u001b[0m                                 \u001b[0mcontext\u001b[0m\u001b[0;34m.\u001b[0m\u001b[0masync_wait\u001b[0m\u001b[0;34m(\u001b[0m\u001b[0;34m)\u001b[0m\u001b[0;34m\u001b[0m\u001b[0;34m\u001b[0m\u001b[0m\n",
            "\u001b[0;32m/usr/local/lib/python3.10/dist-packages/tensorflow/python/util/traceback_utils.py\u001b[0m in \u001b[0;36merror_handler\u001b[0;34m(*args, **kwargs)\u001b[0m\n\u001b[1;32m    148\u001b[0m     \u001b[0mfiltered_tb\u001b[0m \u001b[0;34m=\u001b[0m \u001b[0;32mNone\u001b[0m\u001b[0;34m\u001b[0m\u001b[0;34m\u001b[0m\u001b[0m\n\u001b[1;32m    149\u001b[0m     \u001b[0;32mtry\u001b[0m\u001b[0;34m:\u001b[0m\u001b[0;34m\u001b[0m\u001b[0;34m\u001b[0m\u001b[0m\n\u001b[0;32m--> 150\u001b[0;31m       \u001b[0;32mreturn\u001b[0m \u001b[0mfn\u001b[0m\u001b[0;34m(\u001b[0m\u001b[0;34m*\u001b[0m\u001b[0margs\u001b[0m\u001b[0;34m,\u001b[0m \u001b[0;34m**\u001b[0m\u001b[0mkwargs\u001b[0m\u001b[0;34m)\u001b[0m\u001b[0;34m\u001b[0m\u001b[0;34m\u001b[0m\u001b[0m\n\u001b[0m\u001b[1;32m    151\u001b[0m     \u001b[0;32mexcept\u001b[0m \u001b[0mException\u001b[0m \u001b[0;32mas\u001b[0m \u001b[0me\u001b[0m\u001b[0;34m:\u001b[0m\u001b[0;34m\u001b[0m\u001b[0;34m\u001b[0m\u001b[0m\n\u001b[1;32m    152\u001b[0m       \u001b[0mfiltered_tb\u001b[0m \u001b[0;34m=\u001b[0m \u001b[0m_process_traceback_frames\u001b[0m\u001b[0;34m(\u001b[0m\u001b[0me\u001b[0m\u001b[0;34m.\u001b[0m\u001b[0m__traceback__\u001b[0m\u001b[0;34m)\u001b[0m\u001b[0;34m\u001b[0m\u001b[0;34m\u001b[0m\u001b[0m\n",
            "\u001b[0;32m/usr/local/lib/python3.10/dist-packages/tensorflow/python/eager/polymorphic_function/polymorphic_function.py\u001b[0m in \u001b[0;36m__call__\u001b[0;34m(self, *args, **kwds)\u001b[0m\n\u001b[1;32m    892\u001b[0m \u001b[0;34m\u001b[0m\u001b[0m\n\u001b[1;32m    893\u001b[0m       \u001b[0;32mwith\u001b[0m \u001b[0mOptionalXlaContext\u001b[0m\u001b[0;34m(\u001b[0m\u001b[0mself\u001b[0m\u001b[0;34m.\u001b[0m\u001b[0m_jit_compile\u001b[0m\u001b[0;34m)\u001b[0m\u001b[0;34m:\u001b[0m\u001b[0;34m\u001b[0m\u001b[0;34m\u001b[0m\u001b[0m\n\u001b[0;32m--> 894\u001b[0;31m         \u001b[0mresult\u001b[0m \u001b[0;34m=\u001b[0m \u001b[0mself\u001b[0m\u001b[0;34m.\u001b[0m\u001b[0m_call\u001b[0m\u001b[0;34m(\u001b[0m\u001b[0;34m*\u001b[0m\u001b[0margs\u001b[0m\u001b[0;34m,\u001b[0m \u001b[0;34m**\u001b[0m\u001b[0mkwds\u001b[0m\u001b[0;34m)\u001b[0m\u001b[0;34m\u001b[0m\u001b[0;34m\u001b[0m\u001b[0m\n\u001b[0m\u001b[1;32m    895\u001b[0m \u001b[0;34m\u001b[0m\u001b[0m\n\u001b[1;32m    896\u001b[0m       \u001b[0mnew_tracing_count\u001b[0m \u001b[0;34m=\u001b[0m \u001b[0mself\u001b[0m\u001b[0;34m.\u001b[0m\u001b[0mexperimental_get_tracing_count\u001b[0m\u001b[0;34m(\u001b[0m\u001b[0;34m)\u001b[0m\u001b[0;34m\u001b[0m\u001b[0;34m\u001b[0m\u001b[0m\n",
            "\u001b[0;32m/usr/local/lib/python3.10/dist-packages/tensorflow/python/eager/polymorphic_function/polymorphic_function.py\u001b[0m in \u001b[0;36m_call\u001b[0;34m(self, *args, **kwds)\u001b[0m\n\u001b[1;32m    924\u001b[0m       \u001b[0;31m# In this case we have created variables on the first call, so we run the\u001b[0m\u001b[0;34m\u001b[0m\u001b[0;34m\u001b[0m\u001b[0m\n\u001b[1;32m    925\u001b[0m       \u001b[0;31m# defunned version which is guaranteed to never create variables.\u001b[0m\u001b[0;34m\u001b[0m\u001b[0;34m\u001b[0m\u001b[0m\n\u001b[0;32m--> 926\u001b[0;31m       \u001b[0;32mreturn\u001b[0m \u001b[0mself\u001b[0m\u001b[0;34m.\u001b[0m\u001b[0m_no_variable_creation_fn\u001b[0m\u001b[0;34m(\u001b[0m\u001b[0;34m*\u001b[0m\u001b[0margs\u001b[0m\u001b[0;34m,\u001b[0m \u001b[0;34m**\u001b[0m\u001b[0mkwds\u001b[0m\u001b[0;34m)\u001b[0m  \u001b[0;31m# pylint: disable=not-callable\u001b[0m\u001b[0;34m\u001b[0m\u001b[0;34m\u001b[0m\u001b[0m\n\u001b[0m\u001b[1;32m    927\u001b[0m     \u001b[0;32melif\u001b[0m \u001b[0mself\u001b[0m\u001b[0;34m.\u001b[0m\u001b[0m_variable_creation_fn\u001b[0m \u001b[0;32mis\u001b[0m \u001b[0;32mnot\u001b[0m \u001b[0;32mNone\u001b[0m\u001b[0;34m:\u001b[0m\u001b[0;34m\u001b[0m\u001b[0;34m\u001b[0m\u001b[0m\n\u001b[1;32m    928\u001b[0m       \u001b[0;31m# Release the lock early so that multiple threads can perform the call\u001b[0m\u001b[0;34m\u001b[0m\u001b[0;34m\u001b[0m\u001b[0m\n",
            "\u001b[0;32m/usr/local/lib/python3.10/dist-packages/tensorflow/python/eager/polymorphic_function/tracing_compiler.py\u001b[0m in \u001b[0;36m__call__\u001b[0;34m(self, *args, **kwargs)\u001b[0m\n\u001b[1;32m    141\u001b[0m       (concrete_function,\n\u001b[1;32m    142\u001b[0m        filtered_flat_args) = self._maybe_define_function(args, kwargs)\n\u001b[0;32m--> 143\u001b[0;31m     return concrete_function._call_flat(\n\u001b[0m\u001b[1;32m    144\u001b[0m         filtered_flat_args, captured_inputs=concrete_function.captured_inputs)  # pylint: disable=protected-access\n\u001b[1;32m    145\u001b[0m \u001b[0;34m\u001b[0m\u001b[0m\n",
            "\u001b[0;32m/usr/local/lib/python3.10/dist-packages/tensorflow/python/eager/polymorphic_function/monomorphic_function.py\u001b[0m in \u001b[0;36m_call_flat\u001b[0;34m(self, args, captured_inputs, cancellation_manager)\u001b[0m\n\u001b[1;32m   1755\u001b[0m         and executing_eagerly):\n\u001b[1;32m   1756\u001b[0m       \u001b[0;31m# No tape is watching; skip to running the function.\u001b[0m\u001b[0;34m\u001b[0m\u001b[0;34m\u001b[0m\u001b[0m\n\u001b[0;32m-> 1757\u001b[0;31m       return self._build_call_outputs(self._inference_function.call(\n\u001b[0m\u001b[1;32m   1758\u001b[0m           ctx, args, cancellation_manager=cancellation_manager))\n\u001b[1;32m   1759\u001b[0m     forward_backward = self._select_forward_and_backward_functions(\n",
            "\u001b[0;32m/usr/local/lib/python3.10/dist-packages/tensorflow/python/eager/polymorphic_function/monomorphic_function.py\u001b[0m in \u001b[0;36mcall\u001b[0;34m(self, ctx, args, cancellation_manager)\u001b[0m\n\u001b[1;32m    379\u001b[0m       \u001b[0;32mwith\u001b[0m \u001b[0m_InterpolateFunctionError\u001b[0m\u001b[0;34m(\u001b[0m\u001b[0mself\u001b[0m\u001b[0;34m)\u001b[0m\u001b[0;34m:\u001b[0m\u001b[0;34m\u001b[0m\u001b[0;34m\u001b[0m\u001b[0m\n\u001b[1;32m    380\u001b[0m         \u001b[0;32mif\u001b[0m \u001b[0mcancellation_manager\u001b[0m \u001b[0;32mis\u001b[0m \u001b[0;32mNone\u001b[0m\u001b[0;34m:\u001b[0m\u001b[0;34m\u001b[0m\u001b[0;34m\u001b[0m\u001b[0m\n\u001b[0;32m--> 381\u001b[0;31m           outputs = execute.execute(\n\u001b[0m\u001b[1;32m    382\u001b[0m               \u001b[0mstr\u001b[0m\u001b[0;34m(\u001b[0m\u001b[0mself\u001b[0m\u001b[0;34m.\u001b[0m\u001b[0msignature\u001b[0m\u001b[0;34m.\u001b[0m\u001b[0mname\u001b[0m\u001b[0;34m)\u001b[0m\u001b[0;34m,\u001b[0m\u001b[0;34m\u001b[0m\u001b[0;34m\u001b[0m\u001b[0m\n\u001b[1;32m    383\u001b[0m               \u001b[0mnum_outputs\u001b[0m\u001b[0;34m=\u001b[0m\u001b[0mself\u001b[0m\u001b[0;34m.\u001b[0m\u001b[0m_num_outputs\u001b[0m\u001b[0;34m,\u001b[0m\u001b[0;34m\u001b[0m\u001b[0;34m\u001b[0m\u001b[0m\n",
            "\u001b[0;32m/usr/local/lib/python3.10/dist-packages/tensorflow/python/eager/execute.py\u001b[0m in \u001b[0;36mquick_execute\u001b[0;34m(op_name, num_outputs, inputs, attrs, ctx, name)\u001b[0m\n\u001b[1;32m     50\u001b[0m   \u001b[0;32mtry\u001b[0m\u001b[0;34m:\u001b[0m\u001b[0;34m\u001b[0m\u001b[0;34m\u001b[0m\u001b[0m\n\u001b[1;32m     51\u001b[0m     \u001b[0mctx\u001b[0m\u001b[0;34m.\u001b[0m\u001b[0mensure_initialized\u001b[0m\u001b[0;34m(\u001b[0m\u001b[0;34m)\u001b[0m\u001b[0;34m\u001b[0m\u001b[0;34m\u001b[0m\u001b[0m\n\u001b[0;32m---> 52\u001b[0;31m     tensors = pywrap_tfe.TFE_Py_Execute(ctx._handle, device_name, op_name,\n\u001b[0m\u001b[1;32m     53\u001b[0m                                         inputs, attrs, num_outputs)\n\u001b[1;32m     54\u001b[0m   \u001b[0;32mexcept\u001b[0m \u001b[0mcore\u001b[0m\u001b[0;34m.\u001b[0m\u001b[0m_NotOkStatusException\u001b[0m \u001b[0;32mas\u001b[0m \u001b[0me\u001b[0m\u001b[0;34m:\u001b[0m\u001b[0;34m\u001b[0m\u001b[0;34m\u001b[0m\u001b[0m\n",
            "\u001b[0;31mKeyboardInterrupt\u001b[0m: "
          ]
        }
      ]
    }
  ]
}