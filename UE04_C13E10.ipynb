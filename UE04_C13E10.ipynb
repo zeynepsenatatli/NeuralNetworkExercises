{
  "nbformat": 4,
  "nbformat_minor": 0,
  "metadata": {
    "colab": {
      "provenance": [],
      "authorship_tag": "ABX9TyOc1PoBdkiNnvQvrfA4PunM",
      "include_colab_link": true
    },
    "kernelspec": {
      "name": "python3",
      "display_name": "Python 3"
    },
    "language_info": {
      "name": "python"
    },
    "widgets": {
      "application/vnd.jupyter.widget-state+json": {
        "dbdc536d16c146938468a66a2c2876cf": {
          "model_module": "@jupyter-widgets/controls",
          "model_name": "HBoxModel",
          "model_module_version": "1.5.0",
          "state": {
            "_dom_classes": [],
            "_model_module": "@jupyter-widgets/controls",
            "_model_module_version": "1.5.0",
            "_model_name": "HBoxModel",
            "_view_count": null,
            "_view_module": "@jupyter-widgets/controls",
            "_view_module_version": "1.5.0",
            "_view_name": "HBoxView",
            "box_style": "",
            "children": [
              "IPY_MODEL_e908783650754a6890c390de91c25457",
              "IPY_MODEL_29dcb3d2b58d43eda02b74ce293cee84",
              "IPY_MODEL_da64231e025642af9bb7e965356f2134"
            ],
            "layout": "IPY_MODEL_3c22548eebb94f699959abad838805f2"
          }
        },
        "e908783650754a6890c390de91c25457": {
          "model_module": "@jupyter-widgets/controls",
          "model_name": "HTMLModel",
          "model_module_version": "1.5.0",
          "state": {
            "_dom_classes": [],
            "_model_module": "@jupyter-widgets/controls",
            "_model_module_version": "1.5.0",
            "_model_name": "HTMLModel",
            "_view_count": null,
            "_view_module": "@jupyter-widgets/controls",
            "_view_module_version": "1.5.0",
            "_view_name": "HTMLView",
            "description": "",
            "description_tooltip": null,
            "layout": "IPY_MODEL_766cd12e25a34ddaa56bbe1f0b61f680",
            "placeholder": "​",
            "style": "IPY_MODEL_7da83a75db3c4f9b8627a3f96a90d12c",
            "value": "Dl Completed...: 100%"
          }
        },
        "29dcb3d2b58d43eda02b74ce293cee84": {
          "model_module": "@jupyter-widgets/controls",
          "model_name": "FloatProgressModel",
          "model_module_version": "1.5.0",
          "state": {
            "_dom_classes": [],
            "_model_module": "@jupyter-widgets/controls",
            "_model_module_version": "1.5.0",
            "_model_name": "FloatProgressModel",
            "_view_count": null,
            "_view_module": "@jupyter-widgets/controls",
            "_view_module_version": "1.5.0",
            "_view_name": "ProgressView",
            "bar_style": "success",
            "description": "",
            "description_tooltip": null,
            "layout": "IPY_MODEL_7991788780f24b0887dfdb3922441561",
            "max": 1,
            "min": 0,
            "orientation": "horizontal",
            "style": "IPY_MODEL_1308c1e94a2e4e06921cc5755b68fab4",
            "value": 1
          }
        },
        "da64231e025642af9bb7e965356f2134": {
          "model_module": "@jupyter-widgets/controls",
          "model_name": "HTMLModel",
          "model_module_version": "1.5.0",
          "state": {
            "_dom_classes": [],
            "_model_module": "@jupyter-widgets/controls",
            "_model_module_version": "1.5.0",
            "_model_name": "HTMLModel",
            "_view_count": null,
            "_view_module": "@jupyter-widgets/controls",
            "_view_module_version": "1.5.0",
            "_view_name": "HTMLView",
            "description": "",
            "description_tooltip": null,
            "layout": "IPY_MODEL_3461868d5d1c4e829995a55fd67c0d05",
            "placeholder": "​",
            "style": "IPY_MODEL_9a2d60df0869494b83263789fd4ef2d5",
            "value": " 1/1 [00:04&lt;00:00,  4.23s/ url]"
          }
        },
        "3c22548eebb94f699959abad838805f2": {
          "model_module": "@jupyter-widgets/base",
          "model_name": "LayoutModel",
          "model_module_version": "1.2.0",
          "state": {
            "_model_module": "@jupyter-widgets/base",
            "_model_module_version": "1.2.0",
            "_model_name": "LayoutModel",
            "_view_count": null,
            "_view_module": "@jupyter-widgets/base",
            "_view_module_version": "1.2.0",
            "_view_name": "LayoutView",
            "align_content": null,
            "align_items": null,
            "align_self": null,
            "border": null,
            "bottom": null,
            "display": null,
            "flex": null,
            "flex_flow": null,
            "grid_area": null,
            "grid_auto_columns": null,
            "grid_auto_flow": null,
            "grid_auto_rows": null,
            "grid_column": null,
            "grid_gap": null,
            "grid_row": null,
            "grid_template_areas": null,
            "grid_template_columns": null,
            "grid_template_rows": null,
            "height": null,
            "justify_content": null,
            "justify_items": null,
            "left": null,
            "margin": null,
            "max_height": null,
            "max_width": null,
            "min_height": null,
            "min_width": null,
            "object_fit": null,
            "object_position": null,
            "order": null,
            "overflow": null,
            "overflow_x": null,
            "overflow_y": null,
            "padding": null,
            "right": null,
            "top": null,
            "visibility": null,
            "width": null
          }
        },
        "766cd12e25a34ddaa56bbe1f0b61f680": {
          "model_module": "@jupyter-widgets/base",
          "model_name": "LayoutModel",
          "model_module_version": "1.2.0",
          "state": {
            "_model_module": "@jupyter-widgets/base",
            "_model_module_version": "1.2.0",
            "_model_name": "LayoutModel",
            "_view_count": null,
            "_view_module": "@jupyter-widgets/base",
            "_view_module_version": "1.2.0",
            "_view_name": "LayoutView",
            "align_content": null,
            "align_items": null,
            "align_self": null,
            "border": null,
            "bottom": null,
            "display": null,
            "flex": null,
            "flex_flow": null,
            "grid_area": null,
            "grid_auto_columns": null,
            "grid_auto_flow": null,
            "grid_auto_rows": null,
            "grid_column": null,
            "grid_gap": null,
            "grid_row": null,
            "grid_template_areas": null,
            "grid_template_columns": null,
            "grid_template_rows": null,
            "height": null,
            "justify_content": null,
            "justify_items": null,
            "left": null,
            "margin": null,
            "max_height": null,
            "max_width": null,
            "min_height": null,
            "min_width": null,
            "object_fit": null,
            "object_position": null,
            "order": null,
            "overflow": null,
            "overflow_x": null,
            "overflow_y": null,
            "padding": null,
            "right": null,
            "top": null,
            "visibility": null,
            "width": null
          }
        },
        "7da83a75db3c4f9b8627a3f96a90d12c": {
          "model_module": "@jupyter-widgets/controls",
          "model_name": "DescriptionStyleModel",
          "model_module_version": "1.5.0",
          "state": {
            "_model_module": "@jupyter-widgets/controls",
            "_model_module_version": "1.5.0",
            "_model_name": "DescriptionStyleModel",
            "_view_count": null,
            "_view_module": "@jupyter-widgets/base",
            "_view_module_version": "1.2.0",
            "_view_name": "StyleView",
            "description_width": ""
          }
        },
        "7991788780f24b0887dfdb3922441561": {
          "model_module": "@jupyter-widgets/base",
          "model_name": "LayoutModel",
          "model_module_version": "1.2.0",
          "state": {
            "_model_module": "@jupyter-widgets/base",
            "_model_module_version": "1.2.0",
            "_model_name": "LayoutModel",
            "_view_count": null,
            "_view_module": "@jupyter-widgets/base",
            "_view_module_version": "1.2.0",
            "_view_name": "LayoutView",
            "align_content": null,
            "align_items": null,
            "align_self": null,
            "border": null,
            "bottom": null,
            "display": null,
            "flex": null,
            "flex_flow": null,
            "grid_area": null,
            "grid_auto_columns": null,
            "grid_auto_flow": null,
            "grid_auto_rows": null,
            "grid_column": null,
            "grid_gap": null,
            "grid_row": null,
            "grid_template_areas": null,
            "grid_template_columns": null,
            "grid_template_rows": null,
            "height": null,
            "justify_content": null,
            "justify_items": null,
            "left": null,
            "margin": null,
            "max_height": null,
            "max_width": null,
            "min_height": null,
            "min_width": null,
            "object_fit": null,
            "object_position": null,
            "order": null,
            "overflow": null,
            "overflow_x": null,
            "overflow_y": null,
            "padding": null,
            "right": null,
            "top": null,
            "visibility": null,
            "width": "20px"
          }
        },
        "1308c1e94a2e4e06921cc5755b68fab4": {
          "model_module": "@jupyter-widgets/controls",
          "model_name": "ProgressStyleModel",
          "model_module_version": "1.5.0",
          "state": {
            "_model_module": "@jupyter-widgets/controls",
            "_model_module_version": "1.5.0",
            "_model_name": "ProgressStyleModel",
            "_view_count": null,
            "_view_module": "@jupyter-widgets/base",
            "_view_module_version": "1.2.0",
            "_view_name": "StyleView",
            "bar_color": null,
            "description_width": ""
          }
        },
        "3461868d5d1c4e829995a55fd67c0d05": {
          "model_module": "@jupyter-widgets/base",
          "model_name": "LayoutModel",
          "model_module_version": "1.2.0",
          "state": {
            "_model_module": "@jupyter-widgets/base",
            "_model_module_version": "1.2.0",
            "_model_name": "LayoutModel",
            "_view_count": null,
            "_view_module": "@jupyter-widgets/base",
            "_view_module_version": "1.2.0",
            "_view_name": "LayoutView",
            "align_content": null,
            "align_items": null,
            "align_self": null,
            "border": null,
            "bottom": null,
            "display": null,
            "flex": null,
            "flex_flow": null,
            "grid_area": null,
            "grid_auto_columns": null,
            "grid_auto_flow": null,
            "grid_auto_rows": null,
            "grid_column": null,
            "grid_gap": null,
            "grid_row": null,
            "grid_template_areas": null,
            "grid_template_columns": null,
            "grid_template_rows": null,
            "height": null,
            "justify_content": null,
            "justify_items": null,
            "left": null,
            "margin": null,
            "max_height": null,
            "max_width": null,
            "min_height": null,
            "min_width": null,
            "object_fit": null,
            "object_position": null,
            "order": null,
            "overflow": null,
            "overflow_x": null,
            "overflow_y": null,
            "padding": null,
            "right": null,
            "top": null,
            "visibility": null,
            "width": null
          }
        },
        "9a2d60df0869494b83263789fd4ef2d5": {
          "model_module": "@jupyter-widgets/controls",
          "model_name": "DescriptionStyleModel",
          "model_module_version": "1.5.0",
          "state": {
            "_model_module": "@jupyter-widgets/controls",
            "_model_module_version": "1.5.0",
            "_model_name": "DescriptionStyleModel",
            "_view_count": null,
            "_view_module": "@jupyter-widgets/base",
            "_view_module_version": "1.2.0",
            "_view_name": "StyleView",
            "description_width": ""
          }
        },
        "c384f29f4f3d40eab3358b443337f9ab": {
          "model_module": "@jupyter-widgets/controls",
          "model_name": "HBoxModel",
          "model_module_version": "1.5.0",
          "state": {
            "_dom_classes": [],
            "_model_module": "@jupyter-widgets/controls",
            "_model_module_version": "1.5.0",
            "_model_name": "HBoxModel",
            "_view_count": null,
            "_view_module": "@jupyter-widgets/controls",
            "_view_module_version": "1.5.0",
            "_view_name": "HBoxView",
            "box_style": "",
            "children": [
              "IPY_MODEL_281b37afb11d4620bb154a0816a4c420",
              "IPY_MODEL_8570960c56e84528b9f222f9a10adbc6",
              "IPY_MODEL_ac9dc48f991a4693936c4e4531f890b1"
            ],
            "layout": "IPY_MODEL_dfe9b463123145a3bf28758f4efb8f61"
          }
        },
        "281b37afb11d4620bb154a0816a4c420": {
          "model_module": "@jupyter-widgets/controls",
          "model_name": "HTMLModel",
          "model_module_version": "1.5.0",
          "state": {
            "_dom_classes": [],
            "_model_module": "@jupyter-widgets/controls",
            "_model_module_version": "1.5.0",
            "_model_name": "HTMLModel",
            "_view_count": null,
            "_view_module": "@jupyter-widgets/controls",
            "_view_module_version": "1.5.0",
            "_view_name": "HTMLView",
            "description": "",
            "description_tooltip": null,
            "layout": "IPY_MODEL_265b51e0a4644996a28408b3d950124c",
            "placeholder": "​",
            "style": "IPY_MODEL_a37353ee0be047aaaded87ff5a859d16",
            "value": "Dl Size...: 100%"
          }
        },
        "8570960c56e84528b9f222f9a10adbc6": {
          "model_module": "@jupyter-widgets/controls",
          "model_name": "FloatProgressModel",
          "model_module_version": "1.5.0",
          "state": {
            "_dom_classes": [],
            "_model_module": "@jupyter-widgets/controls",
            "_model_module_version": "1.5.0",
            "_model_name": "FloatProgressModel",
            "_view_count": null,
            "_view_module": "@jupyter-widgets/controls",
            "_view_module_version": "1.5.0",
            "_view_name": "ProgressView",
            "bar_style": "success",
            "description": "",
            "description_tooltip": null,
            "layout": "IPY_MODEL_7d2d6d43b2b34b7ba44b5174558d6420",
            "max": 1,
            "min": 0,
            "orientation": "horizontal",
            "style": "IPY_MODEL_1caaeea13bcb467ca589897d72ed1062",
            "value": 1
          }
        },
        "ac9dc48f991a4693936c4e4531f890b1": {
          "model_module": "@jupyter-widgets/controls",
          "model_name": "HTMLModel",
          "model_module_version": "1.5.0",
          "state": {
            "_dom_classes": [],
            "_model_module": "@jupyter-widgets/controls",
            "_model_module_version": "1.5.0",
            "_model_name": "HTMLModel",
            "_view_count": null,
            "_view_module": "@jupyter-widgets/controls",
            "_view_module_version": "1.5.0",
            "_view_name": "HTMLView",
            "description": "",
            "description_tooltip": null,
            "layout": "IPY_MODEL_271aff66c05946828256e09b8683ea13",
            "placeholder": "​",
            "style": "IPY_MODEL_57c5192d0cce4fba905f3d8f7507a265",
            "value": " 80/80 [00:04&lt;00:00, 50.80 MiB/s]"
          }
        },
        "dfe9b463123145a3bf28758f4efb8f61": {
          "model_module": "@jupyter-widgets/base",
          "model_name": "LayoutModel",
          "model_module_version": "1.2.0",
          "state": {
            "_model_module": "@jupyter-widgets/base",
            "_model_module_version": "1.2.0",
            "_model_name": "LayoutModel",
            "_view_count": null,
            "_view_module": "@jupyter-widgets/base",
            "_view_module_version": "1.2.0",
            "_view_name": "LayoutView",
            "align_content": null,
            "align_items": null,
            "align_self": null,
            "border": null,
            "bottom": null,
            "display": null,
            "flex": null,
            "flex_flow": null,
            "grid_area": null,
            "grid_auto_columns": null,
            "grid_auto_flow": null,
            "grid_auto_rows": null,
            "grid_column": null,
            "grid_gap": null,
            "grid_row": null,
            "grid_template_areas": null,
            "grid_template_columns": null,
            "grid_template_rows": null,
            "height": null,
            "justify_content": null,
            "justify_items": null,
            "left": null,
            "margin": null,
            "max_height": null,
            "max_width": null,
            "min_height": null,
            "min_width": null,
            "object_fit": null,
            "object_position": null,
            "order": null,
            "overflow": null,
            "overflow_x": null,
            "overflow_y": null,
            "padding": null,
            "right": null,
            "top": null,
            "visibility": null,
            "width": null
          }
        },
        "265b51e0a4644996a28408b3d950124c": {
          "model_module": "@jupyter-widgets/base",
          "model_name": "LayoutModel",
          "model_module_version": "1.2.0",
          "state": {
            "_model_module": "@jupyter-widgets/base",
            "_model_module_version": "1.2.0",
            "_model_name": "LayoutModel",
            "_view_count": null,
            "_view_module": "@jupyter-widgets/base",
            "_view_module_version": "1.2.0",
            "_view_name": "LayoutView",
            "align_content": null,
            "align_items": null,
            "align_self": null,
            "border": null,
            "bottom": null,
            "display": null,
            "flex": null,
            "flex_flow": null,
            "grid_area": null,
            "grid_auto_columns": null,
            "grid_auto_flow": null,
            "grid_auto_rows": null,
            "grid_column": null,
            "grid_gap": null,
            "grid_row": null,
            "grid_template_areas": null,
            "grid_template_columns": null,
            "grid_template_rows": null,
            "height": null,
            "justify_content": null,
            "justify_items": null,
            "left": null,
            "margin": null,
            "max_height": null,
            "max_width": null,
            "min_height": null,
            "min_width": null,
            "object_fit": null,
            "object_position": null,
            "order": null,
            "overflow": null,
            "overflow_x": null,
            "overflow_y": null,
            "padding": null,
            "right": null,
            "top": null,
            "visibility": null,
            "width": null
          }
        },
        "a37353ee0be047aaaded87ff5a859d16": {
          "model_module": "@jupyter-widgets/controls",
          "model_name": "DescriptionStyleModel",
          "model_module_version": "1.5.0",
          "state": {
            "_model_module": "@jupyter-widgets/controls",
            "_model_module_version": "1.5.0",
            "_model_name": "DescriptionStyleModel",
            "_view_count": null,
            "_view_module": "@jupyter-widgets/base",
            "_view_module_version": "1.2.0",
            "_view_name": "StyleView",
            "description_width": ""
          }
        },
        "7d2d6d43b2b34b7ba44b5174558d6420": {
          "model_module": "@jupyter-widgets/base",
          "model_name": "LayoutModel",
          "model_module_version": "1.2.0",
          "state": {
            "_model_module": "@jupyter-widgets/base",
            "_model_module_version": "1.2.0",
            "_model_name": "LayoutModel",
            "_view_count": null,
            "_view_module": "@jupyter-widgets/base",
            "_view_module_version": "1.2.0",
            "_view_name": "LayoutView",
            "align_content": null,
            "align_items": null,
            "align_self": null,
            "border": null,
            "bottom": null,
            "display": null,
            "flex": null,
            "flex_flow": null,
            "grid_area": null,
            "grid_auto_columns": null,
            "grid_auto_flow": null,
            "grid_auto_rows": null,
            "grid_column": null,
            "grid_gap": null,
            "grid_row": null,
            "grid_template_areas": null,
            "grid_template_columns": null,
            "grid_template_rows": null,
            "height": null,
            "justify_content": null,
            "justify_items": null,
            "left": null,
            "margin": null,
            "max_height": null,
            "max_width": null,
            "min_height": null,
            "min_width": null,
            "object_fit": null,
            "object_position": null,
            "order": null,
            "overflow": null,
            "overflow_x": null,
            "overflow_y": null,
            "padding": null,
            "right": null,
            "top": null,
            "visibility": null,
            "width": "20px"
          }
        },
        "1caaeea13bcb467ca589897d72ed1062": {
          "model_module": "@jupyter-widgets/controls",
          "model_name": "ProgressStyleModel",
          "model_module_version": "1.5.0",
          "state": {
            "_model_module": "@jupyter-widgets/controls",
            "_model_module_version": "1.5.0",
            "_model_name": "ProgressStyleModel",
            "_view_count": null,
            "_view_module": "@jupyter-widgets/base",
            "_view_module_version": "1.2.0",
            "_view_name": "StyleView",
            "bar_color": null,
            "description_width": ""
          }
        },
        "271aff66c05946828256e09b8683ea13": {
          "model_module": "@jupyter-widgets/base",
          "model_name": "LayoutModel",
          "model_module_version": "1.2.0",
          "state": {
            "_model_module": "@jupyter-widgets/base",
            "_model_module_version": "1.2.0",
            "_model_name": "LayoutModel",
            "_view_count": null,
            "_view_module": "@jupyter-widgets/base",
            "_view_module_version": "1.2.0",
            "_view_name": "LayoutView",
            "align_content": null,
            "align_items": null,
            "align_self": null,
            "border": null,
            "bottom": null,
            "display": null,
            "flex": null,
            "flex_flow": null,
            "grid_area": null,
            "grid_auto_columns": null,
            "grid_auto_flow": null,
            "grid_auto_rows": null,
            "grid_column": null,
            "grid_gap": null,
            "grid_row": null,
            "grid_template_areas": null,
            "grid_template_columns": null,
            "grid_template_rows": null,
            "height": null,
            "justify_content": null,
            "justify_items": null,
            "left": null,
            "margin": null,
            "max_height": null,
            "max_width": null,
            "min_height": null,
            "min_width": null,
            "object_fit": null,
            "object_position": null,
            "order": null,
            "overflow": null,
            "overflow_x": null,
            "overflow_y": null,
            "padding": null,
            "right": null,
            "top": null,
            "visibility": null,
            "width": null
          }
        },
        "57c5192d0cce4fba905f3d8f7507a265": {
          "model_module": "@jupyter-widgets/controls",
          "model_name": "DescriptionStyleModel",
          "model_module_version": "1.5.0",
          "state": {
            "_model_module": "@jupyter-widgets/controls",
            "_model_module_version": "1.5.0",
            "_model_name": "DescriptionStyleModel",
            "_view_count": null,
            "_view_module": "@jupyter-widgets/base",
            "_view_module_version": "1.2.0",
            "_view_name": "StyleView",
            "description_width": ""
          }
        },
        "ba298c04a57349bfa3df1049592fdf07": {
          "model_module": "@jupyter-widgets/controls",
          "model_name": "HBoxModel",
          "model_module_version": "1.5.0",
          "state": {
            "_dom_classes": [],
            "_model_module": "@jupyter-widgets/controls",
            "_model_module_version": "1.5.0",
            "_model_name": "HBoxModel",
            "_view_count": null,
            "_view_module": "@jupyter-widgets/controls",
            "_view_module_version": "1.5.0",
            "_view_name": "HBoxView",
            "box_style": "",
            "children": [
              "IPY_MODEL_6d5b93937d574c1c804a37a9e88f5c53",
              "IPY_MODEL_469a3942055d4947b1cbb26a8e939b9f",
              "IPY_MODEL_4b5a58d4776f47dc9373566e3f3f7f59"
            ],
            "layout": "IPY_MODEL_8c1f12d2f4634c32a77d3d82a4122a81"
          }
        },
        "6d5b93937d574c1c804a37a9e88f5c53": {
          "model_module": "@jupyter-widgets/controls",
          "model_name": "HTMLModel",
          "model_module_version": "1.5.0",
          "state": {
            "_dom_classes": [],
            "_model_module": "@jupyter-widgets/controls",
            "_model_module_version": "1.5.0",
            "_model_name": "HTMLModel",
            "_view_count": null,
            "_view_module": "@jupyter-widgets/controls",
            "_view_module_version": "1.5.0",
            "_view_name": "HTMLView",
            "description": "",
            "description_tooltip": null,
            "layout": "IPY_MODEL_93076adc4d414fb5b476abf6d37b6962",
            "placeholder": "​",
            "style": "IPY_MODEL_0306c8a48b6a4b9f9b5a9466ed0cd195",
            "value": "Generating splits...: 100%"
          }
        },
        "469a3942055d4947b1cbb26a8e939b9f": {
          "model_module": "@jupyter-widgets/controls",
          "model_name": "FloatProgressModel",
          "model_module_version": "1.5.0",
          "state": {
            "_dom_classes": [],
            "_model_module": "@jupyter-widgets/controls",
            "_model_module_version": "1.5.0",
            "_model_name": "FloatProgressModel",
            "_view_count": null,
            "_view_module": "@jupyter-widgets/controls",
            "_view_module_version": "1.5.0",
            "_view_name": "ProgressView",
            "bar_style": "",
            "description": "",
            "description_tooltip": null,
            "layout": "IPY_MODEL_b6b7872771874ff4b37f4dd5ee3577f2",
            "max": 3,
            "min": 0,
            "orientation": "horizontal",
            "style": "IPY_MODEL_3dd17cfcb7ef4873a86d0c5490564c97",
            "value": 3
          }
        },
        "4b5a58d4776f47dc9373566e3f3f7f59": {
          "model_module": "@jupyter-widgets/controls",
          "model_name": "HTMLModel",
          "model_module_version": "1.5.0",
          "state": {
            "_dom_classes": [],
            "_model_module": "@jupyter-widgets/controls",
            "_model_module_version": "1.5.0",
            "_model_name": "HTMLModel",
            "_view_count": null,
            "_view_module": "@jupyter-widgets/controls",
            "_view_module_version": "1.5.0",
            "_view_name": "HTMLView",
            "description": "",
            "description_tooltip": null,
            "layout": "IPY_MODEL_b6ccd2372c5d41bcb1db2697894fe1f7",
            "placeholder": "​",
            "style": "IPY_MODEL_38f2b1bec7a74946bf4755a077bec19b",
            "value": " 3/3 [00:39&lt;00:00, 13.44s/ splits]"
          }
        },
        "8c1f12d2f4634c32a77d3d82a4122a81": {
          "model_module": "@jupyter-widgets/base",
          "model_name": "LayoutModel",
          "model_module_version": "1.2.0",
          "state": {
            "_model_module": "@jupyter-widgets/base",
            "_model_module_version": "1.2.0",
            "_model_name": "LayoutModel",
            "_view_count": null,
            "_view_module": "@jupyter-widgets/base",
            "_view_module_version": "1.2.0",
            "_view_name": "LayoutView",
            "align_content": null,
            "align_items": null,
            "align_self": null,
            "border": null,
            "bottom": null,
            "display": null,
            "flex": null,
            "flex_flow": null,
            "grid_area": null,
            "grid_auto_columns": null,
            "grid_auto_flow": null,
            "grid_auto_rows": null,
            "grid_column": null,
            "grid_gap": null,
            "grid_row": null,
            "grid_template_areas": null,
            "grid_template_columns": null,
            "grid_template_rows": null,
            "height": null,
            "justify_content": null,
            "justify_items": null,
            "left": null,
            "margin": null,
            "max_height": null,
            "max_width": null,
            "min_height": null,
            "min_width": null,
            "object_fit": null,
            "object_position": null,
            "order": null,
            "overflow": null,
            "overflow_x": null,
            "overflow_y": null,
            "padding": null,
            "right": null,
            "top": null,
            "visibility": "hidden",
            "width": null
          }
        },
        "93076adc4d414fb5b476abf6d37b6962": {
          "model_module": "@jupyter-widgets/base",
          "model_name": "LayoutModel",
          "model_module_version": "1.2.0",
          "state": {
            "_model_module": "@jupyter-widgets/base",
            "_model_module_version": "1.2.0",
            "_model_name": "LayoutModel",
            "_view_count": null,
            "_view_module": "@jupyter-widgets/base",
            "_view_module_version": "1.2.0",
            "_view_name": "LayoutView",
            "align_content": null,
            "align_items": null,
            "align_self": null,
            "border": null,
            "bottom": null,
            "display": null,
            "flex": null,
            "flex_flow": null,
            "grid_area": null,
            "grid_auto_columns": null,
            "grid_auto_flow": null,
            "grid_auto_rows": null,
            "grid_column": null,
            "grid_gap": null,
            "grid_row": null,
            "grid_template_areas": null,
            "grid_template_columns": null,
            "grid_template_rows": null,
            "height": null,
            "justify_content": null,
            "justify_items": null,
            "left": null,
            "margin": null,
            "max_height": null,
            "max_width": null,
            "min_height": null,
            "min_width": null,
            "object_fit": null,
            "object_position": null,
            "order": null,
            "overflow": null,
            "overflow_x": null,
            "overflow_y": null,
            "padding": null,
            "right": null,
            "top": null,
            "visibility": null,
            "width": null
          }
        },
        "0306c8a48b6a4b9f9b5a9466ed0cd195": {
          "model_module": "@jupyter-widgets/controls",
          "model_name": "DescriptionStyleModel",
          "model_module_version": "1.5.0",
          "state": {
            "_model_module": "@jupyter-widgets/controls",
            "_model_module_version": "1.5.0",
            "_model_name": "DescriptionStyleModel",
            "_view_count": null,
            "_view_module": "@jupyter-widgets/base",
            "_view_module_version": "1.2.0",
            "_view_name": "StyleView",
            "description_width": ""
          }
        },
        "b6b7872771874ff4b37f4dd5ee3577f2": {
          "model_module": "@jupyter-widgets/base",
          "model_name": "LayoutModel",
          "model_module_version": "1.2.0",
          "state": {
            "_model_module": "@jupyter-widgets/base",
            "_model_module_version": "1.2.0",
            "_model_name": "LayoutModel",
            "_view_count": null,
            "_view_module": "@jupyter-widgets/base",
            "_view_module_version": "1.2.0",
            "_view_name": "LayoutView",
            "align_content": null,
            "align_items": null,
            "align_self": null,
            "border": null,
            "bottom": null,
            "display": null,
            "flex": null,
            "flex_flow": null,
            "grid_area": null,
            "grid_auto_columns": null,
            "grid_auto_flow": null,
            "grid_auto_rows": null,
            "grid_column": null,
            "grid_gap": null,
            "grid_row": null,
            "grid_template_areas": null,
            "grid_template_columns": null,
            "grid_template_rows": null,
            "height": null,
            "justify_content": null,
            "justify_items": null,
            "left": null,
            "margin": null,
            "max_height": null,
            "max_width": null,
            "min_height": null,
            "min_width": null,
            "object_fit": null,
            "object_position": null,
            "order": null,
            "overflow": null,
            "overflow_x": null,
            "overflow_y": null,
            "padding": null,
            "right": null,
            "top": null,
            "visibility": null,
            "width": null
          }
        },
        "3dd17cfcb7ef4873a86d0c5490564c97": {
          "model_module": "@jupyter-widgets/controls",
          "model_name": "ProgressStyleModel",
          "model_module_version": "1.5.0",
          "state": {
            "_model_module": "@jupyter-widgets/controls",
            "_model_module_version": "1.5.0",
            "_model_name": "ProgressStyleModel",
            "_view_count": null,
            "_view_module": "@jupyter-widgets/base",
            "_view_module_version": "1.2.0",
            "_view_name": "StyleView",
            "bar_color": null,
            "description_width": ""
          }
        },
        "b6ccd2372c5d41bcb1db2697894fe1f7": {
          "model_module": "@jupyter-widgets/base",
          "model_name": "LayoutModel",
          "model_module_version": "1.2.0",
          "state": {
            "_model_module": "@jupyter-widgets/base",
            "_model_module_version": "1.2.0",
            "_model_name": "LayoutModel",
            "_view_count": null,
            "_view_module": "@jupyter-widgets/base",
            "_view_module_version": "1.2.0",
            "_view_name": "LayoutView",
            "align_content": null,
            "align_items": null,
            "align_self": null,
            "border": null,
            "bottom": null,
            "display": null,
            "flex": null,
            "flex_flow": null,
            "grid_area": null,
            "grid_auto_columns": null,
            "grid_auto_flow": null,
            "grid_auto_rows": null,
            "grid_column": null,
            "grid_gap": null,
            "grid_row": null,
            "grid_template_areas": null,
            "grid_template_columns": null,
            "grid_template_rows": null,
            "height": null,
            "justify_content": null,
            "justify_items": null,
            "left": null,
            "margin": null,
            "max_height": null,
            "max_width": null,
            "min_height": null,
            "min_width": null,
            "object_fit": null,
            "object_position": null,
            "order": null,
            "overflow": null,
            "overflow_x": null,
            "overflow_y": null,
            "padding": null,
            "right": null,
            "top": null,
            "visibility": null,
            "width": null
          }
        },
        "38f2b1bec7a74946bf4755a077bec19b": {
          "model_module": "@jupyter-widgets/controls",
          "model_name": "DescriptionStyleModel",
          "model_module_version": "1.5.0",
          "state": {
            "_model_module": "@jupyter-widgets/controls",
            "_model_module_version": "1.5.0",
            "_model_name": "DescriptionStyleModel",
            "_view_count": null,
            "_view_module": "@jupyter-widgets/base",
            "_view_module_version": "1.2.0",
            "_view_name": "StyleView",
            "description_width": ""
          }
        },
        "14cb0a27ab67403ba198e011fb021b2a": {
          "model_module": "@jupyter-widgets/controls",
          "model_name": "HBoxModel",
          "model_module_version": "1.5.0",
          "state": {
            "_dom_classes": [],
            "_model_module": "@jupyter-widgets/controls",
            "_model_module_version": "1.5.0",
            "_model_name": "HBoxModel",
            "_view_count": null,
            "_view_module": "@jupyter-widgets/controls",
            "_view_module_version": "1.5.0",
            "_view_name": "HBoxView",
            "box_style": "",
            "children": [
              "IPY_MODEL_e10f651371f44f8d9bcd9a4750498f13",
              "IPY_MODEL_cbd565eb382949a2816dc1e70060da2b",
              "IPY_MODEL_cf3cf297f2f843f68b5c7c0a1f47da6d"
            ],
            "layout": "IPY_MODEL_772bfd71ee2a444c9980d24165a1ad66"
          }
        },
        "e10f651371f44f8d9bcd9a4750498f13": {
          "model_module": "@jupyter-widgets/controls",
          "model_name": "HTMLModel",
          "model_module_version": "1.5.0",
          "state": {
            "_dom_classes": [],
            "_model_module": "@jupyter-widgets/controls",
            "_model_module_version": "1.5.0",
            "_model_name": "HTMLModel",
            "_view_count": null,
            "_view_module": "@jupyter-widgets/controls",
            "_view_module_version": "1.5.0",
            "_view_name": "HTMLView",
            "description": "",
            "description_tooltip": null,
            "layout": "IPY_MODEL_270757018e5746e29fc998f69d526389",
            "placeholder": "​",
            "style": "IPY_MODEL_93eada760466416eaed692773afe7bcf",
            "value": "Generating train examples...: 100%"
          }
        },
        "cbd565eb382949a2816dc1e70060da2b": {
          "model_module": "@jupyter-widgets/controls",
          "model_name": "FloatProgressModel",
          "model_module_version": "1.5.0",
          "state": {
            "_dom_classes": [],
            "_model_module": "@jupyter-widgets/controls",
            "_model_module_version": "1.5.0",
            "_model_name": "FloatProgressModel",
            "_view_count": null,
            "_view_module": "@jupyter-widgets/controls",
            "_view_module_version": "1.5.0",
            "_view_name": "ProgressView",
            "bar_style": "",
            "description": "",
            "description_tooltip": null,
            "layout": "IPY_MODEL_70f74d12f9904a41ab00dd4e6043c11f",
            "max": 25000,
            "min": 0,
            "orientation": "horizontal",
            "style": "IPY_MODEL_cac2e3c1588e4fc1b42f86392eed18e0",
            "value": 25000
          }
        },
        "cf3cf297f2f843f68b5c7c0a1f47da6d": {
          "model_module": "@jupyter-widgets/controls",
          "model_name": "HTMLModel",
          "model_module_version": "1.5.0",
          "state": {
            "_dom_classes": [],
            "_model_module": "@jupyter-widgets/controls",
            "_model_module_version": "1.5.0",
            "_model_name": "HTMLModel",
            "_view_count": null,
            "_view_module": "@jupyter-widgets/controls",
            "_view_module_version": "1.5.0",
            "_view_name": "HTMLView",
            "description": "",
            "description_tooltip": null,
            "layout": "IPY_MODEL_d6fd04665a9a40b786aa8c4117d90c8c",
            "placeholder": "​",
            "style": "IPY_MODEL_c9c00895da1249fca9c432e9c3b6a47c",
            "value": " 24930/25000 [00:09&lt;00:00, 4991.89 examples/s]"
          }
        },
        "772bfd71ee2a444c9980d24165a1ad66": {
          "model_module": "@jupyter-widgets/base",
          "model_name": "LayoutModel",
          "model_module_version": "1.2.0",
          "state": {
            "_model_module": "@jupyter-widgets/base",
            "_model_module_version": "1.2.0",
            "_model_name": "LayoutModel",
            "_view_count": null,
            "_view_module": "@jupyter-widgets/base",
            "_view_module_version": "1.2.0",
            "_view_name": "LayoutView",
            "align_content": null,
            "align_items": null,
            "align_self": null,
            "border": null,
            "bottom": null,
            "display": null,
            "flex": null,
            "flex_flow": null,
            "grid_area": null,
            "grid_auto_columns": null,
            "grid_auto_flow": null,
            "grid_auto_rows": null,
            "grid_column": null,
            "grid_gap": null,
            "grid_row": null,
            "grid_template_areas": null,
            "grid_template_columns": null,
            "grid_template_rows": null,
            "height": null,
            "justify_content": null,
            "justify_items": null,
            "left": null,
            "margin": null,
            "max_height": null,
            "max_width": null,
            "min_height": null,
            "min_width": null,
            "object_fit": null,
            "object_position": null,
            "order": null,
            "overflow": null,
            "overflow_x": null,
            "overflow_y": null,
            "padding": null,
            "right": null,
            "top": null,
            "visibility": "hidden",
            "width": null
          }
        },
        "270757018e5746e29fc998f69d526389": {
          "model_module": "@jupyter-widgets/base",
          "model_name": "LayoutModel",
          "model_module_version": "1.2.0",
          "state": {
            "_model_module": "@jupyter-widgets/base",
            "_model_module_version": "1.2.0",
            "_model_name": "LayoutModel",
            "_view_count": null,
            "_view_module": "@jupyter-widgets/base",
            "_view_module_version": "1.2.0",
            "_view_name": "LayoutView",
            "align_content": null,
            "align_items": null,
            "align_self": null,
            "border": null,
            "bottom": null,
            "display": null,
            "flex": null,
            "flex_flow": null,
            "grid_area": null,
            "grid_auto_columns": null,
            "grid_auto_flow": null,
            "grid_auto_rows": null,
            "grid_column": null,
            "grid_gap": null,
            "grid_row": null,
            "grid_template_areas": null,
            "grid_template_columns": null,
            "grid_template_rows": null,
            "height": null,
            "justify_content": null,
            "justify_items": null,
            "left": null,
            "margin": null,
            "max_height": null,
            "max_width": null,
            "min_height": null,
            "min_width": null,
            "object_fit": null,
            "object_position": null,
            "order": null,
            "overflow": null,
            "overflow_x": null,
            "overflow_y": null,
            "padding": null,
            "right": null,
            "top": null,
            "visibility": null,
            "width": null
          }
        },
        "93eada760466416eaed692773afe7bcf": {
          "model_module": "@jupyter-widgets/controls",
          "model_name": "DescriptionStyleModel",
          "model_module_version": "1.5.0",
          "state": {
            "_model_module": "@jupyter-widgets/controls",
            "_model_module_version": "1.5.0",
            "_model_name": "DescriptionStyleModel",
            "_view_count": null,
            "_view_module": "@jupyter-widgets/base",
            "_view_module_version": "1.2.0",
            "_view_name": "StyleView",
            "description_width": ""
          }
        },
        "70f74d12f9904a41ab00dd4e6043c11f": {
          "model_module": "@jupyter-widgets/base",
          "model_name": "LayoutModel",
          "model_module_version": "1.2.0",
          "state": {
            "_model_module": "@jupyter-widgets/base",
            "_model_module_version": "1.2.0",
            "_model_name": "LayoutModel",
            "_view_count": null,
            "_view_module": "@jupyter-widgets/base",
            "_view_module_version": "1.2.0",
            "_view_name": "LayoutView",
            "align_content": null,
            "align_items": null,
            "align_self": null,
            "border": null,
            "bottom": null,
            "display": null,
            "flex": null,
            "flex_flow": null,
            "grid_area": null,
            "grid_auto_columns": null,
            "grid_auto_flow": null,
            "grid_auto_rows": null,
            "grid_column": null,
            "grid_gap": null,
            "grid_row": null,
            "grid_template_areas": null,
            "grid_template_columns": null,
            "grid_template_rows": null,
            "height": null,
            "justify_content": null,
            "justify_items": null,
            "left": null,
            "margin": null,
            "max_height": null,
            "max_width": null,
            "min_height": null,
            "min_width": null,
            "object_fit": null,
            "object_position": null,
            "order": null,
            "overflow": null,
            "overflow_x": null,
            "overflow_y": null,
            "padding": null,
            "right": null,
            "top": null,
            "visibility": null,
            "width": null
          }
        },
        "cac2e3c1588e4fc1b42f86392eed18e0": {
          "model_module": "@jupyter-widgets/controls",
          "model_name": "ProgressStyleModel",
          "model_module_version": "1.5.0",
          "state": {
            "_model_module": "@jupyter-widgets/controls",
            "_model_module_version": "1.5.0",
            "_model_name": "ProgressStyleModel",
            "_view_count": null,
            "_view_module": "@jupyter-widgets/base",
            "_view_module_version": "1.2.0",
            "_view_name": "StyleView",
            "bar_color": null,
            "description_width": ""
          }
        },
        "d6fd04665a9a40b786aa8c4117d90c8c": {
          "model_module": "@jupyter-widgets/base",
          "model_name": "LayoutModel",
          "model_module_version": "1.2.0",
          "state": {
            "_model_module": "@jupyter-widgets/base",
            "_model_module_version": "1.2.0",
            "_model_name": "LayoutModel",
            "_view_count": null,
            "_view_module": "@jupyter-widgets/base",
            "_view_module_version": "1.2.0",
            "_view_name": "LayoutView",
            "align_content": null,
            "align_items": null,
            "align_self": null,
            "border": null,
            "bottom": null,
            "display": null,
            "flex": null,
            "flex_flow": null,
            "grid_area": null,
            "grid_auto_columns": null,
            "grid_auto_flow": null,
            "grid_auto_rows": null,
            "grid_column": null,
            "grid_gap": null,
            "grid_row": null,
            "grid_template_areas": null,
            "grid_template_columns": null,
            "grid_template_rows": null,
            "height": null,
            "justify_content": null,
            "justify_items": null,
            "left": null,
            "margin": null,
            "max_height": null,
            "max_width": null,
            "min_height": null,
            "min_width": null,
            "object_fit": null,
            "object_position": null,
            "order": null,
            "overflow": null,
            "overflow_x": null,
            "overflow_y": null,
            "padding": null,
            "right": null,
            "top": null,
            "visibility": null,
            "width": null
          }
        },
        "c9c00895da1249fca9c432e9c3b6a47c": {
          "model_module": "@jupyter-widgets/controls",
          "model_name": "DescriptionStyleModel",
          "model_module_version": "1.5.0",
          "state": {
            "_model_module": "@jupyter-widgets/controls",
            "_model_module_version": "1.5.0",
            "_model_name": "DescriptionStyleModel",
            "_view_count": null,
            "_view_module": "@jupyter-widgets/base",
            "_view_module_version": "1.2.0",
            "_view_name": "StyleView",
            "description_width": ""
          }
        },
        "acaa17856771402693e1e72eaca00a0c": {
          "model_module": "@jupyter-widgets/controls",
          "model_name": "HBoxModel",
          "model_module_version": "1.5.0",
          "state": {
            "_dom_classes": [],
            "_model_module": "@jupyter-widgets/controls",
            "_model_module_version": "1.5.0",
            "_model_name": "HBoxModel",
            "_view_count": null,
            "_view_module": "@jupyter-widgets/controls",
            "_view_module_version": "1.5.0",
            "_view_name": "HBoxView",
            "box_style": "",
            "children": [
              "IPY_MODEL_b9cb0b18c6eb4f50b72bfead5539f7f9",
              "IPY_MODEL_85d79c68b97048618959e562026ca8e6",
              "IPY_MODEL_0738efb70d69439ca0f405693e5f03cd"
            ],
            "layout": "IPY_MODEL_a06e9ede8138472d993783d519baae5f"
          }
        },
        "b9cb0b18c6eb4f50b72bfead5539f7f9": {
          "model_module": "@jupyter-widgets/controls",
          "model_name": "HTMLModel",
          "model_module_version": "1.5.0",
          "state": {
            "_dom_classes": [],
            "_model_module": "@jupyter-widgets/controls",
            "_model_module_version": "1.5.0",
            "_model_name": "HTMLModel",
            "_view_count": null,
            "_view_module": "@jupyter-widgets/controls",
            "_view_module_version": "1.5.0",
            "_view_name": "HTMLView",
            "description": "",
            "description_tooltip": null,
            "layout": "IPY_MODEL_c85630d095824504a3f90ee462c4ab6f",
            "placeholder": "​",
            "style": "IPY_MODEL_16ba7691247d43d7b78dac7f358e8f1b",
            "value": "Shuffling /root/tensorflow_datasets/imdb_reviews/plain_text/1.0.0.incompleteBI8CT2/imdb_reviews-train.tfrecord*...:  46%"
          }
        },
        "85d79c68b97048618959e562026ca8e6": {
          "model_module": "@jupyter-widgets/controls",
          "model_name": "FloatProgressModel",
          "model_module_version": "1.5.0",
          "state": {
            "_dom_classes": [],
            "_model_module": "@jupyter-widgets/controls",
            "_model_module_version": "1.5.0",
            "_model_name": "FloatProgressModel",
            "_view_count": null,
            "_view_module": "@jupyter-widgets/controls",
            "_view_module_version": "1.5.0",
            "_view_name": "ProgressView",
            "bar_style": "",
            "description": "",
            "description_tooltip": null,
            "layout": "IPY_MODEL_a449b67feff641a49c60785c0870ab7d",
            "max": 25000,
            "min": 0,
            "orientation": "horizontal",
            "style": "IPY_MODEL_dacfce9f92d94198bcbbcf81b5ec6f5f",
            "value": 25000
          }
        },
        "0738efb70d69439ca0f405693e5f03cd": {
          "model_module": "@jupyter-widgets/controls",
          "model_name": "HTMLModel",
          "model_module_version": "1.5.0",
          "state": {
            "_dom_classes": [],
            "_model_module": "@jupyter-widgets/controls",
            "_model_module_version": "1.5.0",
            "_model_name": "HTMLModel",
            "_view_count": null,
            "_view_module": "@jupyter-widgets/controls",
            "_view_module_version": "1.5.0",
            "_view_name": "HTMLView",
            "description": "",
            "description_tooltip": null,
            "layout": "IPY_MODEL_9f5c5d4c2a2b4bf7817fcd0ca90cbed3",
            "placeholder": "​",
            "style": "IPY_MODEL_67d82c8f966b41b990925348890eed3c",
            "value": " 11466/25000 [00:00&lt;00:00, 114641.52 examples/s]"
          }
        },
        "a06e9ede8138472d993783d519baae5f": {
          "model_module": "@jupyter-widgets/base",
          "model_name": "LayoutModel",
          "model_module_version": "1.2.0",
          "state": {
            "_model_module": "@jupyter-widgets/base",
            "_model_module_version": "1.2.0",
            "_model_name": "LayoutModel",
            "_view_count": null,
            "_view_module": "@jupyter-widgets/base",
            "_view_module_version": "1.2.0",
            "_view_name": "LayoutView",
            "align_content": null,
            "align_items": null,
            "align_self": null,
            "border": null,
            "bottom": null,
            "display": null,
            "flex": null,
            "flex_flow": null,
            "grid_area": null,
            "grid_auto_columns": null,
            "grid_auto_flow": null,
            "grid_auto_rows": null,
            "grid_column": null,
            "grid_gap": null,
            "grid_row": null,
            "grid_template_areas": null,
            "grid_template_columns": null,
            "grid_template_rows": null,
            "height": null,
            "justify_content": null,
            "justify_items": null,
            "left": null,
            "margin": null,
            "max_height": null,
            "max_width": null,
            "min_height": null,
            "min_width": null,
            "object_fit": null,
            "object_position": null,
            "order": null,
            "overflow": null,
            "overflow_x": null,
            "overflow_y": null,
            "padding": null,
            "right": null,
            "top": null,
            "visibility": "hidden",
            "width": null
          }
        },
        "c85630d095824504a3f90ee462c4ab6f": {
          "model_module": "@jupyter-widgets/base",
          "model_name": "LayoutModel",
          "model_module_version": "1.2.0",
          "state": {
            "_model_module": "@jupyter-widgets/base",
            "_model_module_version": "1.2.0",
            "_model_name": "LayoutModel",
            "_view_count": null,
            "_view_module": "@jupyter-widgets/base",
            "_view_module_version": "1.2.0",
            "_view_name": "LayoutView",
            "align_content": null,
            "align_items": null,
            "align_self": null,
            "border": null,
            "bottom": null,
            "display": null,
            "flex": null,
            "flex_flow": null,
            "grid_area": null,
            "grid_auto_columns": null,
            "grid_auto_flow": null,
            "grid_auto_rows": null,
            "grid_column": null,
            "grid_gap": null,
            "grid_row": null,
            "grid_template_areas": null,
            "grid_template_columns": null,
            "grid_template_rows": null,
            "height": null,
            "justify_content": null,
            "justify_items": null,
            "left": null,
            "margin": null,
            "max_height": null,
            "max_width": null,
            "min_height": null,
            "min_width": null,
            "object_fit": null,
            "object_position": null,
            "order": null,
            "overflow": null,
            "overflow_x": null,
            "overflow_y": null,
            "padding": null,
            "right": null,
            "top": null,
            "visibility": null,
            "width": null
          }
        },
        "16ba7691247d43d7b78dac7f358e8f1b": {
          "model_module": "@jupyter-widgets/controls",
          "model_name": "DescriptionStyleModel",
          "model_module_version": "1.5.0",
          "state": {
            "_model_module": "@jupyter-widgets/controls",
            "_model_module_version": "1.5.0",
            "_model_name": "DescriptionStyleModel",
            "_view_count": null,
            "_view_module": "@jupyter-widgets/base",
            "_view_module_version": "1.2.0",
            "_view_name": "StyleView",
            "description_width": ""
          }
        },
        "a449b67feff641a49c60785c0870ab7d": {
          "model_module": "@jupyter-widgets/base",
          "model_name": "LayoutModel",
          "model_module_version": "1.2.0",
          "state": {
            "_model_module": "@jupyter-widgets/base",
            "_model_module_version": "1.2.0",
            "_model_name": "LayoutModel",
            "_view_count": null,
            "_view_module": "@jupyter-widgets/base",
            "_view_module_version": "1.2.0",
            "_view_name": "LayoutView",
            "align_content": null,
            "align_items": null,
            "align_self": null,
            "border": null,
            "bottom": null,
            "display": null,
            "flex": null,
            "flex_flow": null,
            "grid_area": null,
            "grid_auto_columns": null,
            "grid_auto_flow": null,
            "grid_auto_rows": null,
            "grid_column": null,
            "grid_gap": null,
            "grid_row": null,
            "grid_template_areas": null,
            "grid_template_columns": null,
            "grid_template_rows": null,
            "height": null,
            "justify_content": null,
            "justify_items": null,
            "left": null,
            "margin": null,
            "max_height": null,
            "max_width": null,
            "min_height": null,
            "min_width": null,
            "object_fit": null,
            "object_position": null,
            "order": null,
            "overflow": null,
            "overflow_x": null,
            "overflow_y": null,
            "padding": null,
            "right": null,
            "top": null,
            "visibility": null,
            "width": null
          }
        },
        "dacfce9f92d94198bcbbcf81b5ec6f5f": {
          "model_module": "@jupyter-widgets/controls",
          "model_name": "ProgressStyleModel",
          "model_module_version": "1.5.0",
          "state": {
            "_model_module": "@jupyter-widgets/controls",
            "_model_module_version": "1.5.0",
            "_model_name": "ProgressStyleModel",
            "_view_count": null,
            "_view_module": "@jupyter-widgets/base",
            "_view_module_version": "1.2.0",
            "_view_name": "StyleView",
            "bar_color": null,
            "description_width": ""
          }
        },
        "9f5c5d4c2a2b4bf7817fcd0ca90cbed3": {
          "model_module": "@jupyter-widgets/base",
          "model_name": "LayoutModel",
          "model_module_version": "1.2.0",
          "state": {
            "_model_module": "@jupyter-widgets/base",
            "_model_module_version": "1.2.0",
            "_model_name": "LayoutModel",
            "_view_count": null,
            "_view_module": "@jupyter-widgets/base",
            "_view_module_version": "1.2.0",
            "_view_name": "LayoutView",
            "align_content": null,
            "align_items": null,
            "align_self": null,
            "border": null,
            "bottom": null,
            "display": null,
            "flex": null,
            "flex_flow": null,
            "grid_area": null,
            "grid_auto_columns": null,
            "grid_auto_flow": null,
            "grid_auto_rows": null,
            "grid_column": null,
            "grid_gap": null,
            "grid_row": null,
            "grid_template_areas": null,
            "grid_template_columns": null,
            "grid_template_rows": null,
            "height": null,
            "justify_content": null,
            "justify_items": null,
            "left": null,
            "margin": null,
            "max_height": null,
            "max_width": null,
            "min_height": null,
            "min_width": null,
            "object_fit": null,
            "object_position": null,
            "order": null,
            "overflow": null,
            "overflow_x": null,
            "overflow_y": null,
            "padding": null,
            "right": null,
            "top": null,
            "visibility": null,
            "width": null
          }
        },
        "67d82c8f966b41b990925348890eed3c": {
          "model_module": "@jupyter-widgets/controls",
          "model_name": "DescriptionStyleModel",
          "model_module_version": "1.5.0",
          "state": {
            "_model_module": "@jupyter-widgets/controls",
            "_model_module_version": "1.5.0",
            "_model_name": "DescriptionStyleModel",
            "_view_count": null,
            "_view_module": "@jupyter-widgets/base",
            "_view_module_version": "1.2.0",
            "_view_name": "StyleView",
            "description_width": ""
          }
        },
        "b8d849da651e42beb15c19763c8831e7": {
          "model_module": "@jupyter-widgets/controls",
          "model_name": "HBoxModel",
          "model_module_version": "1.5.0",
          "state": {
            "_dom_classes": [],
            "_model_module": "@jupyter-widgets/controls",
            "_model_module_version": "1.5.0",
            "_model_name": "HBoxModel",
            "_view_count": null,
            "_view_module": "@jupyter-widgets/controls",
            "_view_module_version": "1.5.0",
            "_view_name": "HBoxView",
            "box_style": "",
            "children": [
              "IPY_MODEL_cd43784b91284900b5cb3c8e04d2ff6a",
              "IPY_MODEL_c969e6e3892b46eb8da67f3563908f0a",
              "IPY_MODEL_6f3e9ecf6e454580a17da7134998d644"
            ],
            "layout": "IPY_MODEL_4c9eb18202b342489006ae900855e62a"
          }
        },
        "cd43784b91284900b5cb3c8e04d2ff6a": {
          "model_module": "@jupyter-widgets/controls",
          "model_name": "HTMLModel",
          "model_module_version": "1.5.0",
          "state": {
            "_dom_classes": [],
            "_model_module": "@jupyter-widgets/controls",
            "_model_module_version": "1.5.0",
            "_model_name": "HTMLModel",
            "_view_count": null,
            "_view_module": "@jupyter-widgets/controls",
            "_view_module_version": "1.5.0",
            "_view_name": "HTMLView",
            "description": "",
            "description_tooltip": null,
            "layout": "IPY_MODEL_e29d8000a9c24707a215d6b0fa605261",
            "placeholder": "​",
            "style": "IPY_MODEL_6c6fc0358cbe4bf0a75850b2f87bf99e",
            "value": "Generating test examples...: 100%"
          }
        },
        "c969e6e3892b46eb8da67f3563908f0a": {
          "model_module": "@jupyter-widgets/controls",
          "model_name": "FloatProgressModel",
          "model_module_version": "1.5.0",
          "state": {
            "_dom_classes": [],
            "_model_module": "@jupyter-widgets/controls",
            "_model_module_version": "1.5.0",
            "_model_name": "FloatProgressModel",
            "_view_count": null,
            "_view_module": "@jupyter-widgets/controls",
            "_view_module_version": "1.5.0",
            "_view_name": "ProgressView",
            "bar_style": "",
            "description": "",
            "description_tooltip": null,
            "layout": "IPY_MODEL_78eb7752e8fa49fe8991c670ab913b14",
            "max": 25000,
            "min": 0,
            "orientation": "horizontal",
            "style": "IPY_MODEL_a1426928c29f419c853d2a28ea86f07a",
            "value": 25000
          }
        },
        "6f3e9ecf6e454580a17da7134998d644": {
          "model_module": "@jupyter-widgets/controls",
          "model_name": "HTMLModel",
          "model_module_version": "1.5.0",
          "state": {
            "_dom_classes": [],
            "_model_module": "@jupyter-widgets/controls",
            "_model_module_version": "1.5.0",
            "_model_name": "HTMLModel",
            "_view_count": null,
            "_view_module": "@jupyter-widgets/controls",
            "_view_module_version": "1.5.0",
            "_view_name": "HTMLView",
            "description": "",
            "description_tooltip": null,
            "layout": "IPY_MODEL_d71d7699128743f8945349e1d87392c6",
            "placeholder": "​",
            "style": "IPY_MODEL_c70796d4cf824ddb9f2a1734860551ab",
            "value": " 24999/25000 [00:05&lt;00:00, 4998.70 examples/s]"
          }
        },
        "4c9eb18202b342489006ae900855e62a": {
          "model_module": "@jupyter-widgets/base",
          "model_name": "LayoutModel",
          "model_module_version": "1.2.0",
          "state": {
            "_model_module": "@jupyter-widgets/base",
            "_model_module_version": "1.2.0",
            "_model_name": "LayoutModel",
            "_view_count": null,
            "_view_module": "@jupyter-widgets/base",
            "_view_module_version": "1.2.0",
            "_view_name": "LayoutView",
            "align_content": null,
            "align_items": null,
            "align_self": null,
            "border": null,
            "bottom": null,
            "display": null,
            "flex": null,
            "flex_flow": null,
            "grid_area": null,
            "grid_auto_columns": null,
            "grid_auto_flow": null,
            "grid_auto_rows": null,
            "grid_column": null,
            "grid_gap": null,
            "grid_row": null,
            "grid_template_areas": null,
            "grid_template_columns": null,
            "grid_template_rows": null,
            "height": null,
            "justify_content": null,
            "justify_items": null,
            "left": null,
            "margin": null,
            "max_height": null,
            "max_width": null,
            "min_height": null,
            "min_width": null,
            "object_fit": null,
            "object_position": null,
            "order": null,
            "overflow": null,
            "overflow_x": null,
            "overflow_y": null,
            "padding": null,
            "right": null,
            "top": null,
            "visibility": "hidden",
            "width": null
          }
        },
        "e29d8000a9c24707a215d6b0fa605261": {
          "model_module": "@jupyter-widgets/base",
          "model_name": "LayoutModel",
          "model_module_version": "1.2.0",
          "state": {
            "_model_module": "@jupyter-widgets/base",
            "_model_module_version": "1.2.0",
            "_model_name": "LayoutModel",
            "_view_count": null,
            "_view_module": "@jupyter-widgets/base",
            "_view_module_version": "1.2.0",
            "_view_name": "LayoutView",
            "align_content": null,
            "align_items": null,
            "align_self": null,
            "border": null,
            "bottom": null,
            "display": null,
            "flex": null,
            "flex_flow": null,
            "grid_area": null,
            "grid_auto_columns": null,
            "grid_auto_flow": null,
            "grid_auto_rows": null,
            "grid_column": null,
            "grid_gap": null,
            "grid_row": null,
            "grid_template_areas": null,
            "grid_template_columns": null,
            "grid_template_rows": null,
            "height": null,
            "justify_content": null,
            "justify_items": null,
            "left": null,
            "margin": null,
            "max_height": null,
            "max_width": null,
            "min_height": null,
            "min_width": null,
            "object_fit": null,
            "object_position": null,
            "order": null,
            "overflow": null,
            "overflow_x": null,
            "overflow_y": null,
            "padding": null,
            "right": null,
            "top": null,
            "visibility": null,
            "width": null
          }
        },
        "6c6fc0358cbe4bf0a75850b2f87bf99e": {
          "model_module": "@jupyter-widgets/controls",
          "model_name": "DescriptionStyleModel",
          "model_module_version": "1.5.0",
          "state": {
            "_model_module": "@jupyter-widgets/controls",
            "_model_module_version": "1.5.0",
            "_model_name": "DescriptionStyleModel",
            "_view_count": null,
            "_view_module": "@jupyter-widgets/base",
            "_view_module_version": "1.2.0",
            "_view_name": "StyleView",
            "description_width": ""
          }
        },
        "78eb7752e8fa49fe8991c670ab913b14": {
          "model_module": "@jupyter-widgets/base",
          "model_name": "LayoutModel",
          "model_module_version": "1.2.0",
          "state": {
            "_model_module": "@jupyter-widgets/base",
            "_model_module_version": "1.2.0",
            "_model_name": "LayoutModel",
            "_view_count": null,
            "_view_module": "@jupyter-widgets/base",
            "_view_module_version": "1.2.0",
            "_view_name": "LayoutView",
            "align_content": null,
            "align_items": null,
            "align_self": null,
            "border": null,
            "bottom": null,
            "display": null,
            "flex": null,
            "flex_flow": null,
            "grid_area": null,
            "grid_auto_columns": null,
            "grid_auto_flow": null,
            "grid_auto_rows": null,
            "grid_column": null,
            "grid_gap": null,
            "grid_row": null,
            "grid_template_areas": null,
            "grid_template_columns": null,
            "grid_template_rows": null,
            "height": null,
            "justify_content": null,
            "justify_items": null,
            "left": null,
            "margin": null,
            "max_height": null,
            "max_width": null,
            "min_height": null,
            "min_width": null,
            "object_fit": null,
            "object_position": null,
            "order": null,
            "overflow": null,
            "overflow_x": null,
            "overflow_y": null,
            "padding": null,
            "right": null,
            "top": null,
            "visibility": null,
            "width": null
          }
        },
        "a1426928c29f419c853d2a28ea86f07a": {
          "model_module": "@jupyter-widgets/controls",
          "model_name": "ProgressStyleModel",
          "model_module_version": "1.5.0",
          "state": {
            "_model_module": "@jupyter-widgets/controls",
            "_model_module_version": "1.5.0",
            "_model_name": "ProgressStyleModel",
            "_view_count": null,
            "_view_module": "@jupyter-widgets/base",
            "_view_module_version": "1.2.0",
            "_view_name": "StyleView",
            "bar_color": null,
            "description_width": ""
          }
        },
        "d71d7699128743f8945349e1d87392c6": {
          "model_module": "@jupyter-widgets/base",
          "model_name": "LayoutModel",
          "model_module_version": "1.2.0",
          "state": {
            "_model_module": "@jupyter-widgets/base",
            "_model_module_version": "1.2.0",
            "_model_name": "LayoutModel",
            "_view_count": null,
            "_view_module": "@jupyter-widgets/base",
            "_view_module_version": "1.2.0",
            "_view_name": "LayoutView",
            "align_content": null,
            "align_items": null,
            "align_self": null,
            "border": null,
            "bottom": null,
            "display": null,
            "flex": null,
            "flex_flow": null,
            "grid_area": null,
            "grid_auto_columns": null,
            "grid_auto_flow": null,
            "grid_auto_rows": null,
            "grid_column": null,
            "grid_gap": null,
            "grid_row": null,
            "grid_template_areas": null,
            "grid_template_columns": null,
            "grid_template_rows": null,
            "height": null,
            "justify_content": null,
            "justify_items": null,
            "left": null,
            "margin": null,
            "max_height": null,
            "max_width": null,
            "min_height": null,
            "min_width": null,
            "object_fit": null,
            "object_position": null,
            "order": null,
            "overflow": null,
            "overflow_x": null,
            "overflow_y": null,
            "padding": null,
            "right": null,
            "top": null,
            "visibility": null,
            "width": null
          }
        },
        "c70796d4cf824ddb9f2a1734860551ab": {
          "model_module": "@jupyter-widgets/controls",
          "model_name": "DescriptionStyleModel",
          "model_module_version": "1.5.0",
          "state": {
            "_model_module": "@jupyter-widgets/controls",
            "_model_module_version": "1.5.0",
            "_model_name": "DescriptionStyleModel",
            "_view_count": null,
            "_view_module": "@jupyter-widgets/base",
            "_view_module_version": "1.2.0",
            "_view_name": "StyleView",
            "description_width": ""
          }
        },
        "bb564e6e7a8545b2ad1a0bd90b252067": {
          "model_module": "@jupyter-widgets/controls",
          "model_name": "HBoxModel",
          "model_module_version": "1.5.0",
          "state": {
            "_dom_classes": [],
            "_model_module": "@jupyter-widgets/controls",
            "_model_module_version": "1.5.0",
            "_model_name": "HBoxModel",
            "_view_count": null,
            "_view_module": "@jupyter-widgets/controls",
            "_view_module_version": "1.5.0",
            "_view_name": "HBoxView",
            "box_style": "",
            "children": [
              "IPY_MODEL_e66d5c01a2f245a0a3c63882b7eeab4a",
              "IPY_MODEL_7c799e189fd24e86a04e55f95395bc5f",
              "IPY_MODEL_39c644302d72451a9df854fb7f5ffe53"
            ],
            "layout": "IPY_MODEL_76561e04cc314d3fa8a54a848d603e28"
          }
        },
        "e66d5c01a2f245a0a3c63882b7eeab4a": {
          "model_module": "@jupyter-widgets/controls",
          "model_name": "HTMLModel",
          "model_module_version": "1.5.0",
          "state": {
            "_dom_classes": [],
            "_model_module": "@jupyter-widgets/controls",
            "_model_module_version": "1.5.0",
            "_model_name": "HTMLModel",
            "_view_count": null,
            "_view_module": "@jupyter-widgets/controls",
            "_view_module_version": "1.5.0",
            "_view_name": "HTMLView",
            "description": "",
            "description_tooltip": null,
            "layout": "IPY_MODEL_0457a63fdef046acae511778f7706ac4",
            "placeholder": "​",
            "style": "IPY_MODEL_07e0b707aa224796bf49fad64e0833c1",
            "value": "Shuffling /root/tensorflow_datasets/imdb_reviews/plain_text/1.0.0.incompleteBI8CT2/imdb_reviews-test.tfrecord*...:  40%"
          }
        },
        "7c799e189fd24e86a04e55f95395bc5f": {
          "model_module": "@jupyter-widgets/controls",
          "model_name": "FloatProgressModel",
          "model_module_version": "1.5.0",
          "state": {
            "_dom_classes": [],
            "_model_module": "@jupyter-widgets/controls",
            "_model_module_version": "1.5.0",
            "_model_name": "FloatProgressModel",
            "_view_count": null,
            "_view_module": "@jupyter-widgets/controls",
            "_view_module_version": "1.5.0",
            "_view_name": "ProgressView",
            "bar_style": "",
            "description": "",
            "description_tooltip": null,
            "layout": "IPY_MODEL_dd839ab809db4f6488b36d1c97c6fbe8",
            "max": 25000,
            "min": 0,
            "orientation": "horizontal",
            "style": "IPY_MODEL_f7c77ca4d8ad416885a165e4dd2e87dc",
            "value": 25000
          }
        },
        "39c644302d72451a9df854fb7f5ffe53": {
          "model_module": "@jupyter-widgets/controls",
          "model_name": "HTMLModel",
          "model_module_version": "1.5.0",
          "state": {
            "_dom_classes": [],
            "_model_module": "@jupyter-widgets/controls",
            "_model_module_version": "1.5.0",
            "_model_name": "HTMLModel",
            "_view_count": null,
            "_view_module": "@jupyter-widgets/controls",
            "_view_module_version": "1.5.0",
            "_view_name": "HTMLView",
            "description": "",
            "description_tooltip": null,
            "layout": "IPY_MODEL_823342c78fc14f40b1d2e7b301b0da33",
            "placeholder": "​",
            "style": "IPY_MODEL_070cd214cc274329811529025a1c0f4b",
            "value": " 10100/25000 [00:00&lt;00:00, 100978.67 examples/s]"
          }
        },
        "76561e04cc314d3fa8a54a848d603e28": {
          "model_module": "@jupyter-widgets/base",
          "model_name": "LayoutModel",
          "model_module_version": "1.2.0",
          "state": {
            "_model_module": "@jupyter-widgets/base",
            "_model_module_version": "1.2.0",
            "_model_name": "LayoutModel",
            "_view_count": null,
            "_view_module": "@jupyter-widgets/base",
            "_view_module_version": "1.2.0",
            "_view_name": "LayoutView",
            "align_content": null,
            "align_items": null,
            "align_self": null,
            "border": null,
            "bottom": null,
            "display": null,
            "flex": null,
            "flex_flow": null,
            "grid_area": null,
            "grid_auto_columns": null,
            "grid_auto_flow": null,
            "grid_auto_rows": null,
            "grid_column": null,
            "grid_gap": null,
            "grid_row": null,
            "grid_template_areas": null,
            "grid_template_columns": null,
            "grid_template_rows": null,
            "height": null,
            "justify_content": null,
            "justify_items": null,
            "left": null,
            "margin": null,
            "max_height": null,
            "max_width": null,
            "min_height": null,
            "min_width": null,
            "object_fit": null,
            "object_position": null,
            "order": null,
            "overflow": null,
            "overflow_x": null,
            "overflow_y": null,
            "padding": null,
            "right": null,
            "top": null,
            "visibility": "hidden",
            "width": null
          }
        },
        "0457a63fdef046acae511778f7706ac4": {
          "model_module": "@jupyter-widgets/base",
          "model_name": "LayoutModel",
          "model_module_version": "1.2.0",
          "state": {
            "_model_module": "@jupyter-widgets/base",
            "_model_module_version": "1.2.0",
            "_model_name": "LayoutModel",
            "_view_count": null,
            "_view_module": "@jupyter-widgets/base",
            "_view_module_version": "1.2.0",
            "_view_name": "LayoutView",
            "align_content": null,
            "align_items": null,
            "align_self": null,
            "border": null,
            "bottom": null,
            "display": null,
            "flex": null,
            "flex_flow": null,
            "grid_area": null,
            "grid_auto_columns": null,
            "grid_auto_flow": null,
            "grid_auto_rows": null,
            "grid_column": null,
            "grid_gap": null,
            "grid_row": null,
            "grid_template_areas": null,
            "grid_template_columns": null,
            "grid_template_rows": null,
            "height": null,
            "justify_content": null,
            "justify_items": null,
            "left": null,
            "margin": null,
            "max_height": null,
            "max_width": null,
            "min_height": null,
            "min_width": null,
            "object_fit": null,
            "object_position": null,
            "order": null,
            "overflow": null,
            "overflow_x": null,
            "overflow_y": null,
            "padding": null,
            "right": null,
            "top": null,
            "visibility": null,
            "width": null
          }
        },
        "07e0b707aa224796bf49fad64e0833c1": {
          "model_module": "@jupyter-widgets/controls",
          "model_name": "DescriptionStyleModel",
          "model_module_version": "1.5.0",
          "state": {
            "_model_module": "@jupyter-widgets/controls",
            "_model_module_version": "1.5.0",
            "_model_name": "DescriptionStyleModel",
            "_view_count": null,
            "_view_module": "@jupyter-widgets/base",
            "_view_module_version": "1.2.0",
            "_view_name": "StyleView",
            "description_width": ""
          }
        },
        "dd839ab809db4f6488b36d1c97c6fbe8": {
          "model_module": "@jupyter-widgets/base",
          "model_name": "LayoutModel",
          "model_module_version": "1.2.0",
          "state": {
            "_model_module": "@jupyter-widgets/base",
            "_model_module_version": "1.2.0",
            "_model_name": "LayoutModel",
            "_view_count": null,
            "_view_module": "@jupyter-widgets/base",
            "_view_module_version": "1.2.0",
            "_view_name": "LayoutView",
            "align_content": null,
            "align_items": null,
            "align_self": null,
            "border": null,
            "bottom": null,
            "display": null,
            "flex": null,
            "flex_flow": null,
            "grid_area": null,
            "grid_auto_columns": null,
            "grid_auto_flow": null,
            "grid_auto_rows": null,
            "grid_column": null,
            "grid_gap": null,
            "grid_row": null,
            "grid_template_areas": null,
            "grid_template_columns": null,
            "grid_template_rows": null,
            "height": null,
            "justify_content": null,
            "justify_items": null,
            "left": null,
            "margin": null,
            "max_height": null,
            "max_width": null,
            "min_height": null,
            "min_width": null,
            "object_fit": null,
            "object_position": null,
            "order": null,
            "overflow": null,
            "overflow_x": null,
            "overflow_y": null,
            "padding": null,
            "right": null,
            "top": null,
            "visibility": null,
            "width": null
          }
        },
        "f7c77ca4d8ad416885a165e4dd2e87dc": {
          "model_module": "@jupyter-widgets/controls",
          "model_name": "ProgressStyleModel",
          "model_module_version": "1.5.0",
          "state": {
            "_model_module": "@jupyter-widgets/controls",
            "_model_module_version": "1.5.0",
            "_model_name": "ProgressStyleModel",
            "_view_count": null,
            "_view_module": "@jupyter-widgets/base",
            "_view_module_version": "1.2.0",
            "_view_name": "StyleView",
            "bar_color": null,
            "description_width": ""
          }
        },
        "823342c78fc14f40b1d2e7b301b0da33": {
          "model_module": "@jupyter-widgets/base",
          "model_name": "LayoutModel",
          "model_module_version": "1.2.0",
          "state": {
            "_model_module": "@jupyter-widgets/base",
            "_model_module_version": "1.2.0",
            "_model_name": "LayoutModel",
            "_view_count": null,
            "_view_module": "@jupyter-widgets/base",
            "_view_module_version": "1.2.0",
            "_view_name": "LayoutView",
            "align_content": null,
            "align_items": null,
            "align_self": null,
            "border": null,
            "bottom": null,
            "display": null,
            "flex": null,
            "flex_flow": null,
            "grid_area": null,
            "grid_auto_columns": null,
            "grid_auto_flow": null,
            "grid_auto_rows": null,
            "grid_column": null,
            "grid_gap": null,
            "grid_row": null,
            "grid_template_areas": null,
            "grid_template_columns": null,
            "grid_template_rows": null,
            "height": null,
            "justify_content": null,
            "justify_items": null,
            "left": null,
            "margin": null,
            "max_height": null,
            "max_width": null,
            "min_height": null,
            "min_width": null,
            "object_fit": null,
            "object_position": null,
            "order": null,
            "overflow": null,
            "overflow_x": null,
            "overflow_y": null,
            "padding": null,
            "right": null,
            "top": null,
            "visibility": null,
            "width": null
          }
        },
        "070cd214cc274329811529025a1c0f4b": {
          "model_module": "@jupyter-widgets/controls",
          "model_name": "DescriptionStyleModel",
          "model_module_version": "1.5.0",
          "state": {
            "_model_module": "@jupyter-widgets/controls",
            "_model_module_version": "1.5.0",
            "_model_name": "DescriptionStyleModel",
            "_view_count": null,
            "_view_module": "@jupyter-widgets/base",
            "_view_module_version": "1.2.0",
            "_view_name": "StyleView",
            "description_width": ""
          }
        },
        "de9928d98db043f4a7a1f0e810dcb0a7": {
          "model_module": "@jupyter-widgets/controls",
          "model_name": "HBoxModel",
          "model_module_version": "1.5.0",
          "state": {
            "_dom_classes": [],
            "_model_module": "@jupyter-widgets/controls",
            "_model_module_version": "1.5.0",
            "_model_name": "HBoxModel",
            "_view_count": null,
            "_view_module": "@jupyter-widgets/controls",
            "_view_module_version": "1.5.0",
            "_view_name": "HBoxView",
            "box_style": "",
            "children": [
              "IPY_MODEL_c251dc9bac0d44e99c938e71b6c52625",
              "IPY_MODEL_8153f8ffee67407c8db83d2701ea3658",
              "IPY_MODEL_fc2aa2521551435f890afa093fff75c4"
            ],
            "layout": "IPY_MODEL_66f4a8ecf82b484386884e67c45648ac"
          }
        },
        "c251dc9bac0d44e99c938e71b6c52625": {
          "model_module": "@jupyter-widgets/controls",
          "model_name": "HTMLModel",
          "model_module_version": "1.5.0",
          "state": {
            "_dom_classes": [],
            "_model_module": "@jupyter-widgets/controls",
            "_model_module_version": "1.5.0",
            "_model_name": "HTMLModel",
            "_view_count": null,
            "_view_module": "@jupyter-widgets/controls",
            "_view_module_version": "1.5.0",
            "_view_name": "HTMLView",
            "description": "",
            "description_tooltip": null,
            "layout": "IPY_MODEL_197617fa452f464780d8a71f1b72d0ec",
            "placeholder": "​",
            "style": "IPY_MODEL_6672490b9ea2414ba232f415c21bade8",
            "value": "Generating unsupervised examples...:  99%"
          }
        },
        "8153f8ffee67407c8db83d2701ea3658": {
          "model_module": "@jupyter-widgets/controls",
          "model_name": "FloatProgressModel",
          "model_module_version": "1.5.0",
          "state": {
            "_dom_classes": [],
            "_model_module": "@jupyter-widgets/controls",
            "_model_module_version": "1.5.0",
            "_model_name": "FloatProgressModel",
            "_view_count": null,
            "_view_module": "@jupyter-widgets/controls",
            "_view_module_version": "1.5.0",
            "_view_name": "ProgressView",
            "bar_style": "",
            "description": "",
            "description_tooltip": null,
            "layout": "IPY_MODEL_a9fac17c352a4a6ea0bc429a5a493932",
            "max": 50000,
            "min": 0,
            "orientation": "horizontal",
            "style": "IPY_MODEL_14157edf18624b70b675c40b30db01db",
            "value": 50000
          }
        },
        "fc2aa2521551435f890afa093fff75c4": {
          "model_module": "@jupyter-widgets/controls",
          "model_name": "HTMLModel",
          "model_module_version": "1.5.0",
          "state": {
            "_dom_classes": [],
            "_model_module": "@jupyter-widgets/controls",
            "_model_module_version": "1.5.0",
            "_model_name": "HTMLModel",
            "_view_count": null,
            "_view_module": "@jupyter-widgets/controls",
            "_view_module_version": "1.5.0",
            "_view_name": "HTMLView",
            "description": "",
            "description_tooltip": null,
            "layout": "IPY_MODEL_2adc25fd8a3a4a60b8c372e6cd08228c",
            "placeholder": "​",
            "style": "IPY_MODEL_489c0e84551945c69a0af6c0375b5dba",
            "value": " 49621/50000 [00:14&lt;00:00, 4006.23 examples/s]"
          }
        },
        "66f4a8ecf82b484386884e67c45648ac": {
          "model_module": "@jupyter-widgets/base",
          "model_name": "LayoutModel",
          "model_module_version": "1.2.0",
          "state": {
            "_model_module": "@jupyter-widgets/base",
            "_model_module_version": "1.2.0",
            "_model_name": "LayoutModel",
            "_view_count": null,
            "_view_module": "@jupyter-widgets/base",
            "_view_module_version": "1.2.0",
            "_view_name": "LayoutView",
            "align_content": null,
            "align_items": null,
            "align_self": null,
            "border": null,
            "bottom": null,
            "display": null,
            "flex": null,
            "flex_flow": null,
            "grid_area": null,
            "grid_auto_columns": null,
            "grid_auto_flow": null,
            "grid_auto_rows": null,
            "grid_column": null,
            "grid_gap": null,
            "grid_row": null,
            "grid_template_areas": null,
            "grid_template_columns": null,
            "grid_template_rows": null,
            "height": null,
            "justify_content": null,
            "justify_items": null,
            "left": null,
            "margin": null,
            "max_height": null,
            "max_width": null,
            "min_height": null,
            "min_width": null,
            "object_fit": null,
            "object_position": null,
            "order": null,
            "overflow": null,
            "overflow_x": null,
            "overflow_y": null,
            "padding": null,
            "right": null,
            "top": null,
            "visibility": "hidden",
            "width": null
          }
        },
        "197617fa452f464780d8a71f1b72d0ec": {
          "model_module": "@jupyter-widgets/base",
          "model_name": "LayoutModel",
          "model_module_version": "1.2.0",
          "state": {
            "_model_module": "@jupyter-widgets/base",
            "_model_module_version": "1.2.0",
            "_model_name": "LayoutModel",
            "_view_count": null,
            "_view_module": "@jupyter-widgets/base",
            "_view_module_version": "1.2.0",
            "_view_name": "LayoutView",
            "align_content": null,
            "align_items": null,
            "align_self": null,
            "border": null,
            "bottom": null,
            "display": null,
            "flex": null,
            "flex_flow": null,
            "grid_area": null,
            "grid_auto_columns": null,
            "grid_auto_flow": null,
            "grid_auto_rows": null,
            "grid_column": null,
            "grid_gap": null,
            "grid_row": null,
            "grid_template_areas": null,
            "grid_template_columns": null,
            "grid_template_rows": null,
            "height": null,
            "justify_content": null,
            "justify_items": null,
            "left": null,
            "margin": null,
            "max_height": null,
            "max_width": null,
            "min_height": null,
            "min_width": null,
            "object_fit": null,
            "object_position": null,
            "order": null,
            "overflow": null,
            "overflow_x": null,
            "overflow_y": null,
            "padding": null,
            "right": null,
            "top": null,
            "visibility": null,
            "width": null
          }
        },
        "6672490b9ea2414ba232f415c21bade8": {
          "model_module": "@jupyter-widgets/controls",
          "model_name": "DescriptionStyleModel",
          "model_module_version": "1.5.0",
          "state": {
            "_model_module": "@jupyter-widgets/controls",
            "_model_module_version": "1.5.0",
            "_model_name": "DescriptionStyleModel",
            "_view_count": null,
            "_view_module": "@jupyter-widgets/base",
            "_view_module_version": "1.2.0",
            "_view_name": "StyleView",
            "description_width": ""
          }
        },
        "a9fac17c352a4a6ea0bc429a5a493932": {
          "model_module": "@jupyter-widgets/base",
          "model_name": "LayoutModel",
          "model_module_version": "1.2.0",
          "state": {
            "_model_module": "@jupyter-widgets/base",
            "_model_module_version": "1.2.0",
            "_model_name": "LayoutModel",
            "_view_count": null,
            "_view_module": "@jupyter-widgets/base",
            "_view_module_version": "1.2.0",
            "_view_name": "LayoutView",
            "align_content": null,
            "align_items": null,
            "align_self": null,
            "border": null,
            "bottom": null,
            "display": null,
            "flex": null,
            "flex_flow": null,
            "grid_area": null,
            "grid_auto_columns": null,
            "grid_auto_flow": null,
            "grid_auto_rows": null,
            "grid_column": null,
            "grid_gap": null,
            "grid_row": null,
            "grid_template_areas": null,
            "grid_template_columns": null,
            "grid_template_rows": null,
            "height": null,
            "justify_content": null,
            "justify_items": null,
            "left": null,
            "margin": null,
            "max_height": null,
            "max_width": null,
            "min_height": null,
            "min_width": null,
            "object_fit": null,
            "object_position": null,
            "order": null,
            "overflow": null,
            "overflow_x": null,
            "overflow_y": null,
            "padding": null,
            "right": null,
            "top": null,
            "visibility": null,
            "width": null
          }
        },
        "14157edf18624b70b675c40b30db01db": {
          "model_module": "@jupyter-widgets/controls",
          "model_name": "ProgressStyleModel",
          "model_module_version": "1.5.0",
          "state": {
            "_model_module": "@jupyter-widgets/controls",
            "_model_module_version": "1.5.0",
            "_model_name": "ProgressStyleModel",
            "_view_count": null,
            "_view_module": "@jupyter-widgets/base",
            "_view_module_version": "1.2.0",
            "_view_name": "StyleView",
            "bar_color": null,
            "description_width": ""
          }
        },
        "2adc25fd8a3a4a60b8c372e6cd08228c": {
          "model_module": "@jupyter-widgets/base",
          "model_name": "LayoutModel",
          "model_module_version": "1.2.0",
          "state": {
            "_model_module": "@jupyter-widgets/base",
            "_model_module_version": "1.2.0",
            "_model_name": "LayoutModel",
            "_view_count": null,
            "_view_module": "@jupyter-widgets/base",
            "_view_module_version": "1.2.0",
            "_view_name": "LayoutView",
            "align_content": null,
            "align_items": null,
            "align_self": null,
            "border": null,
            "bottom": null,
            "display": null,
            "flex": null,
            "flex_flow": null,
            "grid_area": null,
            "grid_auto_columns": null,
            "grid_auto_flow": null,
            "grid_auto_rows": null,
            "grid_column": null,
            "grid_gap": null,
            "grid_row": null,
            "grid_template_areas": null,
            "grid_template_columns": null,
            "grid_template_rows": null,
            "height": null,
            "justify_content": null,
            "justify_items": null,
            "left": null,
            "margin": null,
            "max_height": null,
            "max_width": null,
            "min_height": null,
            "min_width": null,
            "object_fit": null,
            "object_position": null,
            "order": null,
            "overflow": null,
            "overflow_x": null,
            "overflow_y": null,
            "padding": null,
            "right": null,
            "top": null,
            "visibility": null,
            "width": null
          }
        },
        "489c0e84551945c69a0af6c0375b5dba": {
          "model_module": "@jupyter-widgets/controls",
          "model_name": "DescriptionStyleModel",
          "model_module_version": "1.5.0",
          "state": {
            "_model_module": "@jupyter-widgets/controls",
            "_model_module_version": "1.5.0",
            "_model_name": "DescriptionStyleModel",
            "_view_count": null,
            "_view_module": "@jupyter-widgets/base",
            "_view_module_version": "1.2.0",
            "_view_name": "StyleView",
            "description_width": ""
          }
        },
        "17393e55db3a470f9f9e29206f552220": {
          "model_module": "@jupyter-widgets/controls",
          "model_name": "HBoxModel",
          "model_module_version": "1.5.0",
          "state": {
            "_dom_classes": [],
            "_model_module": "@jupyter-widgets/controls",
            "_model_module_version": "1.5.0",
            "_model_name": "HBoxModel",
            "_view_count": null,
            "_view_module": "@jupyter-widgets/controls",
            "_view_module_version": "1.5.0",
            "_view_name": "HBoxView",
            "box_style": "",
            "children": [
              "IPY_MODEL_990c04244ca64cc28c36feba777f0c87",
              "IPY_MODEL_17d44048aba048e3ad1d0d4c18590881",
              "IPY_MODEL_d9184cca6e554d398b9eb24046d911ef"
            ],
            "layout": "IPY_MODEL_1e207a9a681c4d2087a6519ffe5d35e3"
          }
        },
        "990c04244ca64cc28c36feba777f0c87": {
          "model_module": "@jupyter-widgets/controls",
          "model_name": "HTMLModel",
          "model_module_version": "1.5.0",
          "state": {
            "_dom_classes": [],
            "_model_module": "@jupyter-widgets/controls",
            "_model_module_version": "1.5.0",
            "_model_name": "HTMLModel",
            "_view_count": null,
            "_view_module": "@jupyter-widgets/controls",
            "_view_module_version": "1.5.0",
            "_view_name": "HTMLView",
            "description": "",
            "description_tooltip": null,
            "layout": "IPY_MODEL_8b42093179a4460494c6d9015daa2f7d",
            "placeholder": "​",
            "style": "IPY_MODEL_5917624d08a54c989718edead969919e",
            "value": "Shuffling /root/tensorflow_datasets/imdb_reviews/plain_text/1.0.0.incompleteBI8CT2/imdb_reviews-unsupervised.tfrecord*...:  91%"
          }
        },
        "17d44048aba048e3ad1d0d4c18590881": {
          "model_module": "@jupyter-widgets/controls",
          "model_name": "FloatProgressModel",
          "model_module_version": "1.5.0",
          "state": {
            "_dom_classes": [],
            "_model_module": "@jupyter-widgets/controls",
            "_model_module_version": "1.5.0",
            "_model_name": "FloatProgressModel",
            "_view_count": null,
            "_view_module": "@jupyter-widgets/controls",
            "_view_module_version": "1.5.0",
            "_view_name": "ProgressView",
            "bar_style": "",
            "description": "",
            "description_tooltip": null,
            "layout": "IPY_MODEL_7a37b29797f3422bafe2c5bcd895d2a6",
            "max": 50000,
            "min": 0,
            "orientation": "horizontal",
            "style": "IPY_MODEL_ee0bb76ab8194d559d99d92677f87524",
            "value": 50000
          }
        },
        "d9184cca6e554d398b9eb24046d911ef": {
          "model_module": "@jupyter-widgets/controls",
          "model_name": "HTMLModel",
          "model_module_version": "1.5.0",
          "state": {
            "_dom_classes": [],
            "_model_module": "@jupyter-widgets/controls",
            "_model_module_version": "1.5.0",
            "_model_name": "HTMLModel",
            "_view_count": null,
            "_view_module": "@jupyter-widgets/controls",
            "_view_module_version": "1.5.0",
            "_view_name": "HTMLView",
            "description": "",
            "description_tooltip": null,
            "layout": "IPY_MODEL_a2a2edbcb0cc41b39f925741140058f5",
            "placeholder": "​",
            "style": "IPY_MODEL_37d199c247fd403bbbd7ec6466d5b3bf",
            "value": " 45570/50000 [00:00&lt;00:00, 125169.12 examples/s]"
          }
        },
        "1e207a9a681c4d2087a6519ffe5d35e3": {
          "model_module": "@jupyter-widgets/base",
          "model_name": "LayoutModel",
          "model_module_version": "1.2.0",
          "state": {
            "_model_module": "@jupyter-widgets/base",
            "_model_module_version": "1.2.0",
            "_model_name": "LayoutModel",
            "_view_count": null,
            "_view_module": "@jupyter-widgets/base",
            "_view_module_version": "1.2.0",
            "_view_name": "LayoutView",
            "align_content": null,
            "align_items": null,
            "align_self": null,
            "border": null,
            "bottom": null,
            "display": null,
            "flex": null,
            "flex_flow": null,
            "grid_area": null,
            "grid_auto_columns": null,
            "grid_auto_flow": null,
            "grid_auto_rows": null,
            "grid_column": null,
            "grid_gap": null,
            "grid_row": null,
            "grid_template_areas": null,
            "grid_template_columns": null,
            "grid_template_rows": null,
            "height": null,
            "justify_content": null,
            "justify_items": null,
            "left": null,
            "margin": null,
            "max_height": null,
            "max_width": null,
            "min_height": null,
            "min_width": null,
            "object_fit": null,
            "object_position": null,
            "order": null,
            "overflow": null,
            "overflow_x": null,
            "overflow_y": null,
            "padding": null,
            "right": null,
            "top": null,
            "visibility": "hidden",
            "width": null
          }
        },
        "8b42093179a4460494c6d9015daa2f7d": {
          "model_module": "@jupyter-widgets/base",
          "model_name": "LayoutModel",
          "model_module_version": "1.2.0",
          "state": {
            "_model_module": "@jupyter-widgets/base",
            "_model_module_version": "1.2.0",
            "_model_name": "LayoutModel",
            "_view_count": null,
            "_view_module": "@jupyter-widgets/base",
            "_view_module_version": "1.2.0",
            "_view_name": "LayoutView",
            "align_content": null,
            "align_items": null,
            "align_self": null,
            "border": null,
            "bottom": null,
            "display": null,
            "flex": null,
            "flex_flow": null,
            "grid_area": null,
            "grid_auto_columns": null,
            "grid_auto_flow": null,
            "grid_auto_rows": null,
            "grid_column": null,
            "grid_gap": null,
            "grid_row": null,
            "grid_template_areas": null,
            "grid_template_columns": null,
            "grid_template_rows": null,
            "height": null,
            "justify_content": null,
            "justify_items": null,
            "left": null,
            "margin": null,
            "max_height": null,
            "max_width": null,
            "min_height": null,
            "min_width": null,
            "object_fit": null,
            "object_position": null,
            "order": null,
            "overflow": null,
            "overflow_x": null,
            "overflow_y": null,
            "padding": null,
            "right": null,
            "top": null,
            "visibility": null,
            "width": null
          }
        },
        "5917624d08a54c989718edead969919e": {
          "model_module": "@jupyter-widgets/controls",
          "model_name": "DescriptionStyleModel",
          "model_module_version": "1.5.0",
          "state": {
            "_model_module": "@jupyter-widgets/controls",
            "_model_module_version": "1.5.0",
            "_model_name": "DescriptionStyleModel",
            "_view_count": null,
            "_view_module": "@jupyter-widgets/base",
            "_view_module_version": "1.2.0",
            "_view_name": "StyleView",
            "description_width": ""
          }
        },
        "7a37b29797f3422bafe2c5bcd895d2a6": {
          "model_module": "@jupyter-widgets/base",
          "model_name": "LayoutModel",
          "model_module_version": "1.2.0",
          "state": {
            "_model_module": "@jupyter-widgets/base",
            "_model_module_version": "1.2.0",
            "_model_name": "LayoutModel",
            "_view_count": null,
            "_view_module": "@jupyter-widgets/base",
            "_view_module_version": "1.2.0",
            "_view_name": "LayoutView",
            "align_content": null,
            "align_items": null,
            "align_self": null,
            "border": null,
            "bottom": null,
            "display": null,
            "flex": null,
            "flex_flow": null,
            "grid_area": null,
            "grid_auto_columns": null,
            "grid_auto_flow": null,
            "grid_auto_rows": null,
            "grid_column": null,
            "grid_gap": null,
            "grid_row": null,
            "grid_template_areas": null,
            "grid_template_columns": null,
            "grid_template_rows": null,
            "height": null,
            "justify_content": null,
            "justify_items": null,
            "left": null,
            "margin": null,
            "max_height": null,
            "max_width": null,
            "min_height": null,
            "min_width": null,
            "object_fit": null,
            "object_position": null,
            "order": null,
            "overflow": null,
            "overflow_x": null,
            "overflow_y": null,
            "padding": null,
            "right": null,
            "top": null,
            "visibility": null,
            "width": null
          }
        },
        "ee0bb76ab8194d559d99d92677f87524": {
          "model_module": "@jupyter-widgets/controls",
          "model_name": "ProgressStyleModel",
          "model_module_version": "1.5.0",
          "state": {
            "_model_module": "@jupyter-widgets/controls",
            "_model_module_version": "1.5.0",
            "_model_name": "ProgressStyleModel",
            "_view_count": null,
            "_view_module": "@jupyter-widgets/base",
            "_view_module_version": "1.2.0",
            "_view_name": "StyleView",
            "bar_color": null,
            "description_width": ""
          }
        },
        "a2a2edbcb0cc41b39f925741140058f5": {
          "model_module": "@jupyter-widgets/base",
          "model_name": "LayoutModel",
          "model_module_version": "1.2.0",
          "state": {
            "_model_module": "@jupyter-widgets/base",
            "_model_module_version": "1.2.0",
            "_model_name": "LayoutModel",
            "_view_count": null,
            "_view_module": "@jupyter-widgets/base",
            "_view_module_version": "1.2.0",
            "_view_name": "LayoutView",
            "align_content": null,
            "align_items": null,
            "align_self": null,
            "border": null,
            "bottom": null,
            "display": null,
            "flex": null,
            "flex_flow": null,
            "grid_area": null,
            "grid_auto_columns": null,
            "grid_auto_flow": null,
            "grid_auto_rows": null,
            "grid_column": null,
            "grid_gap": null,
            "grid_row": null,
            "grid_template_areas": null,
            "grid_template_columns": null,
            "grid_template_rows": null,
            "height": null,
            "justify_content": null,
            "justify_items": null,
            "left": null,
            "margin": null,
            "max_height": null,
            "max_width": null,
            "min_height": null,
            "min_width": null,
            "object_fit": null,
            "object_position": null,
            "order": null,
            "overflow": null,
            "overflow_x": null,
            "overflow_y": null,
            "padding": null,
            "right": null,
            "top": null,
            "visibility": null,
            "width": null
          }
        },
        "37d199c247fd403bbbd7ec6466d5b3bf": {
          "model_module": "@jupyter-widgets/controls",
          "model_name": "DescriptionStyleModel",
          "model_module_version": "1.5.0",
          "state": {
            "_model_module": "@jupyter-widgets/controls",
            "_model_module_version": "1.5.0",
            "_model_name": "DescriptionStyleModel",
            "_view_count": null,
            "_view_module": "@jupyter-widgets/base",
            "_view_module_version": "1.2.0",
            "_view_name": "StyleView",
            "description_width": ""
          }
        }
      }
    }
  },
  "cells": [
    {
      "cell_type": "markdown",
      "metadata": {
        "id": "view-in-github",
        "colab_type": "text"
      },
      "source": [
        "<a href=\"https://colab.research.google.com/github/zeynepsenatatli/NeuralNetworkExercises/blob/main/UE04_C13E10.ipynb\" target=\"_parent\"><img src=\"https://colab.research.google.com/assets/colab-badge.svg\" alt=\"Open In Colab\"/></a>"
      ]
    },
    {
      "cell_type": "code",
      "source": [
        "import numpy as np"
      ],
      "metadata": {
        "id": "2gBCxYkkaw3h"
      },
      "execution_count": null,
      "outputs": []
    },
    {
      "cell_type": "markdown",
      "source": [
        " a) *Download the Large Movie Review Dataset, which contains 50,000 movies reviews from the Internet Movie Database. The data is organized in two directories, train and test, each containing a pos subdirectory with 12,500 positive reviews and a neg subdirectory with 12,500 negative reviews. Each review is stored in a separate text file.*\n",
        "\n"
      ],
      "metadata": {
        "id": "ajODmVuHaG-4"
      }
    },
    {
      "cell_type": "code",
      "execution_count": null,
      "metadata": {
        "colab": {
          "base_uri": "https://localhost:8080/"
        },
        "id": "uV4Or_ntBZs7",
        "outputId": "01a9e24a-56c0-4d17-bb94-a5f58db64d45"
      },
      "outputs": [
        {
          "output_type": "execute_result",
          "data": {
            "text/plain": [
              "PosixPath('datasets/aclImdb')"
            ]
          },
          "metadata": {},
          "execution_count": 51
        }
      ],
      "source": [
        "from pathlib import Path\n",
        "import tensorflow as tf\n",
        "\n",
        "root = \"https://ai.stanford.edu/~amaas/data/sentiment/\"\n",
        "filename = \"aclImdb_v1.tar.gz\"\n",
        "filepath = tf.keras.utils.get_file(filename, root + filename, extract=True,\n",
        "                                   cache_dir=\".\")\n",
        "path = Path(filepath).with_name(\"aclImdb\")\n",
        "path"
      ]
    },
    {
      "cell_type": "code",
      "source": [
        "def review_paths(dirpath):\n",
        "    return [str(path) for path in dirpath.glob(\"*.txt\")]\n",
        "\n",
        "train_pos = review_paths(path / \"train\" / \"pos\")\n",
        "train_neg = review_paths(path / \"train\" / \"neg\")\n",
        "test_valid_pos = review_paths(path / \"test\" / \"pos\")\n",
        "test_valid_neg = review_paths(path / \"test\" / \"neg\")\n",
        "\n",
        "len(train_pos), len(train_neg), len(test_valid_pos), len(test_valid_neg)"
      ],
      "metadata": {
        "colab": {
          "base_uri": "https://localhost:8080/"
        },
        "id": "EQxxxU3JGCJC",
        "outputId": "5e46e2d0-951c-4b07-c448-86f9ed2429e1"
      },
      "execution_count": null,
      "outputs": [
        {
          "output_type": "execute_result",
          "data": {
            "text/plain": [
              "(12500, 12500, 12500, 12500)"
            ]
          },
          "metadata": {},
          "execution_count": 53
        }
      ]
    },
    {
      "cell_type": "code",
      "source": [
        "train_pos[0]"
      ],
      "metadata": {
        "colab": {
          "base_uri": "https://localhost:8080/",
          "height": 36
        },
        "id": "R0AejISHGtzI",
        "outputId": "d6addc55-f600-4b6b-92fc-db4f471066a9"
      },
      "execution_count": null,
      "outputs": [
        {
          "output_type": "execute_result",
          "data": {
            "text/plain": [
              "'datasets/aclImdb/train/pos/1924_10.txt'"
            ],
            "application/vnd.google.colaboratory.intrinsic+json": {
              "type": "string"
            }
          },
          "metadata": {},
          "execution_count": 54
        }
      ]
    },
    {
      "cell_type": "markdown",
      "source": [
        "b) *Split the test set into a validation set (15,000) and a test set (10,000).*"
      ],
      "metadata": {
        "id": "hJReAuUjaegE"
      }
    },
    {
      "cell_type": "code",
      "source": [
        "np.random.shuffle(test_valid_pos)\n",
        "np.random.shuffle(test_valid_neg)\n",
        "\n",
        "test_pos = test_valid_pos[:5000]\n",
        "test_neg = test_valid_neg[:5000]\n",
        "valid_pos = test_valid_pos[5000:]\n",
        "valid_neg = test_valid_neg[5000:]"
      ],
      "metadata": {
        "id": "-kNwJzK0aeJt"
      },
      "execution_count": null,
      "outputs": []
    },
    {
      "cell_type": "code",
      "source": [
        "print(len(test_pos))\n",
        "print(len(test_neg))"
      ],
      "metadata": {
        "colab": {
          "base_uri": "https://localhost:8080/"
        },
        "id": "rzmNp2TRa1pK",
        "outputId": "09047d88-226b-485c-ab61-8c47acd6e98a"
      },
      "execution_count": null,
      "outputs": [
        {
          "output_type": "stream",
          "name": "stdout",
          "text": [
            "5000\n",
            "5000\n"
          ]
        }
      ]
    },
    {
      "cell_type": "code",
      "source": [
        "test_neg[0]"
      ],
      "metadata": {
        "colab": {
          "base_uri": "https://localhost:8080/",
          "height": 36
        },
        "id": "OF1521BOcF-Q",
        "outputId": "9b6b5a79-72c5-4b80-d736-c2d96e3b0ea6"
      },
      "execution_count": null,
      "outputs": [
        {
          "output_type": "execute_result",
          "data": {
            "text/plain": [
              "'datasets/aclImdb/test/neg/7829_4.txt'"
            ],
            "application/vnd.google.colaboratory.intrinsic+json": {
              "type": "string"
            }
          },
          "metadata": {},
          "execution_count": 57
        }
      ]
    },
    {
      "cell_type": "code",
      "source": [
        "with open(test_neg[0]) as review_file:\n",
        "                a = review_file.read()\n",
        "\n",
        "print(a)"
      ],
      "metadata": {
        "colab": {
          "base_uri": "https://localhost:8080/"
        },
        "id": "56Cb7_CFcaQA",
        "outputId": "609230ec-13d3-4e5c-e01a-14d7898a79d2"
      },
      "execution_count": null,
      "outputs": [
        {
          "output_type": "stream",
          "name": "stdout",
          "text": [
            "Olivier Assayas' film stars Asia Argento as a woman who had a relationship with Michael Madsen. Madsen is a business man who's in financial trouble. In desperation he is going to sell his share of a business to a company called Golden Eagle, a company from the Far East. As Madsen begins his moves away from his company Asia Argento returns to his life. The pair had a torrid love affair that included her doing business favors for Madsen (with said Golden Eagle). Once Argento enters the film the film follows her as we see the tangled web she's woven and how the complications spin dangerously and violently out of control.<br /><br />I'm not a fan. Actually I was quite bored as the film seems to go from pillar to post for much of the first hour during which I kept wondering what the point was other than to provide a meaty role for Argento. Argento, daughter of director Dario Argento and a director in her own right, is a unique actress. At times stunningly good, she is more often then not going to give you a quirky off beat portrayal of a damaged human being. Sometimes it works and sometimes it doesn't. I don't think it completely works here mostly because the script is too \"complicated\" to support it. I didn't care what was going on so her wounded girl just rubbed me the wrong way(she seemed more nut job than anything else). I'm not blaming the actors but writer/director Assayas who has once again constructed a complicated tale with the sort of parts actors love to tackle, but which leave audiences scratching their heads because they they don't really work. <br /><br />If you must try it on cable\n"
          ]
        }
      ]
    },
    {
      "cell_type": "markdown",
      "source": [
        "c) *Use tf.data to create an efficient dataset for each set.*"
      ],
      "metadata": {
        "id": "QZkTh1rub6rF"
      }
    },
    {
      "cell_type": "code",
      "execution_count": null,
      "metadata": {
        "id": "sUZBH7MzRw-j"
      },
      "outputs": [],
      "source": [
        "def imdb_dataset(filepaths_pos, filepaths_neg):\n",
        "    reviews = []\n",
        "    labels = []\n",
        "    for filepaths, label in ((filepaths_neg, 0), (filepaths_pos, 1)):\n",
        "        for filepath in filepaths:\n",
        "            with open(filepath) as review_file:\n",
        "                reviews.append(review_file.read())\n",
        "            labels.append(label)\n",
        "    return tf.data.Dataset.from_tensor_slices(\n",
        "        (tf.constant(reviews), tf.constant(labels)))"
      ]
    },
    {
      "cell_type": "code",
      "source": [
        "train_set = imdb_dataset(train_pos, train_neg)"
      ],
      "metadata": {
        "id": "bgzfc0LZdTpP"
      },
      "execution_count": null,
      "outputs": []
    },
    {
      "cell_type": "code",
      "source": [
        "dataset_size = tf.data.experimental.cardinality(train_set).numpy()\n",
        "print(dataset_size)"
      ],
      "metadata": {
        "colab": {
          "base_uri": "https://localhost:8080/"
        },
        "id": "TCxpaCF8fnln",
        "outputId": "9f0d46f6-8be1-42a6-9578-7bd20224573d"
      },
      "execution_count": null,
      "outputs": [
        {
          "output_type": "stream",
          "name": "stdout",
          "text": [
            "25000\n"
          ]
        }
      ]
    },
    {
      "cell_type": "code",
      "source": [
        "train_set = train_set.shuffle(buffer_size=25000)"
      ],
      "metadata": {
        "id": "2JsGuzojehiX"
      },
      "execution_count": null,
      "outputs": []
    },
    {
      "cell_type": "code",
      "source": [
        "for X, y in train_set.take(3):\n",
        "    print(X)\n",
        "    print(y)\n",
        "    print()"
      ],
      "metadata": {
        "colab": {
          "base_uri": "https://localhost:8080/"
        },
        "id": "iO39A16cdVTI",
        "outputId": "d02b16fd-3eda-4fe9-edb9-05f2fc4f9b7a"
      },
      "execution_count": null,
      "outputs": [
        {
          "output_type": "stream",
          "name": "stdout",
          "text": [
            "tf.Tensor(b\"Yes, Marie Dresler drinks prune juice that she thinks is poison and she exits running.<br /><br />Dresler is good. Never my cup of tea but she is a solid performer who surely holds the screen.<br /><br />I watched this for Polly Moran, whom I've seen elsewhere. Here, Moran is OK -- just OK -- as Dressler's shrewish friend/foe. Too bad she has sunk into nearly total oblivion.<br /><br />The plot is good hearted. Bad guys try to rob the townspeople. Dressler triumphs and all ends well.<br /><br />I do wonder about the central plot mechanism: bonds. This came out during the Depression so maybe everyone was familiar with bonds and what they can do if used well and if used wrongly. I, however, not of that era, am vaguely familiar with them. They're like stocks only different, right? It seems odd to build a story about The Little Man around a somewhat sophisticated monetary entity.\", shape=(), dtype=string)\n",
            "tf.Tensor(0, shape=(), dtype=int32)\n",
            "\n",
            "tf.Tensor(b\"My sincere advice to all: don't watch the movie.<br /><br />Don't even go near to the theater where this movie is being played!! even a glimpse of it is bad for health. serious. no jokes. it's 3.30 am in the morning. and i returned from this crappiest movie on this universe. FOUR HOURS DAMN!!! I am proud that i survived after all of it! If this is called survival.<br /><br />i am highly frustrated. annoyed. disappointed. it was sheer waste of time! money went in drain! no plot. Hope i wake up tomorrow sane and with no memories of this night!! RUBBISH MOVIE.<br /><br />Happy Republic day to one and all :)\", shape=(), dtype=string)\n",
            "tf.Tensor(0, shape=(), dtype=int32)\n",
            "\n",
            "tf.Tensor(b\"In order to rate this movie fairly you have to think about the genre it's supposed to be: children's. They had more guidelines to follow in order to make this movie (meaning it could not get away with some of the humor and or language from the 1st) taking all that in this movie was fun and enjoyable to watch. Sequels usually make me nervous, however this one did pretty well for itself. Knowing that it didn't have the star power of Fraiser as George they capitalized on the humor and i believe Showeman did pretty well as the lead. The plot being easy to follow and maybe campy at times fits well for a younger audience, if you want to watch a movie and hope for academy award honors this is not it, but if you want to watch a simple, fun, energy filled movie you would make a good choice with this one.\", shape=(), dtype=string)\n",
            "tf.Tensor(1, shape=(), dtype=int32)\n",
            "\n"
          ]
        }
      ]
    },
    {
      "cell_type": "code",
      "source": [
        "train_set = train_set.batch(32).prefetch(1)\n",
        "valid_set = imdb_dataset(valid_pos, valid_neg).batch(32).prefetch(1)\n",
        "test_set = imdb_dataset(test_pos, test_neg).batch(32).prefetch(1)"
      ],
      "metadata": {
        "id": "k9QePIaDrdXW"
      },
      "execution_count": null,
      "outputs": []
    },
    {
      "cell_type": "code",
      "source": [
        "for X, y in test_set.take(1):\n",
        "    print(X)\n",
        "    print(y)\n",
        "    print()"
      ],
      "metadata": {
        "colab": {
          "base_uri": "https://localhost:8080/"
        },
        "id": "PpSfwYhTsgFc",
        "outputId": "b0f40dc5-2b3d-4601-f02c-447a59afa3d3"
      },
      "execution_count": null,
      "outputs": [
        {
          "output_type": "stream",
          "name": "stdout",
          "text": [
            "tf.Tensor(\n",
            "[b'Olivier Assayas\\' film stars Asia Argento as a woman who had a relationship with Michael Madsen. Madsen is a business man who\\'s in financial trouble. In desperation he is going to sell his share of a business to a company called Golden Eagle, a company from the Far East. As Madsen begins his moves away from his company Asia Argento returns to his life. The pair had a torrid love affair that included her doing business favors for Madsen (with said Golden Eagle). Once Argento enters the film the film follows her as we see the tangled web she\\'s woven and how the complications spin dangerously and violently out of control.<br /><br />I\\'m not a fan. Actually I was quite bored as the film seems to go from pillar to post for much of the first hour during which I kept wondering what the point was other than to provide a meaty role for Argento. Argento, daughter of director Dario Argento and a director in her own right, is a unique actress. At times stunningly good, she is more often then not going to give you a quirky off beat portrayal of a damaged human being. Sometimes it works and sometimes it doesn\\'t. I don\\'t think it completely works here mostly because the script is too \"complicated\" to support it. I didn\\'t care what was going on so her wounded girl just rubbed me the wrong way(she seemed more nut job than anything else). I\\'m not blaming the actors but writer/director Assayas who has once again constructed a complicated tale with the sort of parts actors love to tackle, but which leave audiences scratching their heads because they they don\\'t really work. <br /><br />If you must try it on cable'\n",
            " b'Two years after this movie was made, \"The Juror\" came out. Don\\'t waste your time on this one. See \"The Juror\" instead. \"The Juror\" is essentially the same story as \"Trial By Jury,\" with better acting, better directing and a far more gripping aura about it. William Hurt was not believable as a cop-gone-bad, and Armand Assante couldn\\'t be more unlike a mob boss if they had dressed him in a clown outfit. You didn\\'t become involved enough with Joann Whalley\\'s character to be that upset by what was happening to her. Also, the way in which she interacted with the jury wasn\\'t compelling or interesting in any way. Kathleen Quinlan\\'s role as a hooker/killer wasn\\'t fleshed out enough and quite frankly was unnecessary for to the plot.'\n",
            " b'This pointless film was a complete disappointment. None of the characters is likeable in the least, so you watch what befalls each without really caring. What was worst was renting this movie at a gay owned establishment only to find that this story of male hustlers was filled with homophobic young men engaged in plenty of scenes of straight sex and not one single scene of gay sex.'\n",
            " b'Some movies are just \\xc2\\x85 unlucky. These are the films that obviously thrived on a lot of goodwill and a handful of potentially great ideas, but simply didn\\'t have the budgetary means and/or professional cast and crew members at their disposal to make it happen. \"The Strangeness\" definitely belongs in this category. You really want to like it, but even the most tolerant and undemanding 80\\'s horror fanatics will have to admit the film barely reaches the level of mediocrity due to its atmosphere of cheapness, clumsy stop-motion effects and impenetrably dark cinematography. \"The Strangeness\" has a fairly original plot and setting (okay, it\\'s similar to \"The Boogens\" but I sincerely doubt that director David Michael Hillman intentionally ripped off a fellow insignificant 80\\'s B-movie) and the players deliver enthusiast performances even though they\\'re all miscast. An assembly of amateur speleologists go on an expedition to explore the infamous Gold Spike mine. Many years ago, several miners mysteriously died there and the place has abandoned ever since, but there\\'s supposed to be too much gold hidden there to remain closed forever. Shortly after they descended into the mine, the group members one by one encounter the slimy ruler of the Gold Spike mine; a Lovecraftian monster with tentacles and an incredibly cheesy way of moving forward. Throughout most of its running time, \"The Strangeness\" is a boring and incompetent mess that is difficult to follow due to the complete lack of lighting. The characters are uninteresting and the mine remains a mystery because the only lighting effects come from the helmets of the speleologists. There\\'s very little action or horror to experience in the first hour, but director Hillman cleverly grasps the viewers\\' attention by showing bits and pieces of the monster at regular intervals. As soon as you catch the first glimpse of the monster\\'s tentacle, you\\'re doomed to keep watching till the very end. The creature is realized with stop-motion effects, which I usually adore and worship, but here in this case they look extremely weak and pitiable. The person responsible for the special effects should have paid more attention to the work of Ray Harryhousen. The death sequences largely occur off-screen and there\\'s very little suspense throughout the whole movie. A horror flick with a setting like this should benefice from claustrophobic atmosphere and unidentifiable sound effects, but \"The Strangeness\" lacks all this. The biggest trump of the film is unquestionably the beautiful appearance of blond actress Terri Berland. She resembles a speleologist as much as I resemble Mother Theresa, but she surely looks good in her tight white top and beige pants.'\n",
            " b\"Like the other comments says, this might be surprise to those who haven't seen the work of Jeunet & Caro or Emir Kusturica. But have you already seen Delicatessen, there is nothing new it this film. I thought Delicatessen was great when it came out, but this film just arrive too late to be of any interest. I don't think it's a worse film than Delicatessen but it's a bore to see it now, like it probably would be to watch Delicatessen again. There is really no point to the film, nothing that really matter or stays with you. There may be a distant similarity to the films of Kusturica, but he's really in a different league, so you should rather go see his films than waste your time on Tuvalu.\"\n",
            " b'If there\\'s one thing I want to distinguish myself from all the other great reviewers here, it\\'s that I am the Queen of Finding Strange Movies in Thrift and Dollar Stores. That said, you can\\'t possibly imagine how happy I was when I found this one. <br /><br />I can even remember that Saturday morning when *every* station simulcast it, so you were stuck if you wanted to watch something else (then again, I guess that was the idea). As a kid, I didn\\'t know if I liked the way all the different characters were stuck together (there are some crossovers that just do *not* work). But I guess the special had it\\'s intended effect. Don\\'t do drugs because you will have nightmares about the Muppets.<br /><br />Now, if you watch this as an adult, on the other hand, you will be treated to the *strangest* anti-drug movie this side of \"Reefer Madness\". I think I\\'ll just leave it at that before I get into trouble.'\n",
            " b\"Honestly, this movie is weak. Very weak. Only capital character can something. She's work like supercharger on bad engine...so, if you like red-haired Valkyries - see that. But better find picture of Brigitte as Sonja and put it on desktop. It will save of disappointments. Well, Arnold also do his deal...but it definitely not best his role. Other characters - bad is not that word. Sword fights? Monsters? Ridiculous. Plot is really shame. Why was necessary rape she? Especially, we don't see it.<br /><br />Anyway movie is weak. Though worse movies exist...Without main characters it would be just ******. And if somebody even discusses it, maybe...\"\n",
            " b\"This is about one of the worst movies I'd ever seen. It's not the worst though - Manos the Hands of Fate holds that honor.<br /><br />This movie has a lot of problems. To begin, this whole movie is a cheap rip-off of the Conan movies. There's the babe in a skimpy dress wearing a hubcap, the quiet Asian warrior, the cookie cutter bad guy, the almost mindless soliders, and so on. There's lots of continuity errors in this film. Some of the dumbest errors I've ever seen are in this film.<br /><br />Fortunately when I watched this film I seen the MST3K version. Joel and the 'bots make the film watchable, otherwise I probably would've turned it off five minutes into the film.\"\n",
            " b'This one and the one prior \"Toulon\\'s Revenge\" and the next one seem to be completely different from the first two movies where the puppets were not so nice. It is basically choose your series, the first two go together and paint the puppets as killers, while the next three are a series of them being the good guys. This one plays out to much like some cheesy television series episode to be as good as part three was and I never really had the urge to try and watch part five of the series. Basically, a kid gets the puppets while some strange dark lord or something sends his evil puppets out to kill, this dark lord looks like some sort of enemy from one of those live action Japanese shows like Ultraman. The movie is over before you know it though so it has to get credit for not inflicting you with a very painful to watch movie. Just to many plot holes and things in it for it to be considered an okay movie. You do get to see the guy who played Toulon in the last movie though then you have a very anti-climatic battle and wham the movie is over before it really begins.'\n",
            " b'The fifth collaboration between Marlene Dietrich and director Josef von Sternberg, BLONDE VENUS is a film that looks great while it\\'s playing but fails to engages the viewer. The plodding storyline of Dietrich being torn between two men, becoming a mammoth cabaret star, and fighting for the custody of her child is jumbled and often feels like bits of three separate films half-baked together. Dietrich is unwisely cast in a rather passive, reactive role for much of the film and her character remains aloof from viewers, while Herbert Marshal is unconvincing as her ill-tempered husband, and Cary Grant is largely wasted as a suave suitor who dashes in and out of the picture. The film does contain some intriguing set pieces (the \"Hot Voodoo\" number is the high point) that are impressively surrealistic for this era in Hollywood, although it proves to no avail in such a dull, incoherent film.'\n",
            " b'At one point in this waste of celluloid, Charles Dance as some sort of meant-to-be-funny, cyborg bad guy says \"If I had an anus, I\\'d soil myself.\"<br /><br />Quite.'\n",
            " b'Oh, how I laughed during those first couple of scenes. This silly little film about an 11 year-old who carries a gun, steals cars, robs stores, burglars houses, extorts money from other kids, burns houses, shoots rats, buys drugs, distributes drugs to his mother and his friends, and then kills a guy. What a great comedy! But it wasn\\'t intended to be a comedy. It was intended as a social drama. How can this be? The events in this film are absurd and ridiculous. The characters are all stereotypes right out of a 4 year-old\\'s comic-strip-induced immature imagination. The dialog is laughable; people talk like morons. It\\'s a very dumb film.<br /><br />The first scenes are indeed very funny, for all the wrong reasons. But the unintentional hilarity of the idiotic premise runs out after a short while, and after that the laughs come only rarely; by that time the viewer can\\'t believe what he is seeing and is alternately amazed and bored by what follows (if he has at least half a brain cell).<br /><br />A short film, but feels like an eternity. The film actually IS a seriously-intended attempt to show the world of a young degenerate, while imitating movies vastly superior to it, like \"Fun\". There is just such an air of phoniness about everything; the kids, the adults, everyone lacks credibility both in their actions and dialog. The kid in the lead mugs his way through the film as though he had seen all the Jimmy Cagney movies at least a hundred times. And, typically enough, the kid isn\\'t portrayed as a reservoir of evil, but, instead, as a misunderstood little artistic talent. But of course. Every young hooligan is misunderstood - society made him bad. Poor child.<br /><br />The film is embarrassing; a collection of stale, occasionally hilarious clich\\xc3\\xa9s put together to make a movie that lacks intelligence and meaning. The intellectual level of the film is zero.'\n",
            " b\"Whatever Committee of PC Enforcers is responsible for this movie has achieved something that I never thought possible: to take some truly gifted actors (Davis, Hardin and Taylor) and make you want to insure you never encounter them in an enclosed space, ever. The sentiments that underlie the screenplay are so jejeune and idiotic that it is impossible to understand or imagine what audience would find this picture appealing, much less funny. Architecture students perhaps?<br /><br />Only one scene is visually clever: Marcia Gay Hardin sashaying, all wriggles and rhythm, into a bar manages to exude more style and energy in ten seconds than the whole of the rest of the film added up and multiplied to the tenth power. As for the other members of the cast, they probably won't want to put this one on their resumes.\"\n",
            " b\"I agree with most of the critics above. More yet, I was shocked by the presentation of the love scenes with the homosexual couple. Why? because while they --the director, the producers?-- didn't have any compulsion whatsoever in presenting the different heterosexual couples in the most passionate embraces including nudity and super close-ups of French kissing and all sorts of nude contortions in bed, completely unnecessary in their length and in the story, when the moment came to show the same experiences with the homosexual couple, they only dare to go as far as an excruciatingly painful hug, almost among scholarly giggles, with two very nervous actors. So, in reality, the makers of this film found homosexuality to be UNNATURAL, as one of the characters says in some scene. What a difference with the Spanish cinema!! I remember being at the projection of an Almodovar film in an Italian cinema in Rome, and being completely amazed at the total lack of reaction from the Italian audience, they were afraid to have a reaction!! when in Spain people would fall down from their seats laughing at all the risqu\\xc3\\xa8 situations and fabulous Almodovar wit and flair. Obviously in Italy there are dark forces in its history that impedes the free manifestation of some very normal and natural emotions. Pity. I must add that I was quite surprised to find that this same comment was censured by another correspondent. It's very bad and dangerous when we cannot be allowed by the narrowness of others to express our opinions about certain matters. Where is freedom of speech? I don't know if that censor will approve of the changes I was forced to make in this comment, and I hope he won't receive the same treatment from some other narrow minded judge. Pity again.\"\n",
            " b'This is what happens when you try to adapt a play from the theater. Look at the end of the picture, totally theatrical.<br /><br />With a reminiscent of Les liaisons dangereuses the final steam-less speech try to make us think that the whole (and deep) theme of this matter was the manhood. Who cares by this point? It was about manipulation. And so the audience feels after this movie has ended.<br /><br />Young directors: A play is told with the words more than actions. A film is the opposite most of the times.<br /><br />And I\\'m not talking about the gay theme, overly exploited without a point (\\'cause there\\'s no explanation of this topic considering the so called \"philosophic\" or presumptuous basis) to the level that this film should have been called Grand Gay'\n",
            " b'My brother-in-law and his wife brought the movie over one night to watch on video. This should have given me the first clue that it would be horrible. It was. From the very first frame to the last this movie is terrible. It does not even quite register as a \"B\" movie. Maybe an N or a P. One of the worst 5 movies I\\'ve ever seen. From the rubber raptor-on-a-stick to the still-breathing corpses in the car to the beyond horrible closing lines, this movie isn\\'t worth watching if you\\'ve received it for free.<br /><br />Skip this one altogether--unless you want to play Mystery Science Theatre with your friends, it will provide good ammunition.'\n",
            " b\"The Concorde:Airport'79, Is for now, the last of the high drama high,camp Airport series, At first glance in the TV guide,or DVD cover you would simply think that the film your about to view is as thrilling as the previous Airport's Think Again! What your treated to is 2 hours And 3 Minutes worth of unintentional laughs courtesy of the worst script ever writing it was even penned by Eric Roth, Who brought the world 'Forrest Gump! well one things for sure the script is not Oscar worthy,It's Razzie worthy! The Executives at Universal in '79,done the right thing by marketing this as a 'comedy' Apart from Charo! the film does have an impressive cast list, It's certainly watchable to say the least,\"\n",
            " b\"THE ATTIC starts off well. The somewhat dreary story is helped greatly by the two main actors and there's a semblance of a character study going on here but the film goes downhill fast when Carrie Snodgress' character buys a monkey. Not one of those cute little monkeys. She buys a real big chimpanzee!!!<br /><br />This sudden plot device basically kills the movie. It's just not conceivable for a woman like the one Snodgress plays, who has a hard time doing anything because of her domineering father, for her to, out of the blue, buy a chimpanzee. I mean, come on! Forget about it!\"\n",
            " b'I had read the newspaper reviews of this film and I must say my expectations were very low before watching Ocean\\'s 12. I really enjoyed the first movie but this successor is one of the worst movies ever. I would rate it top 5 of the worst movie I have ever seen. Why do I say that? First of all there is a story so thin that Britney Spears Crossroads looks like the perfect action thriller. The fragments that could be assigned the term \"story\" is loosely held together at times but most of the time the movie just moves along with no purpose or drive. The entire story seems forced and the script surrounding the story is even more forced that it become farce at times.<br /><br />The actors show up but doesn\\'t do anything to deserve any credit or appraise. Most embarrassing are leading ladies (Roberts and Zeta-Jones) that either overplay or are extremely plain. Damon, Clooney and Pitt aren\\'t brilliant either. To be honest I really don\\'t understand how they would want to be associated with something as bad as this movie.<br /><br />=== May contains spoilers ==== Camera and editing, sigh where should I begin. There are many unnecessary camera movements that just make the experience painful. Combine that with extremely untactful editing and you start looking for a wooden spoon to carve your heart out. Especially the scene where the entire gang is moved out of the prison to be transported away by car. The camera zoom to each person just get boring and when you are at number 3 of 12 you got the message: wow you are cool and can do simple zoom effects - NOT. I understand that the scene with Tess Ocean (Julia Roberts) playing Julia Roberts is supposed to be funny but it just gets extremely embarrassing and you turn away to avoid experiencing the mess. Bruce Willis. Why? Please explain it to me! WHY???<br /><br />To summarize ... if you have to choose between root canal work and watching Ocean\\'s 12 I recommend the former. Make sure they do all the teeth while you are at it ...'\n",
            " b\"Circus could have been so much better if they had reduced the number of twists and developed each better the film features a very gifted cast that mostly perform well , however it totally loses the audience basically everyone is back stabbing everyone else and not back stabbing them at the same time because they are backstabbing someone else and working with .... did i lose you? well the film is even more confusing clearly written by a first timer writer , it has some redeeming qualities though in the acting especially Famke Janssen shines as Lily but sadly gets a lot of USELESS screen time just standing there doing nothing.....the dialogue is a bit cheesy and the accents sometimes irritating but its still worth watching if you're a fan of any of the actors especially John and Famke who get the most screen time just remember to watch it with a notebook so you can write down who is double crossing who every second....\"\n",
            " b\"This episode has just aired in the UK.<br /><br />What a disappointment. The heavy-handed touches of humour were ill-judged, childish and detracted from what could have been a pretty good storyline. I cannot believe that Jerry Bruckheimer allowed this episode to take place. I have seen every previous episode of this show, and even the episode where Jack played his own older self was way ahead of this episode. The lesbian kiss was pathetic sensationalism.<br /><br />There was also no continuity from the previous episode. There was nothing in the storyline investigating Martin's dangerous behaviour or possible drug addiction. There was similarly nothing explicitly written about Jack's burgeoning relationship with Ann. Usually Without A Trace is pretty good at this sort of continuity.<br /><br />The next episode needs to be a considerable improvement.\"\n",
            " b'Johnnie (Bert Wheeler) is a would-be songwriter; Newton (Robert Woolsey) is a would-be inventor. Both work at a cigar stand in the lobby of an office building. Johnnie wants to sell a song to Winfield Lake, a song publisher who also owns the building. Lake\\'s secretary, Mary (Betty Grable), is Johnnie\\'s sweetheart. When Lake turns up dead, circumstances conspire to make Mary and Newton think that Johnnie is the killer. They conspire again to implicate Mary, who goes to jail. But who really shot Lake? Who is the Black Widow, the blackmailer who had threatened him? The other characters in this wacky murder mystery are: Lake\\'s suspicious wife, a self-satisfied private detective, a seemingly slow-witted janitor (Willie Best), Lake\\'s auditor, a songwriter who thinks Lake is stealing from him and another who thinks everyone is stealing from him. It\\'s up to Newton and his truth machine to reveal the real killer.<br /><br />The baby-voiced Wheeler and the cigar-chomping Woolsey strike me as an arbitrary pairing, but they made several movies together in the 30s and some of them were funny.<br /><br />Not this one. George Stevens, who went on to have a distinguished career, directed this dismal comedy with a tedious murder mystery plot. But two scenes are good, and both feature Wheeler and Betty Grable singing the excellent \"Music in My Heart,\" written by Dorothy Fields and Jimmy McHugh. The first time, they sing it walking up a staircase (after which they dance back down). Later, Wheeler and Woolsey are on stilts so that they can see and talk to Mary, who is in a jail cell on a high floor. Wheeler and Grable sing to each other through the bars.<br /><br />\"The Nitwits\" has a few laughs, but the level of comedy is best illustrated by Woolsey\\'s line: \"Sonny, you\\'ve got the brain of a six-year-old boy. And I\\'ll bet even he was glad to get rid of it.\" It\\'s watered-down Groucho\\xc2\\x97who didn\\'t use the superfluous \"even\" when he said it.'\n",
            " b'This is a pretty lousy picture.It offers nothing unique or original or even interesting.<br /><br />A medical student discovers that a secret society at her university is engaged in macabre medical experiments.And of course she becomes involved in solving the weird deaths at the school.This movie started out promising with a few cool special effects in which a guy is partially dissected while alive and tries to get away after he wakes up but then even that fizzles and the rest of the special effects are pretty routine plastic models of the human body and that unreal looking blood that these second rate horror movies always seem to have.<br /><br />And as if the routine plot and the lousy acting wasn\\'t enough this movie had subtitles that many times didn\\'t even match the dubbed English that you hear being spoken and then add that to the mouth movement not matching the dubbing ..well let\\'s just say trying to coordinate all that in your head isn\\'t worth it for this mediocre movie.<br /><br />I was at least counting on some skin in this movie and except for a bit during the opening credits this movie didn\\'t deliver on that either.<br /><br />This is a boring routine run of the mill horror/gore movie---short on horror and gore.Skip this movie unless \"Ernest goes to Camp\" is the only rental left.'\n",
            " b'During production, this LWT series was titled \\'Rocket To The Moon\\', a title that everyone on set at the time thought was cheesy enough. Then word came through that it had been retitled \\'Reach for the Moon\\', as if this the addition of this new word would evoke heavy metaphorical meanings involving the relationships and aspirations of the characters. This same heavy handed lack of subtlety and understanding is clear throughout the very fabric of the entire series, and the same tired and boring love-triangle storyline is actually stretched out over 7 episodes! Any television program that decides to use the \\'love-triangle\\' storyline for even a single episode is pushing it, but to smear it over seven episodes is unforgivable. There are reasons to watch however, with the scenery of the Isle of Wight certainly providing a beautiful setting, and the seemingly effortless performance of Lynda Bellingham hitting all the right comedy marks. This, however is not enough. A number of performances are noticeable , especially when placed against the static and emotionless wasteland which Jonathan Kerrigan refers to as his face. I have already mentioned Lynda Bellingham in the role of \\'fussy mother\\' (yes, thats as far as character development and back-story goes), but I was impressed by the actor Maurice Roeves (who is by far the most experienced actor in the cast, having appeared in everything from classic movies such as Richard Attenborough\\'s \\'Oh What a Lovely War\\', and \\'The Eagle Has Landed\\', and TV including Baywatch, Holby City, The Bill, Eastenders, Cheers, Doctor Who in the 80s, Star Trek, and even going to Hollywood with Sylvestor Stallone in 1995s Judge Dredd) whose performance reminded me very much of actual teachers I have met - often incapable men, whose lives are tinged with a very sad streak. It is refreshing to see that Roeves is still getting work, having also appeared in the 1998 British film \\'The Acid House\\' and even more recently alongside the wonderful Maria Bello and Sean Bean in \\'The Dark\\'. The standout reason to watch this series, even though his appearances are very few. Another actor who tries his hardest to elevate the program, is Ben Miles, in the role of the sex-mad \\'typical man\\' brother (once again, what an original character!). As with Roeves, the CV says it all. After elevating this, Miles has since appeared in the Hollywood movie \\'V for Vendetta\\', and the 2001 star studded film \\'The Affair of the Necklace\\', alongside Brian Cox, Adrien Brody, Christopher Walken and Jonathan Pryce. Unfortunately the fairly capable actors I have mentioned are resigned to relatively small roles in comparison to the dramatic driftwood that is Kerrigan and Saira Todd, both of whom seem to have been in Casualty for too long, and haven\\'t yet learned to act. Even the tolerable Frances Grey is made to suffer in the presence of such theatrically fetal mannequins, and unfortunately for her, the lasting memory I have of her from the set, is of the AD asking for another take of a relatively complex shot because during the take, she subconsciously \\'pulled her knickers out of her crack!\\'. Familiar faces appear in each episode - child actors from CBBC programs, and dramas such as \\'2 Point 4 Children\\', and other regulars from commercials such as Mr Ben\\'s (\"they\\'ll remember me for this\"), Lynda \\'the Oxo lady\\' Bellingham, and others that I don\\'t even want to remember. Each episode halfheartedly tries to \\'deal with issues\\' such as teenage pregnancy, disruptive pupils, and rocket building(!)... things that Grange Hill was doing better when my parents were young! Overall, this series was a disappointment, and a wasted opportunity to craft a genuinely interesting and well developed drama series. Unfortunately, for them they took the easy route, both in the writing and (for the most part) in the casting. I would recommend both \\'Waterloo Road\\' and \\'The Street\\',to fans of good drama - the latter in particular which managed to achieve this. If you like the Isle of Wight, don\\'t \\'reach for the moon\\', reach for the holiday brochure instead - it probably contains more character development!'\n",
            " b'From the fertile imagination which brought you the irresistible HERCULES (1983), comes its even more preposterous (read goofier) sequel: right off the bat, we get another unwieldy \"beginning of time\" prologue which even contrives to completely contradict these same events as set up in the first film!; a condensed montage of highlights from same is soon followed by a SUPERMAN-like scrolling credits sequence. Narrative-wise, here we have four rebellious gods who steal Zeus\\' seven all-important (but poorly animated) thunderbolts \\xc2\\x96 a crime which, for one thing, sets the moon careening on a collision course with Planet Earth! Faster than you can say \"nepotism\", Zeus (once again played as a white-haired bearded man by the relatively young Claudio Cassinelli) sends his champion \\xc2\\x96 who has now rightfully taken his place among the elite thanks to, one presumes, the almighty tasks performed in the first film \\xc2\\x96 to find his blooming thunderbolts and avert the calamities in store.<br /><br />No sooner has Hercules (Lou Ferrigno \\xc2\\x96 as if you didn\\'t know) touched the earthly surface that he comes in contact with two attractive damsels (Milly Carlucci and Sonia Viviani) in need of his getting them out of distress!; the former (who would go on to become an Italian TV personality) seemingly has the ability to talk with the Little People(!) \\xc2\\x96 which look uncannily like the tiny sisters from GODZILLA VS. MOTHRA (1964)!! Just so they can swindle as much unutilzed footage from the first film as is humanly possible, the divine quartet of villains resurrect good ol\\' King Minos (William Berger again) from his skeletal slumber and pit him once more against his eternal enemy. Typically, Hercules is made to encounter a number of potentially deadly foes including a Gorgon \\xc2\\x96 an awfully underproduced sequence which ought to have led to a surefire plagiarism suit had the film-makers behind the much superior CLASH OF THE TITANS (1981) bothered to watch this flick (complete with the same \"reflection in a shield\" come-uppance and preceded by the muscleman letting the audience in on his tactics before executing them as if to show us how clever he is)!! And just to make it crystal clear that he wears his influences on his sleeve, Cozzi has Hercules and Minos turn into a cosmic version of \"King Kong vs. Godzilla\" for one of their battles and later still, King Kong gets to grips with a large snake, an encounter lifted straight out of the classic 1933 original. I swear it: this is the whole truth and nothing but the truth! <br /><br />As had been the case with the first film, the cast is full of old reliables like the afore-mentioned Berger, Cassinelli and Venantino Venantini (as a sorcerer with a truly bad hair day) and up-and-coming starlets \\xc2\\x96 not just Carlucci but also Maria Rosaria Omaggio (as a younger Hera!), Serena Grandi, Pamela Prati and, once again, Eva Robbins (whose costume here easily outcamps her appearance in the first film); for what it\\'s worth, Pino Donaggio\\'s score for this one is recycled from musical cues featured in his soundtrack for the previous film. If you have stuck with this review so far, you must have realized by now that this is one of those movies that is so unbelievably bad that a reviewer is forced to choose which course to take: either dismiss it in one unflattering sentence or spend an undeserving amount of time dissecting its flaws. I\\'m sure I\\'ve left out some of its ineptitudes but I wouldn\\'t forgive myself if I failed to mention the single greatest laugh-out loud instance in the whole movie which almost made me fall off my chair (yes, it even surpassed the afore-mentioned animated titanic duel for me), namely the d\\xc3\\xa9cor of the rebellious gods\\' lair which is in the shape of a giant marble\\xc2\\x85kettle!!<br /><br />At this stage, one might well wonder why I gave this film (and its predecessor) a rating instead of a (not entirely unjustified) BOMB; in the past, I\\'ve had various protracted online discussions on whether one\\'s star rating of any particular film should reflect the overall artistic quality or its sheer entertainment value\\xc2\\x85 but these are two instances where I deemed it necessary to be consciously influenced by the latter in settling on my final rating. I don\\'t know: maybe it\\'s because I\\'m in a \"sword-and-sandal\" state-of-mind at the moment (with some 10 more respectable examples scheduled for the coming days!) but, after all, uncharacteristically for me, I decided to add these two films to my DVD collection simply based on the fun I had with them in this recent revisit \\xc2\\x96 and that alone must count for something, no?'\n",
            " b'Having just finished reading the book \"One of a Kind\" a week ago, I was thinking \"This would make a great movie, especially now, when people know a little about poker and poker players\". I was totally shocked to find it while browsing at the video store last night. I had no idea someone had actually turned this into a film. I grabbed it immediately and watched with much anticipation. What a major letdown!<br /><br />All of the intriguing things about Stu Ungar were skimmed over quickly, and instead I was left with a biopic that could have been about anybody. Ungar may have been a burnt-out jerk, but he was also a brilliant thinker that could read people instinctively. That is what made him so fascinating. Why not focus on that?<br /><br />And talk about watering down the real truth. This guy was excessive about absolutely everything: drugs, women, gambling, starvation, sleep-deprivation. He gambled on sporting events from dusk to dawn, he would go missing for days while hanging out in crack dens, his body was perpetually emaciated, and yet, if he ever needed money, he could always beat just about anyone at will playing cards. Now that\\'s a story!<br /><br />Too much time spent on his childhood and personal relationships (although his ties with \"Vincent\" and his daughter were hardly touched on) and hardly anything about his drugs use (which was exorbitant), his insane gambling and his incredible card-playing abilities.<br /><br />Probably too late now, but I hope someone remakes this film properly. I had no problem with Imperioli. He is excellent. The script just left him with nothing interesting to say.'\n",
            " b'Hulk Hogan plays Rip a professional wrestler who has a big heart but is pushed to the limit when his girlfriend(Joan Severence) is kidnapped by thugs who are forcing him to take on another wrestler(Tiny Lister Jr.)Bottom of the barrel actioner is such a failure that even Hogan looks ashamed to be in it, and with the evidence portrayed, he should be.'\n",
            " b\"It says a lot about the United Kingdom when television programmes like this not only get made but also run for three series. Unfunny, politically correct to the point of sickening and poorly acted and written. Meera Syal has not been funny or accomplished in anything that she has been in, go on tell me I am wrong, and Jasper Carrott, funny guy as he is, is well past his eighties prime. This is such a bad comedy that it could have been made by ITV but even stinkers like The Upper Hand and the one with James Bolam as a car park attendant look like Fawlty Towers compared to this rubbish. I would love to sit down with the writer/director of this show so that they can point out the humour in this programme. Admittedly the majority of the UK's population is made up of poorly educated chavs but this would not tickle their funny bones. That's if they could tear themselves away from Big Brother or from their mobile phones but that's another story. Complete and utter dirt!\"\n",
            " b\"How is this a documentary? Much more like a walking ghost tour one might take in any given Southern city. Quotes were generously dropped throughout without the first effort at identifying the source. George Orwell was the most identified quoter. <br /><br />Documents were referred to without ever being produced in any form. Flat out fraudulent shots depicting period film stock were spliced aside historical film reels with no separation from reality and self-promotion. Film reels which were entirely unrealistic and improbable for the time at hand were dropped in, as if trying to ape Blair Witch, hoping to drum up a spook house on what would otherwise simply be dead real estate. <br /><br />Is this not in some way a great disrespect to actual victims of TB, a dance on their collective graves for the sake of commercialism? The line between actual footage and manufactured self-service is so thin; the drippings of doubt so insignificantly played down; the scientific boundaries so blatantly ignored... how could this possibly be listed in my TiVo as documentary? <br /><br />It's a vacation promo, and at that it fully succeeds.<br /><br />Hell, I'd visit the joint if I could locate it on Google Earth. Not scary said a previous poster. Not too serious either, says I. Fascinating story. Flimsy film-making.\"\n",
            " b'Think \\'Charmed\\' with testosterone instead of estrogen and you get the general idea for this picture. A very lame story with mediocre effects and an anti-climax ending to let the door open for a part 2. Let\\'s hope someone has the sense to spend their money wiser. I\\'d suggest a \\'Charmed - the movie\\' because compared to this \\'Charmed\\' kicked ass and I only watched that show to please my girlfriend!!!! Wait and watch it on DVD on a rainy Sunday when you\\'ve got nothing better to do. Or better yet download it so you don\\'t waste your money. The first 15 minutes were alright. But the funniest line from the movie and also the only highlight of this movie is when Reid says : \"Kiss my ass Harry Potter\", while driving of a cliff. Although they are not worthy to kiss Potter\\'s ass, because Potter is way cooler and at least his movies have a story. The Goblet of fire was even scarier than this!!!'\n",
            " b'Yash Raj films are so funny, whatever works they follow it yet they are called the best production house?<br /><br />Seeing Bhatt films working they copied the formula, bikini and everything plus casting low actors like Uday and Tanishaa<br /><br />The film is so horrible it makes you cringe<br /><br />the jokes are so bad and horny it makes you slap them Uday resembles a gay plus a monkey<br /><br />Tanishaa resembles an idiot <br /><br />The director thinks we all are idiots Arjun Sablok takes the audience for granted Music is saving grace Camera-work is good<br /><br />Uday Chopra hams like an idiot, Tanishaa looks like Kajol in K3g if Kajol was annoying der then Tanishaa is worse the rest are okay'\n",
            " b'It\\'s painfully obvious that the people who made this \"movie\" have never seen such brilliant spoofs as \"The Naked Gun\" and \"Hot Shots\". This movie is terrible, and so are the actors. They wouldn\\'t know acting even if it hit them in the face, as I felt like doing while watching this total pile of rubbish.<br /><br />The movie is stupid and has no humor in it what so ever. I\\'m SURE that I could make a better movie with my friends. To me it\\'s amazing that a movie can fail this much. Not a single clever or funny line. No trace of intelligence behind it. It\\'s a pathetic movie and I\\'d like to meet the person who actually likes this movie. Yuck!'], shape=(32,), dtype=string)\n",
            "tf.Tensor([0 0 0 0 0 0 0 0 0 0 0 0 0 0 0 0 0 0 0 0 0 0 0 0 0 0 0 0 0 0 0 0], shape=(32,), dtype=int32)\n",
            "\n"
          ]
        }
      ]
    },
    {
      "cell_type": "markdown",
      "source": [
        "d) *Create a binary classification model, using a TextVectorization layer to preprocess each review.*"
      ],
      "metadata": {
        "id": "XpVW8E13eFdx"
      }
    },
    {
      "cell_type": "code",
      "source": [
        "max_tokens = 1000\n",
        "sample_reviews = train_set.map(lambda review, label: review)"
      ],
      "metadata": {
        "id": "X_5f0lRceFn9"
      },
      "execution_count": null,
      "outputs": []
    },
    {
      "cell_type": "code",
      "source": [
        "for review in sample_reviews.take(1):\n",
        "    print(review)"
      ],
      "metadata": {
        "colab": {
          "base_uri": "https://localhost:8080/"
        },
        "id": "tXZz6-Fehjh6",
        "outputId": "3343a2eb-9409-4aa6-9fcd-bd3a953cfe29"
      },
      "execution_count": null,
      "outputs": [
        {
          "output_type": "stream",
          "name": "stdout",
          "text": [
            "tf.Tensor(\n",
            "[b\"This is possibly the worst fencing, sword-fighting, movie ever made. That is not just because the so called sports fencing is poor but because the plot, characters are so weak that they've got to throw in a semi nude sex scene and, later, supposed group dancing around a fencing scene in the fencing club trying, I suppose to maintain audience interest. What a waste of F. Murray Abraham's talents. You're better served with overblown swashbuckling movies like Zorro, Scaramouche, anything that has Basil Rathbone as the villain. As a fencer myself I recognize the near impossibility of capturing fencing as a sport on film, but if it ever happens it's got to have fresher, better drawn characters and a plot with more depth.\"\n",
            " b'::POTENTIAL SPOILERS::<br /><br />Man, this movie was awful. A Catholic/superstitious/suspense thriller it goes over already well tread ground from previous movies.<br /><br />The doubting priest. Sex and the priesthood. Politics and religion. Church hypocrisy. Conspiracy involving the church. The dawn of a new evil age. All kinds of dark magic voodoo battles between good and evil.<br /><br />Pretty stupid and lame with a weak storyline to suffice. The story revolves around two concepts: Absolution, better known as the Sacrament of Anointing the Sick - the last rights a person can ask for to cleanse one\\'s sins while on the brink of death; And Excommunication, the act of cutting a person off from the Church. Basically, an Excommunicated person can\\'t receive Absolution. Thus comes in the Sin Eater, and I\\'ll leave it at that. Throw in all the dopy things I already listed and you have \"The Order\".<br /><br />I found the sex scene with the priest interlaced with shots of a picture of the Virgin Mary rather insulting to Catholics. It also ends with Heath Ledger saying (I paraphrase) \"I am the redeemer and damner of sins, I live on without love blah blah blah\" /cue him walking in dark alley with long trench coat alla \"The Matrix\".<br /><br />I gave this movie a 1 for not only being crappy and unoriginal but also because it managed to insult an entire faith in the process. If you want to see something better I suggest \"The Prophecy\" with Christopher Walken.'\n",
            " b'This story was probably one of the most powerful I have ever taken in. John Singleton certainly went above and beyond when putting together this educational masterpiece. Brilliant performances by the whole cast, but Epps and Rapaport turned in the best and most convincing of either young star\\'s career.<br /><br />However, as a college student myself, many of the issues that Singleton touched on were taken to the extreme. In a sense that, while they are issues faced on many college campuses, they aren\\'t presented as big or out in the open as this movie would make one believe. In some instances, it almost seemed ridiculous to think that something of this nature could actually occur. However, aside from the fact that it was a little over dramatic, the film was brilliant and left me stunned, unable to talk, just think. One of the things from this picture I will remember forever, was a quote from Lawrence Fishburn\\'s character, \"Knowledge is power, without knowledge, you cannot see your power.\" Brilliant, just brilliant.'\n",
            " b\"This is so bad, so very very bad. The acting is the biggest joke in history. Don't even bother to see it, i did ff it after 20 min and it was just as disappointing in the end as in the beginning... I really don't understand peoples taste, I'm a horror movie fan and I'm not fastidious but I DO HAVE A LIMIT! Maybe it was a quarter of a star better then the beginning of The Hoast but that's it. So I recommend you don't waste the 15 minutes you'll be able to watch. I mean the acting is better done by monkeys. And the big brother with the parental role is just awful. Don't they pay characters in C-movies? No I must say it's not the first time I think a horror movie is bad but it's absolutely one in my down ten movies and it will be charing places with Portrait of a vampire, Cabin by the lake, The Hoast!\"\n",
            " b'OK.... I just have 3 words - cheesy, cheesy and CHEESY! The only redeeming feature of this movie is Dean Cain. Other than that - it\\'s CHEESEBALL SUPREME!!!!<br /><br />The movie DOES have some promise in the concept - an underground lab creates a real live fire breathing dragon - basically giving us more of \"Jurassic Park\" meets \"Reign of Fire\"..... There are some great possibilities, but they just don\\'t follow through.... The special effects are decent - even though you KNOW the dragon is CGI, it doesn\\'t horribly LOOK like CGI.... <br /><br />I wouldn\\'t lay the blame on Dean Cain (although he IS one of the producers), I\\'d lay more of the blame on Phillip Roth - the director and writer. It\\'s HIS job to make this film.... and, unfortunately, he failed.'\n",
            " b\"I've almost forever been against the inclusion of songs in a movie. My belief was that the quality of the film would automatically be improved if only those extremely annoying songs would be axed. However, things have quickly changed after watching that horrible Black (no songs) & this movie, Page 3 (plenty of songs). While Black was weak to an extreme, Page 3 delivers a gripping story with some strong acting & good direction. The songs were almost incidental & blended in almost seamlessly with the film. There certainly weren't any women getting sprayed with water for no apparent reason from mysterious water sources while gyrating wildly on the streets at night.<br /><br />I was pleasantly surprised with the bold and unabashed approach used by the director. There was no glossing over of anything and almost every scene was completely believable.<br /><br />I'd recommend this films for Hindi-speaking people with at least a slight understanding of Mumbai life. The former because the English subtitling was below par and contained many errors which, at times, completely reversed the meaning of the actual statement. The latter because you'll definitely appreciate the accuracy of the depiction once you've lived it yourself.<br /><br />I'd definitely rank this as a work worthy of international recognition. The scenes with the gossiping drivers was a nice touch and it served simultaneously as a source of genuine humour as well as another perspective on the whole mishmash. The movie does fall short in a few places though, where the characters sometimes say the most inexplicable things which detract from the overall direction of the film.<br /><br />I also thought that a couple of the sadder scenes were not done very well. It was a touch amusing to watch, rather than arouse any feelings of sadness & the whole scene tended to come across as a bit foolish. These are minor issues though, because the film, on the whole, is truly a rare treat to watch.<br /><br />Overall, it's a cynical, pessimistic outlook and a refreshing one at that! Actors, not 'heroes' - that's the key. A chance to glimpse believable human beings in an extraordinary setting - everyday life. A behind-the-scenes look at the extent of the depravity and a rare ray of hope for Indian cinema.<br /><br />8/10.\"\n",
            " b'Kid found as a baby in the garbage and raised at a martial arts academy has a knack for sinking baskets. With the help of the man who found him he gets in to college and is promoted to the championship as he searches for his real parents. Infinitely better in pieces action comedy is a real mess as a whole. It seems to be striving for a hipper basketball version of Shaolin Soccer, but the comedy is scatter shot, its focus wanders more than a Chihuahua with ADD on quadruple espresso. I kept asking \"What am I watching\". I watched it from start to finish and I still don\\'t know what the hell happened. Its a shame since there are some great action scenes, some amusing jokes and the occasional moment, but nothing, none of it ever comes together, I\\'d take a pass.'\n",
            " b\"Director Edward Sedgwick, an old hand at visual comedy, successfully leads this Hal Roach road show which tenders a fast-moving and adroit scenario and excellent casting, employing a large number of Roach's reliable performers. Although the film was originally plotted as a vehicle for Patsy Kelly, sunny Jack Haley stars as Joe Jenkins, a young Kansan who sells his auto repair business and journeys to Hollywood, where he attempts to wangle a screen role for the girl he loves, star-struck Cecilia (Rosina Lawrence). Sedgwick, who prefers using the entire M-G-M studio as his set, does so here as Cecilia, always ready for an audition, is treated by a would-be paramour, cinema star Rinaldo Lopez (Mischa Auer), to behind-the-scenes action of, naturally, a musical comedy, featuring Broadway headliner Lyda Roberti. Laurel and Hardy provide several enjoyable interludes, including their well-known skit involving a tiny harmonica, and we watch fine turns by such as Joyce Compton, Russell Hicks and Walter Long. On balance, one must hand the bays to Mischa Auer, who clearly steals the picture as an emotional movie star, a role which he largely creates, and to the director for his clever closing homage to Busby Berkeley's filmic spectacles.\"\n",
            " b\"All the folks who sit here and say that this movie's weak link is the Ramones would probably say that Amadeus was ok if not for that irritating harpsichordist. Rock and Roll High School was centered around the Ramones. How anyone can watch this and not get a kick out of Joey Ramone eating bean sprouts backstage in an attempt to keep him in performing condition is obviously a wet blanket square daddy-o. Ms Trogar, exploding white mice, the hall patrols...instant classics. Nevermind the Riff Randell character.<br /><br />If you don't like the Ramones then you don't know rock and roll and you don't deserve to watch a movie called ROCK AND ROLL High School.\"\n",
            " b\"Not a movie for everyone, but this movie is in my top 10. I am a lover of black comedy. With a cast including Richard Dreyfus (Vic), Jeff Goldblum (Mick), Larry Bishop (Nick) and Gabriel Byrne (Ben 'Brass Balls' London) in the leads, the lines can't help but be dry. The supporting cast is nearly dead center. Counting the minor flaws in the movie: Ellen Barkin's make-up gave her face has a washed out look; there were a couple of gimme cameos by Joey Bishop and Richard Pryor that served no purpose, and Michael J. Pollard's screen time was too short. Over all, the cast was just incredible without egos to wreck a fine script. If you have seen Larry Bishop's (writer, director) film, Underworld (a dark crime flick), you will enjoy this one. His next outing (writer, director, actor) is Hell Ride with Michael Madsen and Quentin Tarantino.\"\n",
            " b'As a kid I did think the weapon the murderer wielded was cool, however I was a kid and so I was a bit dumb. Even as a dumb kid though the movies plot was stupid and a bit boring when the killer was not using his light knife to kill people. What amazes me is that the movie has a really solid cast in it. What script did they read when agreeing to be in this movie as it is most assuredly boring and only a means to show off a light saber on a very small scale. The plot at times is incomprehensible and the end is totally chaotic. The whole film seems to rotate around aliens and the one weapon. The plot has two kids and some dude having an alien encounter, flash years later and there seems to be a return as it were in the mix. Dead animals and such to be explored and for some reason the one dude gets the weapon of the aliens and proceeds to use it to go on a very light killing spree. Seriously, you just have to wonder why this movie was made, if you are going to have a killer have some good death scenes, if you are going to have alien encounters show more than a weird light vortex thing, and if you are going to have light sabers then call yourself star wars.'\n",
            " b'One can only hope that there are many times when someone as powerful as Morgan Freeman can take the time to assist someone who needs help.<br /><br />It all comes down to loving people. As Will Rogers said, \"I never met a man I didn\\'t like.\" Of course, if you meet Paz Vega, what\\'s not to like? That smile of hers can melt diamonds. She is just so fantastic that I can watch anything she is in. The same goes for Freeman. he is just magic on the screen.<br /><br />The two of them gave us a film that was funny from start to finish. From the Mexican supermarket to Lorraine & Bobby to Packy. It was tender, charming and just plain funny.<br /><br />You have to check this out.'\n",
            " b'With \\'Twelve Monkeys\\' you need to pay attention, but if you do that you probably find a lot to appreciate. I know I did. The story is interesting and deals with time traveling. A virus killed a lot of people back in 1997 and a guy named Cole (Bruce Willis) is send back to 1990 and 1996 to find a cure for the virus. In 1990 he is arrested and put in a mental hospital. There he meets Jeffrey Goines (Brad Pitt), who probably has something to do with the virus. He also meets psychiatrist Dr. Kathryn Railly (Madeleine Stowe) who doesn\\'t believe him in 1990. When Cole disappears from the mental hospital while he is chained and locked in a room and re-appears in 1996 Kathryn starts believing Cole\\'s stories.<br /><br />The movie constantly plays with time. Cole makes a phone call and leaves a message in 1996, it is picked up in the future and \"they\" send someone. For Cole that someone appears only seconds after the phone call. Things like this happen throughout the movie and therefore you must keep attention. You could ask some questions but since you can\\'t have an answer yourself it is better to agree with the movie.<br /><br />\\'Twelve Monkeys\\' works as sci-fi, with some great images and a dark atmosphere, and it works as a thriller. You are never certain of what will happen next and that helps the movie. May be it has some flaws in the story, but since it is about a fictional thing like time traveling, you should accept what the movie tells us and just try to enjoy. That was the easy part for me.'\n",
            " b'Some gorehound-friends recommended \"Live Feed\" to me, and basically I can\\'t really complain as the film certainly does deliver copious amounts of gross smut and buckets full of sleaze, but it is of course not a very good film. More than obviously cashing in on the latest trend in horror cinema, the so-called Torture Porn, Ryan Nicholson tries to surpass every other film in this sub genre (and that includes the role models \"Hostel\" and \"Saw\") with its sick & twisted make-up effects and thoroughly depraved shots of naked co-eds tried up, suffering and begging for their lives. There\\'s no actual plot to describe. Five utterly brainless twenty-something friends take a trip to Asia. One of them has Asian roots, but other than that I don\\'t really know why they opted to travel there instead of to Cancun. They\\'re clearly not interested in the continents culture and even cause a hectic scene when they witness a local butchering a cute puppy dog on the market. The quintet subsequently dives into the lurid night life and one of them accidentally insults the leader of a criminal clan. A simply apology clearly doesn\\'t suffice, as the gangster follow them into an adult theater and gradually subject all of them to vicious torture. One girl has her breast impaled and another poor wench even has a poisonous snake shoved down her throat; yikes. \"Live Feed\" is surprisingly boring despite of all the bloodshed and the amateurish production values are quite difficult to overlook, even if you\\'re used to watching independent fan-boy trash cinema like this. The fat bloke depicted on the cover, an oriental S&M executioner, is admittedly quite cool and he\\'s also the most talented of the whole bunch, because he at least keeps his mouth shut the entire time. I wouldn\\'t exactly recommend this pile of filth, but hey, if you like loud & hideous metal music, nauseating torture footage and dim-witted losers, go right ahead and watch!'\n",
            " b'Finally, Timon and Pumbaa in their own film...<br /><br />\\'The Lion King 1 1/2: Hakuna Matata\\' is an irreverent new take on a classic tale. Which classic tale, you ask? Why, \\'The Lion King\\' of course!<br /><br />Yep, if there\\'s one thing that Disney is never short of, it\\'s narcissism.<br /><br />But that doesn\\'t mean that this isn\\'t a good film. It\\'s basically the events of \\'The Lion King\\' as told from Timon and Pumbaa\\'s perspective. And it\\'s because of this that you\\'ll have to know the story of \\'The Lion King\\' by heart to see where they\\'re coming from.<br /><br />Anyway, at one level I was watching this and thinking \"Oh my god this is so lame...\" and on another level I was having a ball. Much of the humour is predictable - I mean, when Pumbaa makes up two beds, a big one for himself and a small one for Timon, within the first nanosecond we all know that Timon is going to take the big one. But that doesn\\'t stop it from being hilarious, which, IMO, is \\'Hakuna Matata\\' in a nutshell. It\\'s not what happens, it\\'s how.<br /><br />And a note of warning: there are also some fart jokes. Seriously, did you expect anything else in a film where Pumbaa takes centre stage? But as fart jokes go, these are especially good, and should satisfy even the most particular connoisseur.<br /><br />The returning voice talent is great. I\\'m kinda surprised that some of the actors were willing to return, what with most of them only having two or three lines (if they\\'re lucky). Whoopi Goldberg is particularly welcome.<br /><br />The music is also great. From \\'Digga Tunnah\\' at the start to \\'That\\'s all I need\\', an adaption of \\'Warthog Rhapsody\\' (a song that was cut from \\'The Lion King\\' and is frankly much improved in this incarnation), the music leaves me with nothing to complain about whatsoever.<br /><br />In the end, Timon and Pumbaa are awesome characters, and while it may be argued that \\'Hakuna Matata\\' is simply an excuse to see them in various fun and assorted compromising situations then so be it. It\\'s rare to find characters that you just want to spend time with.<br /><br />Am I starting to sound creepy?<br /><br />Either way, \\'The Lion King 1 1/2\\' is great if you\\'ve seen \\'The Lion King\\' far too many times. Especially if you are right now thinking \"Don\\'t be silly, there\\'s no such thing as seeing \\'The Lion King\\' too many times!\"'\n",
            " b'Just finished watching American Pie: Beta House and I gotta say, this was such a garbage pile of crap. The first 3 American Pies were hilarious, the last 3 were a joke and should not have been called American Pie.<br /><br />As you figured out from the title of the movie, Beta House, is about a fraternity, freshmen, girls and, the most original part of them all, falling in love. Of course, the guy that has his way with the chicks is Stifler, who, along with his mates, tries to complete another apparently impossible task. It was unrealistic and super fake. Its just really predictable and the plot is so weak. Both sides of the college battle to see who gets the whole thing (something like that) To sum it up: awful acting + dull script + wrong use of the American Pie franchise = total waste of time! This movie is unbearable. I give it a two out of ten, although most of it sucked there were lots of nudity and pretty girls, like 2 funny scenes :)'\n",
            " b'(Avast, slight spoilers ahead) I got this tape from my local library, which keeps a copy for obvious reasons.<br /><br />I once went to the town of Matewan, West Virginia, and in a little museum there I saw the schedule for the town theatre citra May 1954. Movies would change at the theatre each day. As there would be no TV for another decade or so in those parts, this was much of the available entertainment in the town. \"The Raid\" seems to have been made for towns like Matewan in the 1950\\'s. Although it wasn\\'t listed for that month, I am sure showed there some Monday or Tuesday night for an audience which probably wasn\\'t too demanding. The historical raid - daring and remarkably successful - didn\\'t seem to have been very well researched, so the movie is full of Hollywood embellishments, including a loose cannon played by Lee Marvin. Marvin uses the opportunity to practice being Liberty Valance. And St. Albans seems to have had more Yankee soldiers coming and going through the town than Washington D.C. had.<br /><br />What really made me snicker was when the raiders change into their Confederate uniforms. Only in tacky Civil War paintings do Rebel uniforms look so pristine. When Anne Bancroft\\'s son catches Van Heflin in his uniform just before the raid, I expected the boy to think it was Halloween.<br /><br />And then there\\'s Anne Bancroft herself. While watching the movie I actually looked on the IMDb to see if there was a second Anne Bancroft. The then-studio contract actress looks nothing like in her later films, and has none of the presence she would later have in \"The Miracle Worker,\" \"Agnes of God,\" and of course \"The Graduate.\"<br /><br />Worth seeing if only 1). you live in St. Albans and 2). you have a couple hours to kill on a Hollywood fictionalization of your home town\\'s biggest news story.'\n",
            " b\"[No Spoilers]<br /><br />Being a David Lynch film, one could have the idea that it depicts that enigmatic mind of his like the majority of his feature films do. But it is a very straight story as the title might hint. Don't except to be caught in the usual Lynchian void of incomprehensibility that usually occurs after viewing i.e. Lost Highway. It is a simple film but it is indeed a great film. That is both from a innovative and an entertaining aspect. It's innovative because it so not Lynch. But maybe that IS Lynch. He likes to twist our minds and therefore puts together a film that might seem very mainstream and far from Lynch himself. Being a very avantgarde director, he might just make a film like this just to tease his regular audience because he knows what they expect but he doesn't give it to them. That would be crafty.<br /><br />The pace of the film is slow. I would almost say lawn mower speed... Don't expect an action orgy, but the film is truly entertaining for the ones who go with the flow of the film. Look carefully for those small details that Lynch plot throughout the movie for our entertainment. Look for the great cinematography that makes this film come to life. And listen to Badalamenti's score and the main theme that really animates the Iowa and Wisconsin landscapes shown frequently. <br /><br />Farnsworth puts in one of his best performances in this film, making him one of the most likeable ol' men ever depicted on film. He doesn't have to say anything to express his feelings and thoughts. His cheerfulness just shines right through him and his acting earned him an Oscar nomination. Need I say that his weak health in this film wasn't acted? He was diagnosed with cancer and shot himself right after this film was complete. That knowledge just puts more emphasis on the film because it becomes more of a homage to Farnsworth. <br /><br />All of the above form a very nice motion picture that is suitable for all kinds of people that like a film the way they are supposed to be done. One could ask for homilies that aren't that obvious and a bit naive but it doesn't ruin the overall picture, being that it is a memorable motion picture. 9/10.\"\n",
            " b\"I've watched a bunch of episodes of Cold Case since its premiered (especially now that it immediately follows The Amazing Race, but this was one of the best instances of writing and acting I've seen from the house of Bruckheimer. The casting, especially of the younger officers, was spot on, and the script and editing, the soundtrack, and the acting made this episode a tour d'force. If I were the producers I would submit this episode for Emmy consideration. It amazing how complete a portrait was made of Coop and Jimmy within the confines of s 48 minute episode; that takes a lot of talented people doing their best. I hope there's is advance warning of when this episode is repeated, because I'm sure I'll notice a lot that I did not notice the first time around.\"\n",
            " b\"As a comic book reader, who still sees myself as a total kid at heart, I admit I might have been a bit biased towards this movie. I mean, there hasn't been a good superhero movie out for quite some time (NOTE: Batman Forever was NOT a good superhero movie). I really wanted this film to be good, and unlike most of my recent trips to the cinema (read Blair Witch Project) I wasn't disappointed.<br /><br />Mystery Men was definitely not a high-effects, tension-filled action flick, it was a comedy. And on that basis, it was a success. It had everyone in the small theater laughing, and got applause and laughs right through the final scene. Stiller and Garofolo are hilarious together, as always, and Azaria adds just the right touch of craziness. William H. Macy plays a great straight man, while Kel Mitchell and the fart-powered Paul Rubens are added just to keep the kiddies happy.<br /><br />Though the sets are bizarre (and at times seem like ripoffs from both Batman and Blade Runner), and some of the jokes are obvious, it is still just plain funny. There are some lines that will catch even the most jaded viewer off-guard, and bring tears from the belly-laughers among us.<br /><br />I definitely recommend this movie. Although not an all-time classic, it is twice as funny as the latest Austin Powers retread. The writing is good, and the cast is GREAT. If you're worried, plan on the matinee and pay less, but either way you'll be pleasantly surprised. I mean, who among us doesn't root for the losers once in a while?\"\n",
            " b'In the \\'70s, Charlton Heston starred in sci-fi flicks of varying quality. \"Soylent Green\" is one of the better ones. He plays Robert Thorn, a detective in 2022 New York. In this future, most food is so expensive that everyone needs a product called Soylent Green. But when Thorn finds out the unsavory truth about this product, he finds himself on the run.<br /><br />I guess that it\\'s only natural that this movie should seem dated to us nowadays. But even so, it still brings up interesting questions about what will become of our agriculture. Also starring Leigh Taylor-Young, Chuck Connors, Brock Peters, Joseph Cotten and Edward G. Robinson (in his final role).'\n",
            " b'This is the most disturbing film I have ever seen. It makes \"Requiem for a Dream\" look like a Disney film. Although, technically, it is reasonably well made, acting, cinematography, music, directing, etc., are good. However, the concluding gang rape scene is the most appalling and violent thing I have ever seen and I really wish I had not seen it. I am afraid that it will haunt me for the rest of my life. Although I think anyone would find the film extremely disturbing, my wife and some of her friends were victimized in a very similar manner and I really didn\\'t need an explicit reminder of the horror that they experienced. I saw the film at the SXSW film festival in Austin, TX and none of the cast or crew were in attendance. I would have liked for them to have had the opportunity to defend the violence in their film, which I felt was excessive, gratuitous and unnecessary. An earlier scene successfully conveyed the mood they were apparently striving for, but without rubbing your face in the extreme and explicit sexual violence. This film should have a big WARNING label on it. For these reasons I would not recommend anyone seeing it. You\\'ve been warned.'\n",
            " b'One thing I always liked about Robert Ludlum thrillers is just when you think you have it figured out, it goes in a completely different direction. There are so many twists and turns in this film that I have a sore neck from watching.<br /><br />One thing I also like about director John Dahl (Kill Me Again, Rounders, Unforgettable) is that he can be depended upon to direct and, in this case, write (with his brother Rick) a good story.<br /><br />Now, add Nick Cage, Dennis Hopper, Lara Flynn Boyle, and J.T. Walsh to the cast and you have a story that will keep your interest even if they are playing characters that all of them have perfected. Dahl seems to bring out the best in folks, and this will keep you interested, and guessing, until the very end.'\n",
            " b\"During the whole Pirates of The Caribbean Trilogy Craze Paramount Pictures really dropped the ball in restoring this Anthony Quinn directed Cecil B. DeMille supervised movie and getting it on DVD and Blu Ray with all the extras included. It is obvious to me that Paramount Pictures Execs are blind as bats and ignorant of the fact that they have a really good pirate movie in their vault about a real pirate who actually lived in New Orleans, Louisiana which would have helped make The Crescent City once again famous for it's Pirate Connections. When the Execs at Paramount finally get with the program and release this movie in digital format then I will be a happy camper. Paramount Pictures it is up to you to get off your duff and get this film restored now !\"\n",
            " b'I sat through this movie expecting a thought-provoking, fact-based film. But instead was given some of the least thought out arguments against the Christian faith imaginable. For instance, in an effort to prove that Christianity is inherently violent, the narrator constantly quotes the bible without giving context, and thus altering the meaning of the text. Jesus is quoted as commanding the execution of those who disobey him, when in fact, the quote is from a parable Jesus told, involving a king who is then quoted. Thus the narrator makes it appear as if Jesus says one thing when he is actually telling a story where one of his characters says it. This is dishonesty in a very obvious form. Is this really what Atheism has to offer the world? This film also attempts to use the success of the Passion of the Christ over Jesus Christ: Superstar and The Last Temptation of the Christ as evidence that Christians are bloodthirsty. He makes no mention of the fact that the Passion was the most historically accurate Bible-film to date. He makes no mention of the fact that it was actually the best liked by critics of the bunch. He then edits in a series of violent images from the Passion as if to hammer home his point. Ironically, he makes no mention of The Texas Chainsaw Massacre which came out a few months later and plays violence for entertainment, versus dramatic effect.<br /><br />One thing that really bothered me was his mockery of people who actually knew more about the subject matter than he did. All the Christians he interviewed were average schmoes in the parking lot of Billy Graham\\'s New York Crusade. Atheists he interviewed for the film were notable authors and scholars. He asked the Christians how the Christian movement started, and of course, they said it started with the Holy Spirit coming to the disciples at Pentecost. Which is correct (Acts 2). He then gives the commentary, \"isn\\'t it funny how so few Christians seem to know the origins of their own faith?\" and proceeds to explain that the apostle Paul started Christianity after being stopped on the road to Damascus. The poor chap seems convinced that Acts 9 happens before Acts 2. More deception? Or is this simply ignorance? He also throws around nonsense that Paul didn\\'t believe Jesus was a real person. Are you kidding me? 1 Corinthians 15 describes Jesus death and resurrection being witnessed by people (whom Paul names in the passage) for the Corinthians to question if they are in doubt!<br /><br />There are many many other examples of how full of crap this \\'documentary\\' is. But because I don\\'t have time or patience to go into them all, I\\'ll skip straight to the end. It\\'s obvious throughout the whole movie that the narrator has an emotional vendetta against his upbringing in the church. And the climax interview is HIS CHILDHOOD PRINCIPLE! In a last-ditch attempt to disprove the Christian faith, the narrator tries to make a fool out of someone who gave him a detention as a child. Is this what passes as an intellectual documentary for the Atheist community? Surely there are intelligent Atheist filmmakers out there who can make a documentary that isn\\'t a load of made-up crap passed off as \\'facts\\'.'\n",
            " b\"This has to be one of my favourite movies of all time. The dialogue, with the constant use of puns is very tight, the cast are superb, and the plot is highly original.<br /><br />Don't take my word for it - watch this movie and enjoy it for yourself.\"\n",
            " b'What\\'s that there in the skies? Is it a plane? Is it Superman?? Errr, no\\xc2\\x85 It\\'s a TURTLE!?! See, that\\'s what becomes of the Cold War! Nothing but bad news and other issues! The Americans shoot down a Russian combat plane somewhere over Artic territory and the subsequent explosion defrosts & literally awakens the giant prehistoric turtle-creature named Gammera. He/she is not a very friendly critter as it promptly ensues to destroy everything and everyone on its path. The arguing governments finally decide to kill the ugly bastard with a brand new and super-sophisticated ice-bomb, but Gammera has another surprise in store\\xc2\\x85 The damn turtle can fly! The first time this happens results in a tremendously grotesque and hilarious sequence! Gammera lies on his back looking defeated when suddenly fire blows from his armpits and he skyrockets himself up in the air. How can you not love that? Then there\\'s also a dire sub plot about an annoying kid who\\'s able to telepathically communicate with the monster, but that\\'s just not interesting enough. Flying turtle, people!! There\\'s very little else to write about this Japanese (and American re-edited) Sci-Fi effort, apart from that it\\'s an obvious and totally shameless rip-off of such classics like the original Godzilla and The Beast from 20.000 Fathoms. The effects and monster designs are extremely hokey and, unlike the aforementioned films, it never succeeds in creating an apocalyptic ambiance. Respectable actors like Brian Donlevy (\"The Quatermass Experiment\") and Dick O\\'Neill (\"Wolfen\") seem unaware of what film set they\\'re on and even the original Japanese mayhem-scenes aren\\'t very convincing. Gammera\\'s very own and personalized theme-song is rather cool, though, so it gets one extra point for that.'\n",
            " b'If the creators of this film had made any attempt at introducing reality to the plot, it would have been just one more waste of time, money, and creative effort. Fortunately, by throwing all pretense of reality to the winds, they have created a comedic marvel. Who could pass up a film in which an alien pilot spends the entire film acting like Jack Nicholson, complete with the Lakers T-shirt. Do not dismiss this film as trash.'\n",
            " b\"The finale of the Weissmuller Tarzan movies is a rather weak one. There are a few things that derail this film.<br /><br />First, Tarzan spends much of the film wearing floppy sandals. In my opinion, any footwear on Tarzan, whether it be sandals or boots as sometimes portrayed, takes away from the character, which is supposed to be anti-civilization and pro-jungle.<br /><br />Second, the character of Benji, as mentioned in a previous post, totally derails the movie as the comic foil. To me, his character is unnecessary to the film's plot.<br /><br />Also, while Weissmuller still cuts a commanding figure as Tarzan, it's apparent that he was not in his best shape. Although in his later Jungle Jim movies, his physique had improved somewhat from this film.<br /><br />The octopus battle is a terrific idea, but I think it should have been done in an earlier Weissmuller film when he was at his physical peak. Likewise, the battle, which takes only 30 seconds tops, would be much more thrilling if it was drawn out to 90 seconds to 2 minutes like the classic giant crocodile battle in Tarzan and His Mate.<br /><br />And while Brenda Joyce as Jane and Linda Christian as Mara are overwhelmingly pleasing to the eye, it doesn't manage to salvage this last Weissmuller film - a disappointing ending to a great character run.\"\n",
            " b'Kevin Spacey is very talented, but unfortunately directing is not his forte. I had high expectations about the film before I rented it and maybe that is why I disliked it so much. I admire Spacey\\'s attempt at making a film that takes place mostly in one small setting, but it\\'s not the attempt that counts. I found the film dull, boring, and stretched out. The acting was nothing spectacular. Gary Sinise has done much better, especially since he is conscious in most of his other films. Skeet Ulrich was disappointing, but this was one of his first films (I did get a kick out of how young and chubby this Scream star looked). The only thing that impressed me about this film was the one shot of the car wreck from above. The center line of the road was perfectly centered and the camera moved on along the line and past the wreck. However, that shot was very \"Usual Suspects\"ish and my guess is Spacey got the idea from that earlier film of his (which is very good mind you). If you want to see a fabulous film that takes place in one small setting, watch Hitchcock\\'s Lifeboat. Maybe Spacey should have watched it before filming this.'\n",
            " b'THis movie shows us once again, how genius the Japanese directors are and were. This movie could be seen as a sort of a \"Silent - Movie Tetsuo\". Well Eisenstein...:)'\n",
            " b'I generally don\\'t give worry much about violence in films, or a vast amount of philosophy, symbolism or psychology. All this is very well with me and the film brings a lot of the above to us. There is beautiful pictures especially of the lake and the nature, a good setting of characters, a good direction. This film could be voted for as a good film. However, it is spoiled for two reasons and both of these reasons in relation make this film simply disgusting.<br /><br />First of all there is violence used against living creatures to make this film. Not movie violence, I am talking about REAL violence. This violence alone maybe could be justified if not and thats reason number two; the message of the film was not mere introspection about the directors twisted relation towards women. Not that we all don\\'t have some real twists with women.(respectively men). But the conclusion of the film ruins it all. <br /><br />*spoiler* Our \"heroine\" finally dies, (by here own hand if I remember correctly I saw this film years ago and it enraged me, now the guy is out with a new film witch I am certainly not going to watch)and is now even more clearly depicted as some kind of natural demon, nature growing over her, in particular her sex.. Of course it is the director who \"kills\" the women heroine. Women have to die, especially if men are attracted by their sexuality. That seems to be the final conclusion.**end spoiler*<br /><br />Well, well all that possibly would be fine with me if the director would have kept his view to himself. But to use big pictures, artsy directions cruelty to living creatures, just to say men can be frightened of women, and men are cruel to women. Thats just not enough. I knew when I saw this film it would achieve good critics for the \"philosophical, eastern and artistic\" and whatever approach. But to me this film is just totally marred.'], shape=(32,), dtype=string)\n"
          ]
        }
      ]
    },
    {
      "cell_type": "code",
      "source": [
        "text_vectorization = tf.keras.layers.TextVectorization(max_tokens=max_tokens, output_mode=\"tf_idf\")\n",
        "text_vectorization.adapt(sample_reviews)"
      ],
      "metadata": {
        "id": "r-evSdv3jZL7"
      },
      "execution_count": null,
      "outputs": []
    },
    {
      "cell_type": "code",
      "source": [
        "text_vectorization.get_vocabulary()[:20]"
      ],
      "metadata": {
        "colab": {
          "base_uri": "https://localhost:8080/"
        },
        "id": "mJ1yC6-BmjBR",
        "outputId": "82231e2c-0629-4f0a-fdaa-929eb598b2e7"
      },
      "execution_count": null,
      "outputs": [
        {
          "output_type": "execute_result",
          "data": {
            "text/plain": [
              "['[UNK]',\n",
              " 'the',\n",
              " 'and',\n",
              " 'a',\n",
              " 'of',\n",
              " 'to',\n",
              " 'is',\n",
              " 'in',\n",
              " 'it',\n",
              " 'i',\n",
              " 'this',\n",
              " 'that',\n",
              " 'br',\n",
              " 'was',\n",
              " 'as',\n",
              " 'for',\n",
              " 'with',\n",
              " 'movie',\n",
              " 'but',\n",
              " 'film']"
            ]
          },
          "metadata": {},
          "execution_count": 69
        }
      ]
    },
    {
      "cell_type": "markdown",
      "source": [
        "Train the model"
      ],
      "metadata": {
        "id": "_8gh711Xm9Nq"
      }
    },
    {
      "cell_type": "code",
      "source": [
        "tf.random.set_seed(42)\n",
        "model = tf.keras.Sequential([\n",
        "    text_vectorization,\n",
        "    tf.keras.layers.Dense(100, activation=\"relu\"),\n",
        "    tf.keras.layers.Dense(1, activation=\"sigmoid\"),\n",
        "])\n",
        "model.compile(loss=\"binary_crossentropy\", optimizer=\"nadam\",\n",
        "              metrics=[\"accuracy\"])\n",
        "model.fit(train_set, epochs=5, validation_data=valid_set)"
      ],
      "metadata": {
        "colab": {
          "base_uri": "https://localhost:8080/"
        },
        "id": "tKVy9Y_bm9Y5",
        "outputId": "3609c7de-bc0a-4d10-c31a-b01f20a1aec9"
      },
      "execution_count": null,
      "outputs": [
        {
          "output_type": "stream",
          "name": "stdout",
          "text": [
            "Epoch 1/5\n",
            "782/782 [==============================] - 11s 12ms/step - loss: 0.4253 - accuracy: 0.8236 - val_loss: 0.4046 - val_accuracy: 0.8373\n",
            "Epoch 2/5\n",
            "782/782 [==============================] - 8s 11ms/step - loss: 0.3628 - accuracy: 0.8533 - val_loss: 0.3512 - val_accuracy: 0.8554\n",
            "Epoch 3/5\n",
            "782/782 [==============================] - 8s 11ms/step - loss: 0.3214 - accuracy: 0.8684 - val_loss: 0.3688 - val_accuracy: 0.8471\n",
            "Epoch 4/5\n",
            "782/782 [==============================] - 10s 12ms/step - loss: 0.2743 - accuracy: 0.8900 - val_loss: 0.3584 - val_accuracy: 0.8509\n",
            "Epoch 5/5\n",
            "782/782 [==============================] - 10s 12ms/step - loss: 0.2167 - accuracy: 0.9129 - val_loss: 0.3830 - val_accuracy: 0.8483\n"
          ]
        },
        {
          "output_type": "execute_result",
          "data": {
            "text/plain": [
              "<keras.callbacks.History at 0x7f2746da93f0>"
            ]
          },
          "metadata": {},
          "execution_count": 70
        }
      ]
    },
    {
      "cell_type": "markdown",
      "source": [
        "e) *Add an Embedding layer and compute the mean embedding for each review, multiplied by the square root of the number of words (see Chapter 16). This rescaled mean embedding can then be passed to the rest of your model.*"
      ],
      "metadata": {
        "id": "jgUDOhBzyBIK"
      }
    },
    {
      "cell_type": "markdown",
      "source": [
        "![image.png](data:image/png;base64,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)"
      ],
      "metadata": {
        "id": "YrokICTcKC9p"
      }
    },
    {
      "cell_type": "code",
      "source": [
        "def compute_mean_embedding(inputs):\n",
        "    not_pad = tf.math.count_nonzero(inputs, axis=-1)\n",
        "    n_words = tf.math.count_nonzero(not_pad, axis=-1, keepdims=True)\n",
        "    sqrt_n_words = tf.math.sqrt(tf.cast(n_words, tf.float32))\n",
        "    print(tf.reduce_sum(inputs, axis=1))\n",
        "    return tf.reduce_sum(inputs, axis=1) / sqrt_n_words"
      ],
      "metadata": {
        "id": "Me34esNGyBVP"
      },
      "execution_count": null,
      "outputs": []
    },
    {
      "cell_type": "code",
      "source": [
        "another_example = tf.constant([[[1., 2., 3.], [4., 5., 0.], [0., 0., 0.]],\n",
        "                               [[6., 0., 0.], [0., 0., 0.], [0., 0., 0.]]])\n",
        "compute_mean_embedding(another_example)"
      ],
      "metadata": {
        "colab": {
          "base_uri": "https://localhost:8080/"
        },
        "id": "oAssLS1h3S8d",
        "outputId": "4b2e804f-6e4f-4401-8ed1-b236bd1e9b23"
      },
      "execution_count": null,
      "outputs": [
        {
          "output_type": "stream",
          "name": "stdout",
          "text": [
            "tf.Tensor(\n",
            "[[5. 7. 3.]\n",
            " [6. 0. 0.]], shape=(2, 3), dtype=float32)\n"
          ]
        },
        {
          "output_type": "execute_result",
          "data": {
            "text/plain": [
              "<tf.Tensor: shape=(2, 3), dtype=float32, numpy=\n",
              "array([[3.535534 , 4.9497476, 2.1213205],\n",
              "       [6.       , 0.       , 0.       ]], dtype=float32)>"
            ]
          },
          "metadata": {},
          "execution_count": 72
        }
      ]
    },
    {
      "cell_type": "markdown",
      "source": [
        "![image.png](data:image/png;base64,iVBORw0KGgoAAAANSUhEUgAAAukAAAHnCAYAAAAFJsPmAAAAAXNSR0IArs4c6QAAAARnQU1BAACxjwv8YQUAAAAJcEhZcwAAEnQAABJ0Ad5mH3gAAHYCSURBVHhe7d1PqBVnuuj/ym+k9OCS4/HAUfBg3+AkhxzFCxo0OLEdNOpFQYJkcm0RgkTTAxORCy0OLjl6HIjKJQex7YnITcBwNHciTsQjbcMN2tJOTFAi6IFra49u2tn++a3Us/LusmrtVbX+7Np7fz9QrL1r1ar/a9XzPvVU1RtTr2SSJEmSOuP/K14lSZIkdYRBuiRJktQxBumSJElSxxikS5IkSR1jkC5JkiR1jEG6JEmS1DEG6ZIkSVLHGKRLkiRJHWOQLkmSJHWMQbokSZLUMQbpFU6cOJH9/Oc/73X8r5n94Q9/yHbu3Jn95S9/KfpIkiSpjQURpBM0Ejx++eWXRZ96BORXr17Nrl27lj18+DDvPv300+Jd1fnuu++yQ4cOZbt3787efPPNoq8kSZLaeGPqleLvVl68eJH9x3/8R/Fff4sWLcr+83/+z8V/k0OQvnfv3jyA3LVrV9H3dTHc+vXrWwfmNAQOHz5c/Pe61atXZ+fPn59Xgewo1pskSZJ+MnQm/eXLl9mTJ08G6p4+fVp8qttWrlxZ/NUcjYDIwH/zzTd5UH78+PFev8uXL8+7TPP169fz13379uWvkiRJGs7Iyl2WL1+e/Zf/8l9qu9lAVpua8rVr12Z3797NM9xprfkg5S/jRh13Ok/l+nfm8de//nXewKFkp9+8U3Ly3nvv9Yapqw8v19yXx8U8MR7Glw5bNT7+v3TpkmUukiRJIzSyIJ1Slr/5m7+p7WZDZLWrMtp0vP/Xv/41D4IJQquC+QhWx4HgmDruqH9nPm/fvv1aoH7lypXs/fffz/szHEEx80gwHZjHPXv2ZAcPHuwtH8MzbCCgJtAm4L9//34+DNM+ffr0a9PkzMeWLVvyvxmO4VesWJEdO3YsX2fhwYMH2bNnz7I1a9YUfSRJkjSsiV04SrA7Wxn1fhYvXpydOnUqD0SrgvmbN29mb731VjH06EQGmqA6xk8mmuCbC1fLDYOTJ0/2hlu1alU+n48fP87/x/Pnz/PXNFhm+P379xf//VSWcvTo0Xy5wTDMQ9U0WQ9RY87wGzZsyKdJiVO4ceNG3rjhTIokSZJGY2JBOkFeBIaRyU0zsgtNXQZ6yZIl+WsE3SAgJzDvJz5HNr0q88+6vnXrVp4N56xHKuYhnSYYNsWZh7SmnnGyLZctW9bbtpIkSRrexIL0FEEeAd7/+T//Z8EG6mSko6QkSmvo+J/+TZERpyxm6dKlvXFW1ZD3C6jTzLwkSZJmz8SCdILx6EAQSbC4UAN1stSUiKT3Y0+7devWFUMOjsYPmW4+TykN9fXcGrEcqNcpZ84lSZI0OyYWpBMoUt8dHcE591gnQKf0ZZwo7yAAffToUdFnOMxzXGyaXrzZRFVZyygR5BOoU1LDNGgQUVPOhanloP3OnTt5Bn6mkpoyxklmnpKXhdjQkiRJGpeJBelkebl4NO246wuBHsHuOEUwWXVxZBuUo3CRKbhwsg3KU7Zt25bf3WUU88SdYsoNBuaN4DsaBJs3b85fz507l7+CaXN3l7a3UNy0aVO+LtqU6EiSJKnaxC8cjS4uHH377bcncovGAwcO5HchSWvAq+41PgjKVBgXCFLb4s4p3FmlXJdOlr5pZpqLOgnK0/GQ4b548WIv+OaVp52STY9hmDZ3juHzbZB9pyFANl6SJEmj8cbUK8XfrRAI/ulPf8of9z/oI//5DCUXf//3fz9r91DX6NDYIRt/4cKF3m0iJUmS1N7ELxwFpSeTyqBr/CijIZt+9uxZa9MlSZJGYGJBelwsqvmHMhqeWEpt+pkzZ4q+kiRJamtkQTpPoeRuLXWd5jfKXKhtr7p7jCRJkpoZWU36ILhglLu6SJIkSao3dJBOlvw//uM/iv9mRi26JEmSpHpDB+mSJEmSRmtiF45KkiRJGsyCCNK5kHHnzp3THvRT9Th/7vedDtPmoUJdxxNGuS4glpG/R/HEU0mSJI3OgsqkHz9+PHv48GHerVu3rug73erVq/NbCTLMqVOn8otd5xPuwsLtMFm+S5cuFX0lSZLUJZa7NFCVkR8mEz1ohn9Q5Sw54/Z2iJIkSXOPQXoDPLTn8uXLvWw83bZt27I9e/Y0DtQJnvfu3ZsdPny4Ny4y/bt3724VqPOZLVu2ZAcPHszHdf/+/WzFihX5NAzUJUmS5haD9CGRrcbz58/z10FFwJ+W3fB4fcptbty4UfQZDHXzlK58+OGH2a5du/J+lOkcPXo0//v69ev5qyRJkuYGg/R54MmTJ3kd/aZNm4o+PyI4v3v3bnbr1q15dwGsJEnSfGaQPgQC37Nnz2Zr167N3nnnnaJve2Tjnz17lq1cubLoM5jI4i9ZsiR/xYkTJ/Lg/De/+U32+PHj7OXLl8U7kiRJ6jqD9IYIzLk1Ixdm8vRUAmDKSoa9C0wE/FizZk3+2kZcjEqgz91pfvaznxXvSJIkaa4wSG+IYJzgNy725MJPMuncY70tAvQjR45kV65cyU6ePJnfJrGNBw8eZNu3b8/nKWrTJUmSNPcYpA+JCz+5YHOYuu8zZ87kATp3d6m7f3s/Ueby2WefZRcuXJg2jkePHuV3eVm0aFHRR5IkSV1nkD7LqB3//PPP8wC9bfZ7+fLleTaf20GmWXhKX27fvp1t2LBh3j2USZIkaT4zSB8SZS4E2dzfvGkgPIoAHUyX6TOuuMc6Wf1jx47lWfStW7fm/SRJkjQ3GKQ3UH6iJx1lLjw4qGmZCuO6evVq/jc15Ok46Zo+0Ijpc690gnU+z0WtoATGLLokSdLc8sbUK8Xf81Y83ZMAtl/Gmqw4ge758+fzhw3NdzQEDh06lNext71YVZIkSaNnJl2SJEnqGIN0SZIkqWMWVJCe1n7X1XzzGH3ulMIwPLSo7W0Vuyqtq6f8R5IkSd2zIGrSJUmSpLnEchdJkiSpYwzSJUmSpI4xSJckSZI6xiBdkiRJ6hiD9AQPM4q7vyyEu7vQ8Tf9yrq4Lngo1c6dO/N5my+4yxDLxLLNBewD7AuzvQ1OnDgxL7+fsX75zjV96vBs43dkx44dlb8nkqTmDNJLVq9enX3zzTfZw4cPs1OnTs27R+rzZNGbN2/my8fTVevwZFaGofvwww+Lvholghme+MqtMOfKE275PjC/3M60i0HkfA3e26AhNckGIL8t7777bvbpp5/OmUanJHWZQXoLabZr2IxiOWNNkNFWOUs+lzK0Cw3bhWBm27ZteYOorLwt6854jAoBd0wrurpgd926ddnx48fzBoZZ09GiEURygMYx63lS+N1Jt31dAyzdL6uGOXDgQLZixYrs2LFjNpQkaUgG6Q0RVG/ZsiXvli9fXvRthwPj6dOns2vXruUHZV6vXr3aKlDngMk8HTx4MB/X/fv384Pl3r17DdQ76Pr16/nrvn378tcUgdAnn3ySXbhwoXc2g2B+z549YwuKCQhjWnScTXr8+HF25MiRymBr69at+UO/zp49azA2h0XQjXT7VzUQ2M5s7ydPnhR9Xkcj46OPPsr3n6+//rroK0lqwyC9AQLhW7du5cH0qlWrir7tcHAkID958mR+mhi88j/9mwRjHDwpXaEsJbKyHCyPHj2a/x0BYddFwBDZvH5nAtIzEFXDlcdVlYmmMURXHrYqQ1g+4zHMGRTmle1VV+bCfvDVV1/19guwjLhz507+Om7MF/NHoP7y5cui70+i7OXKlSvZvXv3ir7jU17/n3/+efHO9G1Nf+bp7bff7g0bZwRiHOXty3sME8OxfVjfDDfTfhafjWGq9rNBDDoe5ofhnj59ms9PDB/7Y8w7/ShJSp+gTJcuA9Mk6KYByFmdmbCdCb75TL8EBfst42QfL68vSdLgDNIbILs0qjp1gq2lS5dOC/Y5aHJgI1PVJBhjeA6emzZtKvr8iOCcgzQNC8bdZQQkZIrjTAAdAXRV3TzBB8vE2YI4Y3Du3Lni3R8DlcuXL/fOUNDVZaIJ6ugfWeuqMo6Yj7hWgfFyBiQCo6YePHiQPXv2LFuzZk3RZ25i3+Uajhs3bhR9xqO8/unS6yQICuM6C/pv37493y9i2PjObt68uXJ+4/uzYcOGad9tGiHl/Swt42A/++CDD7Jly5b1psX+2+aMB9ONMpeqfT5FI+T999/P10sMH9cI0Lhi36c/+3J6jQ0d70XDMIJuAveZsKyMj+UbJEHBbxG/PezrkqR2DNJnyaNHj/KD/qJFi/L/44DPQZUgg/cH9fz58/x1yZIl+Ss4gBNg/OY3v6nNhnZJLEMauBJ87d+/v/jvJ6yfzz77LA9s6Aiubt++3cvaEYSQGUwDrghEyo0fMoIE6JG1JpCj8RTDEWxxZoMgKIIbhiVYIThimuUsaLmLDG0gSCS72aRcivVDMMk+MwksNw2Rumw/6L9+/fo8qzuuRmDV+m8r5jfdVxANZrZ9qryfsS4IaqPco6pkKcqACIbBdNKMd7nje9pGegYuGkt8z5tgeJabQDqdp/L+ChrB7Hss3yDazpMk6ScG6R1ABoyAgAM2GbJhRFCwcuXKPDP3s5/9rHin26KBMUgWspzxHATjJyApKwfLNJoIRqKRVHXGAwxDNpzgmXmJLGhVl559IfghqCX7OugysE0jKzpIFrMt1nuUjXB9Q91FrSn2s3E2AuvWf1vlDC/bg8YswXu5EVDez2IfZZvXfY7h2bbRcOG9yGxXdYOUmZSNaj9gH2dd/OlPf+rND40Qtmd6LUI0lGikDLrPlr9HkqTmDNJn2f/6X/8rD8A4hR2ZsbYIPAj2yTrOFFx1DcvOOiAgI0AkUEzrZ5tKa4npCMYJSJqKQCat66UjYJkElp+Lf2kQ0IgbNpvcD9sgykbo0LbGuqveeeed/DsSJS9kxb///vuBSj5SNEoIZimXSvcLurRevusI+NMzAexf/H7EGQMC9ahbn+TdZiRJBumzhgwkQSkB4MWLF3vBVxz8eX9QkeHj1DylG+nBlCCTjFaU1XRZmnWklIR10+buNAToBBqMI80QEpA0xXbgc3w+xhUdAS2BLYFMk3KXQfEZaqBZD2l5w6QQvNFoKpcIzWVkgtPyKJbtH/7hHxrfqSkyxdTAl/cLujh7wjTGUe4yCoP8xnCHFn6Pqu5CJEkaL4P0WULtNYFB+RRym4sKGQ+ZXrJdaSBHgEAw0qY8pAkCDQKOthdSVqGhQZAdJSWDIrClDIFsKVnTpuIiwrgINy1rqcO6HbTchde0HKIO71FyQEOO9dAvi0m5FOu/bWNgGP0agcxLNF7Kd1QZVNX6j/KLKoOU30Tt+R//+Md8Xxn0+5GW3gy6HcdR7jKomfbduvdZfywnpXKsn/KZJM508T3ht6tu27ZJNkiSpjNInyUE0wTVlLpEppjggzuLcFFik6wpAQMHTE6zxwGTwIEsLAfiQS/2aoPpEKggLqRsgwC/fLCnJIFgIb0gdiYRPMXperBeCdoJNvphWTi1T0ASAT6v/E8w1XbZymgApPNXxnwMGqCDYAgMP6rbIcb+g/IFlSEagXX19RGogeVgnE0RELMPpBdisi3qvh/s72znfrcdJXCmlvxXv/pVPn91y5diHypfSEuGnO145syZ/P+uie9NrLuy2LfZ52PbpMv593//95WNT+5uRGKAbcr/VfsnyQa2A9tDktSOQXoDHMDSC+sIsiir4P82tbsEGwQLkaWKhxG1qSePzHNkt7hPNOLuFOMSDYRhscwE5cx7dAT/aSnQoHjqIes0attZz7/73e8qy10IbOOe2rwScJYz3/yfbqfo2pYqROBZV0ZCoM18IbZndFX7GUFmm1KeVLmGn3VBhpkAr279x1mfunpuPjfsvsE4WM9kzpmvuMD6l7/8ZTHEdHwPaPjG95Ku6gxDnCmpumA0pONgX6LkKP1u0lBgO9FQieGia3rmIP1tYZ3x2xL7b9szJMwf85zWzafXebBv8/uA+A5ULWcbfJfbns2SJBWm1PPFF19M7dixY+rFixdFn/ntVXAxtXHjxqlvv/226FPtVdAz9fHHH0/98MMPRZ/pWF+st37DdNFMyzVO7GuDrPtBsSyjHN9MWGesO6bbD/PDfM003KSx769cuTJ/LYv9mW2k5mKbV61bSdLgzKRraNxDmYwqjwMfZ9Z+PiH7TTY9LTVoi6wt2dKmZVLD4IJCSj363RWF5WL5WM6uXXhopnc8Yptz1sl1K0nDMUhXawSHnCLndD+n/ScVIM4HUcYxTE0zZQsEyZRHUOo0qdtust0pBel3xxnKZ6Lkqk3J0jgxb5TP2KgcPfZl6vyPHj3qupWkIRmkl6R3MpiNu2WMW7n2tU5ao1x332fqf7lwrF/dsupFzTCNnDYXpbLO484hM11cOip8H2gQHD9+vO80aTAwX2l9/2yLuxBxYWT6lFmNBr8tv//97/P17O+BJA3vDWpeir8lSZIkdYCZdEmSJKljDNIlSZKkjjFIlyRJkjrGIF2SJEnqGIN0SZIkqWMM0iVJkqSOMUiXJEmSOsYgXZIkSeoYg3RJkiSpYwzSJUmSpI4xSJckSZI6xiBdkiRJ6pgFEaSfOHEi+/nPfz6t+/LLL4t3JUmSpG55Y+qV4m9JkiRJHWC5iyRJktQxBumSJElSxxikS5IkSR1jkC5JkiR1jEG6JEmS1DEG6ZIkSVLHGKRLkiRJHWOQLkmSJHWMQbokSZLUMQbpkiRJUscYpEuSJEkdY5Be4cSJE9nPf/7zXsf/mtkf/vCHbOfOndlf/vKXoo8kSZLaWBBBOkEjweOXX35Z9KlHQH716tXs2rVr2cOHD/Pu008/Ld5Vne+++y47dOhQtnv37uzNN98s+kqSJKkNM+kJgvnbt29n27Zty956662ibzM0BNIsfLmbj5lmloeGDOtt165dRV9JkiS1ZZBeYeXKlcVfzRGkRgb+m2++yVavXp0dP3681+/y5cvzLtN8/fr1/HXfvn35qyRJkoYzr4P0yGqvXbs2u3v3bnb48OFpWe1Byl/GjTrudJ7K9e/M469//evs6dOneRa+37xTcvLee+/1hqnL2pdr7svjYp4YD+NLh60aH/9funTJMhdJkqQRmtdBemS1qzLadLz/17/+NQ+CCUKrgvkIVseB4Jg67qh/Zz4ptykH6leuXMnef//9vD/DERQzjwTTgXncs2dPdvDgwd7yMTzDBgJqAm0C/vv37+fDMO3Tp0+/Ns0nT55kW7Zsyf9mOIZfsWJFduzYsXydhQcPHmTPnj3L1qxZU/SRJEnSsBZ8ucvixYuzU6dO5YFoVTB/8+bN1vXp/UQGmqA6xk8mmuCbC1fLDYOTJ0/2hlu1alU+n48fP87/x/Pnz/PXNFhm+P379xf//VSWcvTo0Xy5wTDMQ9U0WQ9x0SzDb9iwIZ/my5cv8364ceNG3rhZvnx50UeSJEnDsiZ9ltRloJcsWZK/RtANAnIC837ic2TTqzL/ZL9v3bqVZ8MXLVpU9P1RzEM6TTBsijMPaU094yQrv2zZsl7QL0mSpOEZpM8SMtJRUhKlNXT8T/+myIhTFrN06dLeOKtqyPsF1GlmXpIkSbPHIH2WkKWmRCS9H3varVu3rhhycGS4yXTzeUppqK/fu3fva4F6nXLmXJIkSbNjQQTplHcQgD569KjoM5z0YtP04s0mqspaRokgn0CdkhqmETXlXJhaDtrv3LmTZ+BnKqkpY5xk5il5SS8mlSRJ0nAWRJAewWTVxZFtUI7CRabgwsk2KE/h4T/c3WUU88SdYsoNBuaN4DsaBJs3b85fz507l7+CaXN3l7a3UNy0aVO+LtqU6EiSJKnagil3OXDgQH4XkrQGvOpe44OgTIVxgSC1Le6cwp1VynXpZOmbZqa5qJOgPB0PGe6LFy/2gm9ez58/n2fTYximzZ1j+HwbZN9pCJCNlyRJ0mi8MfVK8bfUCo0dsvEXLlzo3SZSkiRJ7XnhqIZGGQ3Z9LNnz1qbLkmSNAIG6RoaZTQ8sZTa9DNnzhR9JUmS1JZBukaCMhdq26vuHiNJkqRmrEmXJEmSOsZMuiRJktQxBumSJElSxxikS5IkSR1jkC5JkiR1zIII0rnbyM6dO6c9jbP8CH3wUJ50mDZP/gzckjAdF/9LkiRJg1hQmfTjx49nDx8+zLt169YVfadbvXp1fr9vhjl16lS2ePHi4p1meOQ/47h//362ffv2oq8kSZI0M8tdGvruu++y9957r5ch52/6SZIkSaNikN4Awfgnn3ySXbhwoZeR37ZtW7Znzx4DdUmSJI2MQXoDPFXzq6++yl8Dte64c+dO/ipJkiQNyyBdkiRJ6hiD9CE9f/48e/LkSbZixYqijyRJkjQcg/QhcGtH7hjDHWFWrVpV9JUkSZKGY5DeEgH63r17s2fPnuX3QH/zzTeLdyRJkqThGKS3wAOOjh07lt29ezc7efLktAtJJUmSpGEZpDdEgH7kyJHsypUr2aVLl2ofiiRJkiS1ZZDegAG6JEmSJsEgvYF79+7lATp2797de+qoTx6VJEnSKBmkN0DmPJ40Wu5u3rxpbbokSZJGwiBdkiRJ6hiDdEmSJKljFlSQfvjw4V4N+R/+8Iei73TcVnHt2rX5ML/+9a/zi0Xb4N7pjOPtt9/u1bFLkiRJg3hj6pXib0mSJEkdYLmLJEmS1DEG6ZIkSVLHGKRLkiRJHWOQLkmSJHWMQXriyy+/7N39ZVR3d4mO/8v+8pe/ZDt37pw2XN1dZyaJ9cB8MX/zAduQbclyzRXsB7O9DXiCLk/S7cI+OWosE9+3Yb7js4XfkqrfE0nS/GKQXrJ69ersm2++yZ8ieurUqWzx4sXFO818+umn+Tju37+fbd++veg73Ztvvpldvnw5H+7atWvZ8uXLi3c0SmfOnMkeP36cbd68uejTfe+88062YsWK7NixY50LIudz8N5UNLQn2QBkelevXp1TjU5JUnMG6S1EZpZMnAfKbmP7ENCQeaRRVDbIGY9xiOnWTY/G4dGjR/PGBY0Mjda6deuGbog3FY2b2Nf6ZfFj/6ga5q233spOnjyZP/fBhpIkzV8G6Q0R9G3ZsiXvzHx3G1nOS5cuZQcPHswDm7IIkAnW4mxGBPTjEmUW//iP/5iftemHRgWB2Oeff24wNsexT+3Zsye7cOFCb3+rayCwrdnm/dDI+PDDD7Pjx4/Pm7I0SdJ0BukNcPC8detWHsytWrWq6Dv3RJYuurqzAS9evJhWM181XHlc5QCX7OGOHTvy13TYqgxhlA7EMMPWZF+/fj1/rStzoSSJLhDIb9u2Lbt9+/ZYAh/Wwb/+67/m5VTvvvtu0bc/yl4ol6KxMe6yl/L6pyH65MmT4t2ftnX03717d29YOr4fMY6q7RsNlGhwsD8x3NOnT2fcz+Kz0ZX3s0ENMp5YBoZlXmLYdH+M/jydmKcUp08zpkuXgfHQ+CNAr2osplhnbGsCcLp+mJ9nz5719nNJ0vxikN4A2atJnh4fB4ISgtCou6fjQE8AmSLw+MUvfpEHHwxD4HD69OlpwxGIbNq0qTeeukz0n//85zywA8Mx7XIZB+MlGCXwi/GtX78+27t3b6uAmWCHBhXjqCpzmQ0EaL/97W8bzQ/72oYNG/J1lgbMo1a1/svXScR1FtGffSKGpeP7wbIxjqr5vXHjRn72IG3gXrlyJdu4ceO0/axcxsF+dujQoXy6DMO42YfbBOpR5tLvWpHAcjx69Kg3fHqNwK5du3rzwjKR0eb/6HgfEXTT+JspQMfXX3+dfzf27dtX9KnHNqCRwH5ebhBJkuY+g/QFhAM5Wcty4Lp///7KAILggqAGBFZLly7N7ty5k/8PApF4H/0y0WQFI2sdgVw6HBfQEnBs3bo1/x8RqESmsJwFLXdpYEeASABFI2JQsX4IxhYtWlT0nX1r1qzJX58/f56/jkPV+m8r5jfdV9jObG+2e7mRku5nceaAgB58jvfTkiU+TyBPgzAajWnGu9xRB15uhA6C+Thw4ED+dzSWCKBfvnyZ9xsEw/KZv/u7v8vPGqTzle6vYB5pCLNs5XVUpe08SZLmBoP0BYSD+rJly/J615mykOWM56BWrlxZ/DVdOVgmECaDT+AZARwBR3qWgkCZ4chmIrKgdV3aYIiAdsmSJfnrIMhiktktz8dsYxloIBGMjUPd+m+rKsP74MGDfHtHAB/K+1nsozSW+Gzd52K7xnaOzHZVd/PmzYGy2GWjWB/MH/N//vz57KOPPurNE5l3GixpoB4NJRoqg0q/R5Kk+cUgfYEhm02AQKAeGb20frYJgru0lpiOLGBTEcjw2XRcb7/9dh40TwLrgOmT8Y9SBbVDYFsueSEzPmjJR4qGCeOgXCrdN8r18l1XvniZMxbpGQOCdc4MEMh3qYEoSZo9BukLUGQdoy6X4LRpoE6ATr04mTzGk2YIm4pMcbmuN7ook2lS7tIEn2MdpOUNGk5aHhWZ+ialR4H9i8x81KOXuzh7Mo5yl1GIfbsf1g/7ft1diCRJC5NB+hxBkEGwkd5hYlhk7D777LM8OI2SkkFRhsDFpWRM22T+yCByap8ArFzWUqdJuUu5HKIOATrLwDpgXdQtC6UXUVPctjHQVpxpYB1VicZL1R1VBlG3/im/qMpWD1J+E9cdUPLyxz/+Me83SPlUBPRRajLodhxHucsgZtp3696PWnXKw+K7VD6TxNkuziRxRqlu2zIOtkWsJ0nS/GGQPkcQpBAwcTBve8s1AiBq0dODPeOkLKGulrwOQQEBdpyuB+Mm0JgJQSUBSAT4dPxNv7alN2VRF53OX9mgAToiqAIXMrYJhtuKCzDrArGYLwK6e/fu5X83wXITFJcvxPz973+fr8eyCDxZD/0ajNSRs2/96le/ytfzIBdDnjt3Ln+N22YSXFMmw91dZisb3g/rjhr6dN2l0n07bdyly1nX+KT0in2TM1VVd5ViH6QRxLZgm0iS5heD9AYim02WK2piI/s17lPqcdeLYRAkkYlP63v5m6cXNq3DJnjic2ltO4F+XbkLgUoMF7fTSzPf/E0/7m4Rw9G1Xa8ReJKVrQokCXAIMhHZynS65QtrIzM8DOYjavhpQNDgStdfVYY+ArF+9dwEejM9GGkmbH+mEfsGmV9uF1lVqsG65WmoYDnq5j8aSryWL/wMrIN0HFwwevHixWkBPeVOlIKk+y1dmzMHbFc+G9c7zLT+B0GJFMuQzl/a2GTfZl9LvwNVy9lUNLAZbzmAlyTNA1Pq+eKLL6Z27Ngx9eLFi6LP8H744Yepjz/+eOpV8Fr0qfbtt99Obdy4cepVUFn0eR3z9yoQ7jtM1wyyXOPCdmR7zrTuBxXLMqrxDYL1xjSZdj/M0yDDTVLs+3T8XTaO79tCwjavW7eSpLnPTPocQTaZLDOnwNMMtOpF9rtcatAGGduzZ8/mmeVBHjQzCmTeXwViM94VhWVjGbt24aGZ3vGJbe66laT5yyC94wgOOa3PqXSCsLjTiQZDGQcNm2FqmildoDwCw5YoDIrtztMtqTeuu+NMlM8QqFFO0bRkaZyYN/ZVGhg2KkeL/Zj9mQac61aS5i+D9JK0Rrbt3TJQrn2tktYoE4STeSwjS8ZFY1xI1qUgbC6JmuH0CZhNsN5Z/1UX740LF4ByQSi133XTpLHAHViYt64EawSQXEfA+ubJtjYqR49tTuPH3wNJmt/eoOal+FuSJElSB5hJlyRJkjrGIF2SJEnqGIN0SZIkqWMM0iVJkqSOMUiXJEmSOsYgXZIkSeoYg3RJkiSpYwzSJUmSpI4xSJckSZI6xiBdkiRJ6hiDdEmSJKljFkSQfuLEieznP//5tO7LL78s3pUkSZK65Y2pV4q/JUmSJHWA5S6SJElSxxikS5IkSR1jkC5JkiR1jEG6JEmS1DEG6ZIkSVLHGKRLkiRJHWOQLkmSJHWMQbokSZLUMQbpkiRJUscYpEuSJEkdY5AuSZIkdYxBuiRJktQxBukVTpw4kf385z/vdfyvmf3hD3/Idu7cmf3lL38p+kiSJKmNBRGkEzQSPH755ZdFn3oE5FevXs2uXbuWPXz4MO8+/fTT4l3V+e6777JDhw5lu3fvzt58882iryRJktowk54gmL99+3a2bdu27K233ir6NkNDIM3Cl7v5mGlmeWjIsN527dpV9JUkSVJbBukVVq5cWfzVHEFqZOC/+eabbPXq1dnx48d7/S5fvjzvMs3Xr1/PX/ft25e/SpIkaTjzOkiPrPbatWuzu3fvZocPH56W1R6k/GXcqONO56lc/848/vrXv86ePn2aZ+H7zTslJ++9915vmLqsfbnmvjwu5onxML502Krx8f+lS5csc5EkSRqheR2kR1a7KqNNx/t//etf8yCYILQqmI9gdRwIjqnjjvp35pNym3KgfuXKlez999/P+zMcQTHzSDAdmMc9e/ZkBw8e7C0fwzNsIKAm0Cbgv3//fj4M0z59+vRr03zy5Em2ZcuW/G+GY/gVK1Zkx44dy9dZePDgQfbs2bNszZo1RR9JkiQNa8GXuyxevDg7depUHohWBfM3b95sXZ/eT2SgCapj/GSiCb65cLXcMDh58mRvuFWrVuXz+fjx4/x/PH/+PH9Ng2WG379/f/HfT2UpR48ezZcbDMM8VE2T9RAXzTL8hg0b8mm+fPky74cbN27kjZvly5cXfSRJkjQsa9JnSV0GesmSJflrBN0gICcw7yc+Rza9KvNP9vvWrVt5NnzRokVF3x/FPKTTBMOmOPOQ1tQzTrLyy5Yt6wX9kiRJGp5B+iwhIx0lJVFaQ8f/9G+KjDhlMUuXLu2Ns6qGvF9AnWbmJUmSNHsM0mcJWWpKRNL7safdunXriiEHR4abTDefp5SG+vq9e/e+FqjXKWfOJUmSNDsWRJBOeQcB6KNHj4o+w0kvNk0v3myiqqxllAjyCdQpqWEaUVPOhanloP3OnTt5Bn6mkpoyxklmnpKX9GJSSZIkDWdBBOkRTFZdHNkG5ShcZAounGyD8hQe/sPdXUYxT9wpptxgYN4IvqNBsHnz5vz13Llz+SuYNnd3aXsLxU2bNuXrok2JjiRJkqotmHKXAwcO5HchSWvAq+41PgjKVBgXCFLb4s4p3FmlXJdOlr5pZpqLOgnK0/GQ4b548WIv+Ob1/PnzeTY9hmHa3DmGz7dB9p2GANl4SZIkjcYbU68Uf0ut0NghG3/hwoXebSIlSZLUnheOamiU0ZBNP3v2rLXpkiRJI2CQrqFRRsMTS6lNP3PmTNFXkiRJbRmkayQoc6G2veruMZIkSWrGmnRJkiSpY8ykS5IkSR1jkC5JkiR1jEG6JEmS1DEG6ZIkSVLHLIggnbuN7Ny5c9rTOMuP0AcP5UmHafPkzyYGnS9JkiQtLAsqk378+PHs4cOHebdu3bqi73SrV6/O7/fNMKdOncoWL15cvDN63F/88uXL+bSuXbuWLV++vHhHkiRJC5nlLg1999132XvvvdfLfPM3/SRJkqRRMUhvgGD8k08+yS5cuNDLyG/bti3bs2ePgbokSZJGxiC9AZ6q+dVXX+WvgZpy3LlzJ3+VJEmShmWQLkmSJHWMQfqQnj9/nj158iRbsWJF0UeSJEkajkH6ELiFIneM4Y4wq1atKvpKkiRJwzFIb4kAfe/evdmzZ8+yEydO5LdTlCRJkkbBIL0FHnB07Nix7O7du9nJkyenXUgqSZIkDcsgvSEC9CNHjmRXrlzJLl26VPtQJPD0UO6lPu4nl0qSJGl+MUhvoEmAjhs3buSvPMGUi0slSZKkQRikN3Dv3r08QMfu3bt7Tx2te/Lopk2b8te1a9f6yH9JkiQNzCC9ATLn8aTRcnfz5s3XatNj+FOnTmWLFy8u+kqSJEn9GaRLkiRJHWOQLkmSJHXMggrSDx8+3Ksh584rVbitIjXkDDPuu7Jwr/WdO3fm09qyZYsXl0qSJCn3xtQrxd+SJEmSOsByF0mSJKljDNIlSZKkjjFIlyRJkjrGID3x5Zdf9i4snfSFo9FVXdA66fkaRMw78zZfxDLVXVTcNewD7AuzvQ1YX1UP85ovTpw4Me37x/9geVnuLn0vx6Er+5kkLTQG6SWrV6/OH+M/iYcQvfnmm9nly5fzaV27dq32qaS7du3qPTTpww8/LPpqlAhEjh07lq1YsSJ75513ir7dxr7Jk2+5a1EXGxYEs3M9cGUZrl69mn8/4zv46aef5u/x8DIeYjbp7+WkG8hd388kab4ySG8hMktkz8wuzQ9nzpzJHj9+nB09evS1hlk5YzqprPEg+xlPtT1+/Hh26NCheZvJni0Ew7dv3862bdv22tOEuyzdb9KuKsAedN92P5OkyTNIb4hgiXua09VlvjW3EHSQLSVTyNmNFO998skn2YULF3qZVIK2PXv2jDVYabKfbd26Nb+3/9mzZ+d01rqrVq5cWfw1N9DI5Cxg7K90BNhkw9NAvem+7X4mSZNlkN4AB7hbt27lp75XrVpV9J2fyvXy/bLHBJQxHJ/hs6mqzF45M0xZAR3TSDN7Vdk/+qXjihrhtig5IvioKnMhg/rVV19Ny6SyjLhz507+OmpN97MoR7hy5Up27969ou/4lLcR0w7pe59//nk+T2+//XZv2Ch/iW1YdYaA7Rn7UeyHDD/TfoZ0mLrxz4byOmvzPYllY1/loWvpw9nKw5Zt3rw5L+XjbFFoum9Pej+TpIXOIL0BTvmOu069Cwge9u7dm61fv76XYePATDBbzqARKBBQ3r9/P++o6T537lzx7o/I1H300Ue9cV26dCn/XDmoIKgjixeZvarT63yGflEjzPUDlCS0DdRZVj6/YcOGzmzXNvsZwTxB2I0bN4o+40GwTHb/5MmT07ZnIOBL67S3b9+e7xcxbCwXDSLeY99J96nYHux76VkNgsPyfsY1BOln2QeYl7imhH3k9OnTfYPXsjRQrgqG+zVW6zD98jpj+Vj+dFwzfU/i2hSWj23N9yOGpeP9cZvUfiZJMkhXhefPn2fPnj3LNm3aVPT58SJXLpgrB44EGp999lnen45glyArzRLu379/WrauLkCjrINAJYYl+7d06dJeVo9xErgcPHiwNwzzRSBDuQoBTxpkVXWRyQ0PHjzIl3XNmjVFn5mxfp48eZIHil3BeiDwe/r06bTlGyXGy/on+KYhMYzYVwg4WZchtkdkdEN5PyNoTz/Lti+XLLGPsK8wz+w7dIy3ar+gI8hn3FEqUhUM0wBJ9+WZxD7LONJ1tm/fvnzfpuEbBv2etBENZ75T/cy0b09iP5Mk/cggXa9ZsmRJHkAQCJE57adNBprhly1bVvz3EzKXaf31okWL8mDh0aNH+f91ATXzCwKMNMiq6soZak7/s6wxjpkQdBFwEbx1reSJ2mmW5+XLl0Wf0SJ4I3BNG2/DiO2YllaQoS3vByjvZ+k2B+NgO5a3CfsP+wzDEWDG3ZSqurhryyixz5KNLwe9gwS7dd+TQdHoiAYIDRj+jwZMlUH37XHvZ5KkHxmk6zUcyC9evJhn8QjUOci3Oc0f+Fxaj0tHaUtTBAYEipQOpOPi/zQbOy4EMZQBEfTNFPBoZmSNuVAxMsWsX87CsM+lAfkgaMgRDBPgp/sG45ptNDjqGoFpsDuq70mg0RENEM5QUUrGflvFfVuSuscgXZXSjDS1vWhzRxOG53MEYxEw0LW5rzTZSAKeqEcvd5QTEOw1KXcZFJ+hBppAkNriJiUPqkdWPspWyDqjzRkKsrtkgBlXeb+IEhUC0ZnKXSaNfZozRqP8nlRh+Sn9KZeiwX1bkrrJIH2M4g4WbQPDNsYxTQ7aZOIQ5QWDilKGco3xIMrlFeUShypp46KqK5e7pOUQdViPR44cyS+epb64Xz12ZENZ3nIwNG5kkyPoq0IQyr7R5ELKFOufkhKyv4F1wzqpMkhZBHXXZL/ZTyh1KV8wWqdc3jLIdmS8ky53Yf6Yz7SkB3HWIMp4mnxPymVgw2iyb4eZ9jNJ0mgYpI9R3AEhMoWTEAHUMLdJi9vdpSKIGLR2O3AwZ9nj8wQFNCBmOo3PcNyPmQAubo1IY4FM4ygfqFIXRIWmQQxBIstLVvL69etF3/GLoI8a5qpSEZaD+mewHG0aEAS5BNHp53kI1Pfff5/97d/+bf5/im0/03pgXglU4+LfQYJUtj13baGUJQL6CPYJtCfdOOqH+WM+md90ny1fyNnke8I6YzvHxdKD4DvNOk7XWdN9GzPtZ5Kk0TFIbyCypGQjow6aAx//V9VsRwa46kK4cYn7IQ8jDtYsV3QcxDmYNz0Vzri4GC3WE/fMJlCoOo3P+OOe2rwSCJQz3wRhnLYv16W3PXMQgWfdHTRo6DBfYL7TaVZt87gjxzCa7meouytKYB0y/8M6cOBAHlBG7TfZ8n/5l38p3p2uvO3pqrYTF5Dy/ej3PUnHwTqhLCO95SDLx77Ctox5i25cZSw0ZGMaBNPp/ps2cpnP8j5Lg4nrPiJgbvI9AduB5UzHGdMkkGY/iP50jJtkQbrOmu7bmGk/kySN0JR6vvjii6kdO3ZMvXjxougzOd9+++3Uxo0bp27fvl30qfbqYDv18ccfT/3www9Fn9cxDONinHPFIMs1LrHu2f6jwHheBa8zbstRYZ2x7liH/bBfs3/P1nqu02/9xzyPatuovUH3M0nSaJhJn2c4rU1Wj8ydF4ANJspoyiUJbfB5xjOKe4kP6uuvv86zpDNlNymxIAvKA3O6VKpAiQclRzPdw1uza9D9TJI0Ggbp80Sc4ua0NaUpk3j64HwS5QNta5qjhpjyAxpI47gIsUrUGve7K0dcTEwtcZuSpXGK+aeL0g91zyD7mSRptAzSS9J7Lbetcx5UWjsatcdVyrWvVQhw4s4Vk8rgzidklo8ePZr/HbcCbCJqoln/k2ogsW/SIDt+fPrTLMt4j/li/+hKIBz7dDQq3We7a9D9TJI0Wm9Q81L8LUmSJKkDzKRLkiRJHWOQLkmSJHWMQbokSZLUMQbpkiRJUscYpFfgCYVxNxW6cT2xcL7hNm3crabNLQwlSZL0kwURpMetDtNHddchIL969Wp27dq1/LZ1dJO65/VcxkN8Dh06lN9Sz/tdS5IkDcdMeoJgnge+8PTJtg/sSO9pXtXNx0wzy0NDhvXmQ5QkSZKGZ5BeYeXKlcVfzRGkRgaeR2ivXr06fwhI9OvSA2VG5fr16/nrvn378ldJkiQNZ14H6ZHV5gmiPEmUx1qnWe1Byl/GLR7ZHl25/p155MmnT58+7T2dtG7eKTl57733esPUZe3LNfflcTFPjIfxpcNWjY//eRqhZS6SJEmjM6+D9MhqV2W06XifR14TBBOEVgXzEayOA8ExddxR/858Um5TDtSvXLmSvf/++3l/hiMoZh4JpgPzuGfPnuzgwYO95WN4hg0E1ATaBPz379/Ph2Hap0+ffm2aT548ybZs2ZL/zXAMv2LFiuzYsWP5Ogs8Qv/Zs2fZmjVrij6SJEka1oIvd1m8eHF26tSpPBCtCuZv3rzZuj69n8hAE1TH+MlEE3xz4Wq5YXDy5MnecKtWrcrn8/Hjx/n/eP78ef6aBssMv3///uK/n8pSjh49mi83GIZ5qJom6yEummX4DRs25NN8+fJl3g83btzIGzfLly8v+kiSJGlY1qTPkroM9JIlS/LXCLpBQE5g3k98jmx6Veaf7PetW7fybPiiRYuKvj+KeUinCYZNceYhralnnGTlly1b1gv6JUmSNDyD9FlCRjpKSqK0ho7/6d8UGXHKYpYuXdobZ1UNeb+AOs3MS5IkafYYpM8SstSUiKT3Y0+7devWFUMOjgw3mW4+TykN9fV79+59LVCvU86cS5IkaXYsiCCd8g4C0EePHhV9hpNebJpevNlEVVnLKBHkE6hTUsM0oqacC1PLQfudO3fyDPxMJTVljJPMPCUv6cWkkiRJGs6CCNIjmKy6OLINylG4yBRcONkG5Sk8/Ie7u4xinrhTTLnBwLwRfEeDYPPmzfnruXPn8lcwbe7u0vYWips2bcrXRZsSHUmSJFVbMOUuBw4cyO9CktaAV91rfBCUqTAuEKS2xZ1TuLNKuS6dLH3TzDQXdRKUp+Mhw33x4sVe8M3r+fPn82x6DMO0uXMMn2+D7DsNAbLxkiRJGo03pl4p/pZaobFDNv7ChQu920RKkiSpPS8c1dAooyGbfvbsWWvTJUmSRsAgXUOjjIYnllKbfubMmaKvJEmS2jJI10hQ5kJte9XdYyRJktSMNemSJElSx5hJlyRJkjrGIF2SJEnqGIN0SZIkqWMM0iVJkqSOWRBBOncb2blz57SncZYfoQ8eypMO0+bJn2qP2zim65//JUmSFqIFlUk/fvx49vDhw7xbt25d0Xe61atX5/f7ZphTp05lixcvLt7RuH366af5er9//362ffv2oq8kSdLCY7lLC2TXybKT7SX7PgqRxSfjX3Wf8e+++y5777338o6/+4lhGV/5jEH6Hl2/8fWbZroO0q48vaqzGHXDSpIk6UcG6Q0RTG/ZsiXvli9fXvQdDgHw6dOni/+mi2CYR+7v3bu36FuP4Rn2yZMnRZ+fMJ1PPvkku3DhQu+MwrZt27I9e/ZMC8IHmSZnGDjTEOOh40zF7t27K4Pv9CxGdHVnMyRJkhY6g/QGCD5v3bqVXbt2LVu1alXRd3iXL1/O1q5dm/3mN78p+vyEx+xv2LAhD4h/9rOfFX3r3bt3Ly/XIcAuNyJ4KuhXX32Vvway3Lhz507+iqbTDJs3b87LhR4/flz0kSRJUhsG6Q2Q+R11nTqB/9WrV7OPPvqoMiCmTnvXrl3Ff/1RWkLG+uDBg0M1IppMU5IkSaNnkD6L0qA6zW63de7cuWzFihXZ1q1biz4ze/78eV4aw+eGxfRBRr3s8OHD1qNLkiQNyCB9Fl2/fj1/rQpqm6KmnIw8NeGDZvqjkUCJStvMe3rbRKbP/2+++Wbxbpb/TTlPWoseteujuuhWkiRpvjFInyVxsSgZ5jSobSMuFuUi0EEvxiRA56LQZ8+evRZYNxG3TaTjglQuQp3p/uZk+rnFIvX9zLskSZKmM0ifBW2C6n6+/vrr/GLNffv2FX36Y/rHjh3L7t69m508eXIkpTZgPJTu3L59O28E1CHTv2zZsnyeX758WfSVJElSMEgfI+quKQMpP7mUGnDuwPL555/3SkXoyKoTOHOnl7r7pZcxXjLS8bkYF7eIZDqUlfB/1IAz/JEjR7IrV65kly5dmpXbILJcBPLr168f+iyCJEnSfGSQPkY3btzIXwnI0/uWk3G+efPmtDptuqgPZ3jquAcJYKvuV07HbSK5BSOBOP8TjI87QKchQEODhkHdvEcWH4Nm/iVJkhYag/QGqCOPp3VGpjruWlL1VM5Nmzblr2S42z74KJ5ESse0mCbT5v9yhn4m3EOdAB2RYY8unf9Bpkk2vPwkURoZNDDS2zem64zu7bffzktdBm2ESJIkLURvTL1S/D1vxUWSBKb97v9NcEqG+fz58waQsygy/gTzXJgqSZK00JhJlyRJkjrGIF2SJEnqmAUVpEf9OF3dEy/Tu6Q0rfnWcOLBSNStR+28JEnSQrQgatIlSZKkucRyF0mSJKljDNIlSZKkjjFIlyRJkjrGID2RPsTHC0cnLy4cjY7/y6oeolR3EfAkse8wX8zffMB+z/7Pcs0V7AezvQ3i4V1d2CfHgeVKv3vp+i5/f+frOmA5q36bJGnUDNJL4rH8PEqfx+3z2H1NBg8uYr3fv38/2759e9F3Oh4yxdNKGe7atWutn+Sq/s6cOZM9fvw427x5c9Gn+955551sxYoV2bFjxzrXuJ4PwTvzzgPheLIw3z+69MnB8f2d9PeSgHmSCRUaJlevXp1TDVhJc5NBeguRZSRb5A+15hv2aYIQgp+qJ++WM6aTyirGdOumR4P66NGjeeOCRoZG68aNG3kSYy413MD+nO6vdfvQoGfp3nrrrezkyZP5LX3n69kCSd1gkN4QP/hbtmzJO7O4mm8IVC5dupQdPHgwD0bKIriJTCpZ0wjox4VAiIDpH//xH/MgsR8aFQRPn3/+uQHUGHCmYtGiRcV/c8OuXbt6+2vdPst+v3fv3nzfieE4Y8CZg6r9aN26ddmHH36YDzOb5VWS5jeD9Ab4sb5161b+I79q1aqirxYCDuhphq3uDMqLFy+mZeOqhiuPqxzgUhqxY8eO/DUdtuqUfjn7l9YIt3H9+vX8tS5bSkkDXSCQ37ZtW3b79u2xBCusg3/913/NS9Defffdom9/lL1QLkVjY9wlEOX1T+P9yZMnxbs/bevoT9AXw9LxmxLjqNq+0UCJQJH9ieGePn06434Wn42uvJ/NlvI6owyI7VzW73sS5UP0p0HGw894CFoM26/8JfZZ1mEME2V0BN+B7wCNQs4gVGEZnj171vvOSNKoGaQ3wA+4deoLD8EBQWhcq0DHwbkcWPC02l/84he9bBxB4unTp6cNRzC1adOm3njqMtF//vOf88AODMe0y2UcjJdglMAvxrd+/fo8I9gmYCZgoRHKOKrKXGYDAdVvf/vbRvPD93PDhg35OksD5lGrWv/leuxynTb7RAxLx28Ky8Y4quY3SkzSpAAB6caNG6ftZ+XSC/azQ4cO5dNlGMbNPtw0UGc8EfhWBcNVjYN+mEee6JyuM87asK+X57/f94T94ubNm/l7ZLTZDlzLEsNP4nea7cmy8J0Zd2NQ0sJkkC71wcGXjFs5cN2/f39lOQgBU2TjCKyWLl2a3blzJ/8fnHpPs3X9MtEEH5G1jkAuHY7MH0HC1q1b8/+xb9++/DWye+VsarlLAyMCRII5gqNBxfrpWhnEmjVr8tfnz5/nr+NQtf7bivlN9xW2M9ub7V5upKT7WZw5iIwvn+P9tGSJzxPIE+hGozENwMtdZLfTUpGqYJj3B8W+wnwxnvRzrD/Gy3sR7Db5njTFPk+Dg/XaL5Bn36ExvnLlyqLPdNEYpPH88uXLoq8kjY5ButQHB+Jly5blB/WZspDljOeg6oKAcrBMIEzQQPAQARxBQhpoECgz3KNHj/L/CXQioKrq0kAoAtolS5bkr4P4+uuv8+xqeT5mG8tAA4kAahzq1n9bVVnZBw8e5Ns7AvhQ3s9iH43yjbrPxXaN7ZwG4OWOLHVVI3QY0Qgs7+/M/yDBbt33ZBBpY5XgnFrydN8vYz2ePXs2/7u8HlPpd1KSRs0gXZoB2WwO6gTqcaBvepo/ENyl9bh0ZDibiiwfn03HRSkCQfMksA6YfjkzquYIVAke05IXMuNkj5sGywS7jIMSknTfKNfLzxYC2yppsDuq70lIG6ucCaAxxPirsvIE6EeOHMm/R9zFZdSNFUkalEG6NIDIOsY93AkYmgbqBATUixOkpCUDNACaikwxn43xpF2UyTQpd2mCz7EOWBcHDhwo+moYaXlUZOqblB4F9i8y81GPXu4igzxIucsksezs16P8nlShQfTRRx/ljQLOOpRx3QcB+kzZdkkaN4P0MYoAqd+dBjQ+BBkEG3UZszY4wH/22Wd5cBolJYMiIODi0plqYeuQWaUkggCsXNZSJ80gVnVpEFIuh6jDfs0ysA5YF3XLwj7Pvs93oG1joK0401CXtR32u1m3/qlTr8pWD1J+E9cdkOX94x//mPcbpHwqAvoovRl0O0663CVKesp3S2H9pxcsN/2eUAYzqrpwSto4Y0aAPsjZIaYbjQtJGjWD9DGKg1HVXRs0fgQprHcO+G1vk0YAxIE7DeQYZ1Vt7Uw4kBOopEEK4x7kND5BZXqxGx1/069t6U1ZXRCVGjRAB0FTBKXpRYGTEBdg1gVPMV9kTO/du5f/3QTLTVBcvhDz97//fb4eyyKoZz30azBS/8y+9atf/Spfz+ULRqucO3cuf43bZsZFltzdZdLZ8H7SfTZttHFdA8tMYxpNvyes1ybfcdY/Z5rY17noNjQN0KNxwfS7dNG0pPnDIL2ByMySgYv6Tg4cdaeH41R1ZD81WXHXi2EQJBE8pPW9/E2tatM6bIInPkcgEOMi0K87jU9AE8PF7fTSzDd/04/bPMZwdG1LFSLwrLuDBkEJQSYIbtNb8dER5KQiMzwM5iNqk/keEYyl668qQx/BU7967rgH9jDY/kwj9g2y6twuksxqGeuWp6GC5aib/2go8Vp3wSLrIB0HF4xevHhxWkBPEBq3Nozh6MZ1Vi/dTvHbGPtveiaLfZZ9KN23+Z/9KbZV0+8J4+S9+C2mS5eT/TL607HuGDa9TSPfFxpcSMcTXdV+Fo11liXGI0kjNaWeL774YmrHjh1TL168KPpoNvzwww9TH3/88dSrA2/Rp9q33347tXHjxqlXQWXR53Vs01cH+L7DdM0gyzUu7Pt8B2Za94OKZRnV+AbBemOaTLsf5mmQ4SYp9n06/i7zN6o72H/qtpMkjYKZdM1bZMfIMnP3kTQDrXqR/S6XJLRBJpPb2JFZjvu3jxsZ21fB04x3RWHZWMb0XuJdYHZ2boj9x+0kaZwM0jXvEBxyupvT7gRhcacTDYYyDho2w9Q0U59NOQzKpRjjwnY/duxYXiNcd8eZKMsguKLMomnJ0jgxb+yrNDBsVHYX3wm+GzQG3U6SxskgvSSt9xxX/aaqRe1ov3t9V9W+lpHZot6Uu1R0KQibSwhy+R6kT8BsgvXO+p/E49kDF4ByQSi133XTpLHAHViYt64EWAR9XEfA+uYOJzYqu439h4aUvy2Sxu0Nal6KvyVJkiR1gJl0SZIkqWMM0iVJkqSOMUiXJEmSOsYgXZIkSeoYg/Qhxe3+yk9blCRJktoySJckSZI6xiBdkiRJ6hiDdEmSJKlj5n2Q/oc//CF/mh9P9YsnWtLx1EqeXpli2Hifrq7OPB1P1dMxeb/8tNJ4qiDTSEVNe4wv5jU1yDBNpPNPxyPcU/xfXj/xpM8YlnHQ8T/j4O9YRv4vL6ckSZIGtyAy6Tw6nkfIg8eB379/P1uxYkV27NixXiBNsHno0KHs2rVr+TDffPNNdvv27Tz4DBEsP336NB9HjGv79u3FEM0Q1MZ8xfiY/r//+7/35ovg+IMPPsiWLVuWv0938ODBbM+ePa0CdZaH5WL5YnzPnj1rNa7f//73+WcvXbqUXb16Nfsf/+N/ZP/zf/7PfH3cuHGjGEqSJElNLZhyl+PHj2effvpp/vfixYuzDRs2ZI8fP85evnyZB8IEmgS/b731Vj7Mm2++mR0+fDgPPiOAvXfvXh7cfvTRR/k4hnX58uVs7dq12WeffdYbH6//7b/9t97/169fz1/37duXv2Lr1q355/h8EwT+NDDWr1+fL1/Yv39/b7mb+POf/9xrZNAQ+uUvf9kbD9OJhoYkSZKaWTBBOpnz1K5du/Igl2D1wYMHeUZ4zZo1xbs/WrJkSf76/Pnz/JXsMMHx8uXL8/+HQcOAjDaNhbqAnyD31q1brwXVDE9mvWkgHJ/7/PPPp50haKu8LsrrWJIkSe144egrZNSjJCat1eZ/+o8DgT8Ng36BLVl+5o2gOp0vOvq1wdkEziqk4yzXpEuSJGl2GaS/QqBMRjjq0cvdunXriiFHhyz90qVL8yC8zqJFi/J5+/DDDyvn69SpU7VZ+H44i8Dno56esh4DdUmSpO4wSH+lXNZSZ+XKlb069kCdevnuLlXu3LkzLSsfATjlLHUlK23LWgbF+KmHJ1B/9OhR0bcaJUF3794t/pMkSdI4GaS/wsWO27Zty+/u0u8uJ9SsU6ISF3My7D//8z9n//RP/5T/HwjmucA0gnKy1GSrUwTIu3fvzgP8M2fOFH1/rEP/3e9+1wvKue0h40qHaYs6eGrR04CfeWT8zHOg8UBATmAObqfIvEqSJGkyDNIL1Gpzd5dyXXp6v3OC+ZMnT+YBN+/xmd/+9rfZu+++m78fKCch6I9xkS3ntoqrV68uhvgRZTSU2HAHmZgen9m4cWOvjIVpEshzkWkME13Te5Fz8SlBf7qM/M0yMc+B+aJuncCcYfib+W97q0lJkiQ188bUK8XfkiRJkjrATLokSZLUMQbpkiRJUsdY7jLHcfHqnj17ZryfO7dxjCeuSpIkqdsM0iVJkqSOsdxFkiRJ6hiDdEmSJKljDNIlSZKkjjFIlyRJkjrGIL0Cj86PJ3LS8b9mxhNQeaLpX/7yl6KPJEmS2lgQQTpBI8Hjl19+WfSpR0DOY/p5XP/Dhw/zzlsXzoxbQR46dCjbvXt39uabbxZ9JUmS1IaZ9ATB/O3bt7Nt27Zlb731VtG3GRoCaRa+3M3HTDPLQ0OG9bZr166iryRJktoySK+wcuXK4q/mCFIjA//NN99kq1evzo4fP97rd/ny5XmXab5+/Xr+um/fvvxVkiRJw5nXQXpktdeuXZvdvXs3O3z48LSs9iDlL+NGHXc6T+X6d+bx17/+dfb06dM8C99v3ik5ee+993rD1GXtyzX35XExT4yH8aXDVo2P/y9dumSZiyRJ0gjN6yA9stpVGW063v/rX/+aB8EEoVXBfASr40BwTB131L8zn5TblAP1K1euZO+//37en+EIiplHgunAPO7Zsyc7ePBgb/kYnmEDATWBNgH//fv382GY9unTp1+b5pMnT7ItW7bkfzMcw69YsSI7duxYvs7CgwcPsmfPnmVr1qwp+kiSJGlYC77cZfHixdmpU6fyQLQqmL9582br+vR+IgNNUB3jJxNN8M2Fq+WGwcmTJ3vDrVq1Kp/Px48f5//j+fPn+WsaLDP8/v37i/9+Kks5evRovtxgGOahapqsh7holuE3bNiQT/Ply5d5P9y4cSNv3CxfvrzoI0mSpGFZkz5L6jLQS5YsyV8j6AYBOYF5P/E5sulVmX+y37du3cqz4YsWLSr6/ijmIZ0mGDbFmYe0pp5xkpVftmxZL+iXJEnS8AzSZwkZ6SgpidIaOv6nf1NkxCmLWbp0aW+cVTXk/QLqNDMvSZKk2WOQPkvIUlMikt6PPe3WrVtXDDk4Mtxkuvk8pTTU1+/du/e1QL1OOXMuSZKk2bEggnTKOwhAHz16VPQZTnqxaXrxZhNVZS2jRJBPoE5JDdOImnIuTC0H7Xfu3Mkz8DOV1JQxTjLzlLykF5NKkiRpOAsiSI9gsuriyDYoR+EiU3DhZBuUp/DwH+7uMop54k4x5QYD80bwHQ2CzZs356/nzp3LX8G0ubtL21sobtq0KV8XbUp0JEmSVG3BlLscOHAgvwtJWgNeda/xQVCmwrhAkNoWd07hzirlunSy9E0z01zUSVCejocM98WLF3vBN6/nz5/Ps+kxDNPmzjF8vg2y7zQEyMZLkiRpNN6YeqX4W2qFxg7Z+AsXLvRuEylJkqT2vHBUQ6OMhmz62bNnrU2XJEkaAYN0DY0yGp5YSm36mTNnir6SJElqyyBdI0GZC7XtVXePkSRJUjPWpEuSJEkdYyZdkiRJ6hiDdEmSJKljDNIlSZKkjjFIlyRJkjpmQQTp3G1k586d057GWX6EPngoTzpMmyd/6nXfffdd9t577/XWK3/TT5IkSdUWVCb9+PHj2cOHD/Nu3bp1Rd/pVq9end/vm2FOnTqVLV68uHhHbXF7xps3b+br9NKlS0VfSZIk1bHcpYGqjHx0VZn5YfWbHt24Mv0sy6SmJUmSpNcZpLeQZuSjq8vMD4MneV6+fPm1aZHpJ+O/YcOGsWT6WZby9B4/fpwdOXLEQF2SJGkCDNLnoOvXr2fPnj3L1qxZU/QZLxoLu3fvzgP1ly9fFn0lSZI0LgbpcwwlMNR1b9u2La/1liRJ0vxjkN7C4cOHp9Vrj6MevU5k0alVnxTuxHL69Ok8m05WXZIkSeNlkN5AVY049ekEr9y+cdwmmUVPb5u4ZcuWfJq7du0q3pUkSdI4GaQPaevWrdn27duzW7dujf2iyklm0dPbJtLB+5tLkiRNhkH6kLi7yrJly8Z+UeVs16Lv27cvW7p0aXbnzp2ijyRJksbFIH1IBM+3b9/O1q9f/1q9dtxvfBT3GB80iz7KaQ7qxIkT+TQnUfIjSZK0EBikD4Eg+NixY/nfZJrLbty4kb9yn/EnT57kf7fRJIs+qmmm0uXcvHlz/hqikYJJlPxIkiQtBAbpDaQXU9K9/fbbeakLF5NW3fVk06ZN+evatWuz5cuX53+3QRb97t27vfH1M4ppkhGPZYzl5MFJVcvJ/5xFwLgeriRJkrTQvDH1SvH3vEW2d+/evfldWPrdoYTglIz1+fPnK4NuDY9ynEOHDmUXLlzwPu+SJEk1zKRLkiRJHWOQLkmSJHXMggrS0yeF1j0llNpv6rkZZpJ3SJnP0lp+So4kSZLU34KoSZckSZLmEstdJEmSpI4xSJckSZI6xiBdkiRJ6hiD9ET5IT5eODoa5YdA8Tf9yk6cODFt/fP/bIt5r7vQeC5iWXbu3Jk/P2AuYBvs2LGjcp+ZJPbH+fqbwDKxbOn3j99DsL+k/bvwvRyHruxnkhQM0ktWr16dP1L/4cOH2alTp3yC5gjw0KKbN2/m65SHRdX59NNP82Hu37+fbd++veirUSIA4WFS3GVnrjywi/3n3XffzfePrjUsmB8aPBHQzkUE6EeOHMkeP37c++2jiwe/rVu3bla+l6zTSTYmu7yfSVqYDNJbKmd9x5lpjUAgplWXiR6l2ZimxottSgCybdu2yifvTvpMUjlD22+aBw4cyFasWJEdO3ZsXmayZ9OTJ0/y4HwuNdxQ/o2iG/YsnfuZpC4xSG+IAwAHAkTGiY5s0zgwPbJX69ev702LIGvPnj1jC5pnY5oav+vXr+ev+/bty19TBOi3bt3Ks6Vsb4I2MqtkWMcVrESGNrp+0+SM1kcffZQP8/XXXxd9NUoEp3MJDYrLly9P24eqfqciII9hrl27ll29erUyUHc/k9QlBukNEDicPXs2PxCQkZwEDkI8XIkMT+Bv+vHeOMzGNGcLB3MaXZFh63d6Pc3GVWV8y+MqZ/Ui80cGOc1a102znNnm/7YYP6VGddlSMutpeRfDMCzBCpnWSYhpEqi/fPmy6PsTyhH47rEcddtolMrr//PPPy/e+ek9vhM8AC19UBpdbKsYrnymjX2HfSj2I/aTqIeeaT+Lz8Ywddnj2VBeZ1WBcL/vSXxH6M86TR8uR9fv+wnex/Pnz/NX8Fud/l7HfnT79u3KcU16P5OkOgbpDdy7dy8PWuJAMG4cIDiQbNiwYVptPPNx5cqV2oPMMGZjmrOFwICs28GDB3tZNoKKqrp5gkcwTGR800wb64QGDFm6GFdVVg+MK7LWdFWn12M+mBbjYrynT5/uBX9NPXjwIHv27Fm2Zs2aos/ctGnTpjxwY3nGqbz+6T788MPi3R8bNfTjfa5jOX78eG84uign2rx5c/7+jRs38v9DlJik37M///nP2ZYtW/K/Y9zsZ2fOnMn7gf3sgw8+yJYtW9abFvtv07NcjCeCYabJ/LBfDhoMl0XDIV1nvPJ7kTY0ZvqepNlx1ml6jRAd71U1MkdtUvuZJPVjkN4AB8ylS5fmP9xxMKOrynaNAtkgAqv0NDRBGgcvMvq8l2aMRmE2pjlbYjnSwJUs2v79+4v/fkKAFtk4ggRKgQi0Y7vTj/fThk005u7cuZO/BkqJPvvss3xYunLGmmCF0/FkEiMgYb4IxiK7lwZZVV05g0mQSEZy+fLlRZ+ZPXr0KN/flyxZUvQZL5abhgjroy4QW7VqVR648V0cl6r131bsK+XGLfsE65YgPlXez1gX6WerSpa2bt067SxXVa1/2vE+445gmICZ/YJ9q20wHAkM9rv4HK+sQxr3vB/9Bv2eNMV3kd8o1sU777xT9H0dwz19+jT/jVu0aFHRd7pJ7GeSNBOD9AYIWsiu/OlPf+odzDgw8UM+ztpdMG4aA8wDB9BJBE6zMc1JiuUZJAtJZq0pxk8gVlY+SxHzEY2GCOAIFFIEFdFISoOsqi49vR9BCdnXdLr9EMhR3kGA2SRYa4r1HqUPZHTJqlZd1BoIqlgP7JPjUrf+2ypnZdkeNPCq1m15P0u3ed3n2KZsW7Yxw5Rr/cvdOK6foRFY1aAbJNit+54MIn6j2H/efvvtfDpHjx7tu59zBoyGQ/l7mJrEfiZJMzFIb4gDTprF4mBJtijNhI4aB2hOcXNQSYOvcZqNaU4a2WkO1gQIBIgc6Jue5k+V63GjXrmpaAymtbh0ZFUngQCdaZHxT69LGAe2Qdyekw5dqrEeBbK6rMsoeeF34vvvv+9lkAdFnT5BKI2ndL+gS+vlZ0u/zHQa7I7qewKCbK6liP2H32LGV1cWRn+G4YxFv8agJHWBQXoDK1euLP6ajMgwcbcBDizpQYWDdVXmalizMc3ZlGakOd1PsLB3797GgXoc/NOSARpuNOqaYj/jc3w+xhUdAS2BbdNyl0ERHHMfdaY/U0ZyHGgAs48NW/rQJaxDGrtRtsKy/cM//EOj0iNEdpcAs7xf0MWFv4OUu0xa/HaO8ntShbMErJ+0FC2w3Ex7Eo1PSRoFg/QG0lPPqbrgNQ6WbWvWCSA5tc1BJa2xrDvtjdmYJgEh06zLXo3DOKbJAZ7goWndfayb8jobVLm8om4/S6WNi6ouPftB4JaWQ9QhQKf0h3k5f/78a9s5Nex+1lZkk+sazMxLlD+0DUar1j/rhjr1skHLIqL2/I9//GO+r/QrtUil1xIMuh1no9yFMp2qs4npBctNvyeDfA8Gxb4QZ4fiepB+ZtrPJGkSDNIb4MDCAZOLk+IgycG77mK3OL09TCkM2VI+n95JhLs9cACput/1pKdJZpAMITgATyJgYxoEKiCoHqY8pRzI1dXW9hPBU7rO2S8ICGY6jV+1/8R+RqDddtnK6oKo0CRAB/sC0osCh8V25S43KF9QGQj6WKcEcFUiuAL7Rpv9kcYS64FGENgGbAvOYJTFtieAZx3WYX3SwP3Vr36Vz1/d8qXYNyljYd+IoDK+m+kdX7qg6reR9cYF51xnwLpr+j2J72Bsh0HwnS6vs6YBOmbazyRpEgzSG+DHnR95cJES2TpqmU+ePFlZ3xgXgUUmrA0ObhcuXMgDOaZHR1BcF0hNepoRfGDQ7OCwmAYH3WGxzQjKYxnpCP4vXrw4Y5BaFveRj9p2grrf/e53lafxOeUe06vaf1g+ShdYr4wzhqVrW8YSgWddGQmBEIETgUl5mlXZ8ri14DAIqNLp8J1iH2Je6tY/26tfJpbPDbtvMA7WM4E388X0+P+Xv/xlMcR05W1PV3WGJ76bVWejAvMe46DsiDuvpJlvvptxK9QYLrq2Zw5mEmet2D5MO62Jj2lW/TayTlie9KxOk+8Jy8p3I50ejZRouBLgp/dbpyNRwG1NY52x39JYA/Me8xZd3fdppv1MkiZiSj1ffPHF1I4dO6ZevHhR9NGovQoupjZu3Dj17bffFn1e98MPP0x9/PHHU8ePHy/6vI5txLZiOIafC2Ke2c9mA9Odad03wfYZ5fhmwnSYHvtQPzFcv/1nNjDfK1eurJz/QZdN4+e2kNQVZtI1J507dy6vV+UC10lk7+cDst9k09OShLaiFIN7t5PxHDfmd9B7YDMcy1lVDjabzM5236D7mSRNgkG65hSCQ05T3759Oz99PYkAcb6IMo5hapopNaDkgDIGygiqyrzGIa6J6HfHGUpMKGdAm5KlcWLeKJ+xUdltg+xnkjQpBuklaU3upO9cMV+ltaP96oXLta9V4s4V/eqWVS/qfGnktLkolXXOuh/XXUKqsP/8/ve/z/ePftucBgPzFbci7ILYp7m+g+s8bFR216D7mSRNyhvUvBR/S5IkSeoAM+mSJElSxxikS5IkSR1jkC5JkiR1jEG6JEmS1DEG6S1x1xfu/sKdG6KresqgJo/tkD6ZcD5gmebS3Ya4VeZsb4P4jnK3jvmo/MRN/qYf4q4y0Y3raaSSpPExSE8MGtxx8D9y5Eh+P13uOc1t3+gmdc9oLSwEWIcPH85vXzlX7t3Mg2BWrFiRHTt2rHMNiwhu53LgyjLs2bMn27ZtW+/35+bNm71bPPK4ffpdu3YtW758ed5vEuZjA1mSZotBegtPnjzJg3OCpjb3063Kwpe7+Zr9UzMEY4cOHcqOHz9eeV/ycsZ03PsNQVg6vbpp0pjggTA0ZNs+OEn17ty5k78SEM8l8TCytKs6Q0SQz7Klw3k2QNJCsyCD9FGVDpApbIMAhgeuRAaMJzeS7SLrFf3IhEk8OIiHa23durXo85MIjmOfYf/hqZbjDNTjgUGDTJMGLGcAPv/8cwOsMVi6dGm2ZMmS4r+5IR5GFh3JDhpynJmM32MC9L179+b7TgxHI5WkiPuRpIVkwQXpBBP8+G/YsCEPltOMDf3TJ47SdeHUbTnzntaeBpaLLk7lx7BVBzWGi/fpaLSUlTNZ5WnGPFVNs2p8YNiqeW+qnM1lvFVevHgxbRmq5quc2Stvb+Z1x44d+Wu63qoaeYNspyb4LAFwXZkLDbm0MUepA+UPbZ8m2kZM8+nTp6+tD1D2sn379rwhWvX+qKXbqPzk2nhvy5Yt+dkw1msMS8e+ENuw6nvP9mCbxn7EK8Oy7DPtZ+XvU9X4Z0u6zurmv9/3JF22pr+hNOTYDgTqL1++7PWjcZqeOdq8eXO2evXq7MaNG0Wf0YplYDlZ/rp5571yv/hsrDfGEeNif+Fv9pH4bYjfq0F+W2K9V20TPlOeF0nzy4IJ0uPgS1aPgCHqx+OAENkaDgRpnXk8fj5+iPnBrDrIj+vHknF+8MEH2bJly3rzdPDgwbwetRwAsmwEbQQmsTyUSqTD8cNOEJcu47Nnz6YNw4GBgyzLl06T5ea9FNNkXnjkOcOxbjlQl4djOZgu6y1O1bfBwYpHrKdnHVauXPna9AgUfvGLX/SyccwXn0uXk7/T9XD//v387AhZvHRb/vnPf86XHQwX2b+0jKPJdhoU64ls6apVq4o+cw+NCxrErDO2/bjE95tgiO0Y25MGQijXabNPxLaiIyhkftnv2X8ePHhQfPJHsd+uWbMmfwXftY0bN07bz8r7P9uf+Ui/T+vXr39tP5sJ44zfm6pgOIK/QTHtCCBjnbFu+J6k45rpezLob+hcwDZ69OjRtOVsc10Fv6nsC7/73e/y///7f//v+feA9ZM2omf6bYlG7q1bt6bNA59nPOxHc2XdSmpuQQTp/KARQPHjx49gVW3vTNIDUdVBflwHouvXr+ev+/bty19B6QMHZ6aZYp44uMZ8RDDx/Pnz/JUfeQ7I5R/2/fv39y44YxiW68MPP5x2ISzTrMqIckAmUInPE1DSj3WdYnpMl3lMg5ymOICy7IwnMJ9V25R5jf7MFwFv2kBgnln20C9AY31E1pplYbj0YDvIdkqDrKouDexYxxyYmxyEY/sSWCxatKjoO17MMw011kdVth/l/XAc7t27l3+3P/roo9r5GFTsw2nWNrYHZw1iXw/pfhZBVfpZtj/7QVqyFPtJ7Ddp9rbcxRkZphG/N1XBcHpWZRAxba4diHXGstG45AxONC6bfE+aYho0Chhfv/2cfYfAlwb5OLHtDhw4kP/NchJYp1n+QdEg5bN/8zd/k///n/7Tf+ptf5Yj/S70+22JeWA7p41c1jvjoZGFJr8tkuaOeR+kRxaLwOXixYsDBzxdUBeo8cNNxpaALA2Yy8FrWXyOoKou68aBgANC+WBYd8AqB4TMJ0FJ1Z1uOBCld6Bog/miUZDWsFYhgGmTgabGt2odbtq0qfjrRyx3HGwH3U5pkFXVpQ0N1jHruklQ8vXXX+frhu3EtMclDQgIKAgY03kvY53SQCo33EaJoHim/X9QbEO2ZdoIi+9FeT8o72flbR4Zz/I24TvDPkSjE+Va/7Qb9jtTJfbZqgbdII2quu/JIPhNpuHB/kMWmYZP1e9FYF7Pnj2b/z1MA38Qo/rusG7SeWWfqBtvv98WxHjSBEN5f2/y2yJp7pj3QToB4zhPs49TBGoE1REURUe/NgiUCarScVbVO3KgqFLOAk0aB3MylwSj1Bwz/01P86f4bKwHuihlamIc26kptiElEOUzIOOQBgSUBBDszbfaWJaHfT0yxQRIBEVkypvgu8J42DbpflGul58t/YLHtFE1iu9JoMFBwyP2IdRdv0GAToOcdXXy5MmRN1bmApaZhgzfs7Th1+/slaT5Yd4H6QSlZMA44HBgqToQdFVk2wi84oCWdtwhps2PdGTtomaXAKIqUK/ShTtKpEEi64ZAuE2gzmc4rZ/Wt0cpUxODbqdxnZLmc2zD9FT9pLBclJikAe18wD5AUE7GMrLObbKscRaBhnHVvhFlDoOUu0xaNNRH9T2pQ+lPuRQtUJtNgD7T2Zr5jmx7lLzE9yw9gzOu3xZJs2tB1KRz+ppSFw66BOp1P1jl04zDih/O9Gr9JggI0lPno8b4P/vsszy4i9PuaXCSikClSY10GQf7UQccBDkEx03XUWSjqmqMB5Gebh50OzU5JV0uh6jDPkZGjW3ItuwXREY2dNAG2ahENjmCvrIofxgmG09ZEA3xtBSLOvWqbPUg5Tesx6gNZjzff//9QKUW5fKWQbfjpMtdmDfmkXktr3OCZdYPQWDT78kof0PZX2mAE6DPVA4Td06ZjWCUoJn6/FGpKt3iDA792Da8X/4dbvLbImnuWBBBOjgokdEkoOPgWxWoRIa4fEFmWxHoli/6aYLAhc+P4oEwHHA58KWBJPPF+KP2OYITDo7pAY96Z4aLC5WaioM906vKmA2C+Wb+06AixtvvtH2VCJ7SIIXlHeQ0PsOxftLTzaPcTugXRIUmATrrjkYEKBeqG2dTjIeGEgFEXSlIbO+6MzAEdKxzAp24mLEpAmiCw/g8gf8///M/Z//0T/+U/5+KbT/TeohMJev43XffHShIPXfuXP7KLQORfp8m3TiaScxjzDNYb+mFnE2/J01/Q9kvuXsKYn4waICOKDcD2zT9fRs11kV6wWx8B0el6rcF8XvAGTPOarT9HZY0tyyYID1ETXbU96U4CFP3yI9knCYcJrsXFwSVsyJNME9kAzlIxjxFxw96Exx0WR4OsDEO/maZ0wMhWRcOdhwoYrioA2+b0WPaZH9YD20v/uJAxalxbv0W88W6ZT6jbGBQjIu7WoBxxDL+27/9W+W2StcFt7XkdH+anRrldgoReFaVkbDvMr9gulGfHx1BTiqCxWEx3nQ6rDsCh7rSK+aT71q/TGzcEWUY8d2N2m/2h9/+9rd5cF1Wte3pytsp9lmUL+4LBGzpOGgIlS9QZz9hfyH4jeHoxlXGwu8V33OmEcF07L/p7xnzeP78+Wn7bPn3oOn3JLZD3W9ouayH/Zbgk6A+1hnrhEAUsT3Trmo7jWLfHgTbkuNHrE/+/vd///eh9t+ZflsCvwesc7ZD2+OJpDlmSlKtb7/9dmrjxo1TrwKZos9kvQoCpnbs2DH14sWLok97jINxffzxx1M//PBD0Xe8WG+sP9ZjP1988cXUypUrZ2091+m3/pnnUW0bDSe+p2yvuaLpb0sMz34naWFYcJl0aS4hC0k2PS1JaItxMK5R3Et8EGRPyTTOVM8cJRaUolVlEGcL80+WmUxnmhlXt3C2hls0UkefPqdgvolrBdKyIEnzm0G61GFp+UDbmmbKAziVTsA5TMlSEwRO1BpTw1t3xxmG4YI/Six4gE7TkqVxSuc/fQiRuoXvBCUzmGvPwWiC7zClP3Q2GKWFwyBd6riog626jmIQfJ47PKR1v+PGHVG4mC99mmUZ/allZ95mujhwUqKeOwK/mS7I1exiv2H/aXs72q6LGn7O5nAtQJfONEkavzeoeSn+liRJktQBZtIlSZKkjjFIlyRJkjrGIF2SJEnqGIN0SZIkqWMM0ueYuG1d1e34uN80TzGMp9fVPdGw/NTI8tMpJWkuGPQ3T5LmIoP0OebMmTP5re36PdCCW3VxW7KbN2/W3hObx1jfv38/H65L96eWpEHx+8bvHL9j/O5J0nxikD6HkD2/evVqnvke5/2u4+E3aUf2vs09uuO+0+Xx0TGdEPcDTrtyhj/OIpSHo0vPLFTNPx3zwfyEQaZZFmch2q6PcUkziul6baKclZxpGftNs7ytyhnOfvsFXd20Y5uVt2Vsl6quKrvadFmHVZ6/mfazmcT8Vy0bqtZv3X6Rbqv0exQG/Z4MOs3ycOVlKO87aVc1f5I0b3GfdHXfixcvpnbs2DH1xRdfFH1e9+23305t3Lhx6vbt20WfasePH5/6+OOPp3744YeiT38x7SafCYPMd5VYFuY1MG3mIe1XheXns4yjiappphjvypUr867NuhiXWC8xbzNt/yqxbOlnWQ9sO7ZhWb9pxjZP12PV+Kv0219i+zCeuvkqYx7K24p+bfaPtpheui5m2s/6ifVOd+HChcrliHWYrmvWZ9X6pz/j+N//+3/nr4N8T6vmf9BpVn2Wv9PliGVsun6YTjoeSZrrFkQmvZw1q8vckB0qD5tmbiIDRL9ytracMSq/n2b+YnppvxDTL2eMrl+/nr/2K3MZF7L2PPGOMpuXL18WfceL09jbtm3Lnj59OtYMZ6rfNPmf0+kffvhh3nUJT/f85ptvsrNnz2bLly8v+g6OffBVQJR36RMN2T+fPXvW2/dS/aZ57ty5/HH6Bw4cKPpk2TvvvJOXWLEO+21PpsU016xZU/T5CU9MXbt2bfab3/ym6NMf3yXOPG3YsKH3NEq+l/R7FeDWloKNGuVkaUlZ7GevgsrXvv8zodyN5eEJmz/72c+KvtPxfWVdpduS343Vq1dnN27cKPr8uC54iu21a9eyVatWFX1nVvU9GXSasQ3TfYO/6cd7kqSfzPsgnYMgP/4ciKhbpOMAs2fPnmmBOj7//PO8PwfwqHE8fPjwawE4/QhoCFIYjr8PHTrUGx+v8R4dtd8ELXv37s3nh4CBoPfu3bvZgwcP8s+EO3fu5K9pkMKBkIPp+vXrJ/ZYd0339ddf542Uffv2FX26IQLsgwcPNgq0Us+fP88DY/bRFME3wdOjR4+KPj/qN032VYK3ZcuWTXtMO38TXPZr6DFevnN8P8sBdATXH330UW1wWsb3funSpb2GbTS0qsY/VxDs8yj8USCgnuTj9Nm+NEzSRhNo8F25cqVVo0WS5rN5H6QT1HJgSw8KZAgRAXEg68PBIg7gBCD0I7BIkRG8ePFiL2COgJpgB3x+//79+d9g2uWgPMadZpkiGC8HEU+ePMmD/k2bNhV9JotGx+nTp/NlaNtIoGGTnlkoN3zKeJ9GE9MsBxH0T8dVVafKOtuyZUtvmKqzFmV104zlZxm61kiKrPXWrVuLPs0tWbIkD2bL+3kon1noN03WGwF63RkQGgPxPSmLLHp8P0PaKBg0uGabEdSn+yyNA5bx7/7u716reZ5pfxylaMiwDhctWlT0Ha9oiK1cubLo016/72aqPM2qxiDfXbYtZ2TK+8Yg33NJms8W5IWjEZSUlQ+aHNzJxpUzV+UsIYEDdxhIT/WWMc20LIBxkxlPs0d1wXgcuBjHpBDkRNkPwS4NhzYZvFiHcVYhzjxwgC8fdDn4xwGZ9xkuXaesczJ/6bjibEd6IRufSYeJMxk0rliu1EzTBPNPRpmSjS5JA9F+wdJMYl+kIZKuH84e0GhNDTJN9l8+x+cDn2P8dfgO1GW525R6lbPoiCDx/PnzeUY+9o/YHycVqMd6LWeUx4VGAUEwqsqIBjHI9yQ10zR5n4YSZ2nYVulv26Dfc0ma7xZEkE4wGAcYOgIustrjxMEknSaBLkF4Kmp+I7tOZr8rwWA0POIgiXItf1tkYAmYOWuQZlvT4JrAmvdnyoDzGWrE+50q56BPUIby2ZOZpklwEmUWkwioBhVBEEFtv2BpUJxtYlzp2Yf/9//+X76dolE66DR5L4KqGBefo9yLwLmqsVmXRY/gvslZjLQhUfWZckY+9sf0rNa48FvEsrDPjqpspR+22ZEjR/JGwcmTJwc+E1E20/ckNdM0aSx98MEHeSMlrdXvh+nP9D2XpPlm3gfpcVAkaIiDDNlqSk3GhQCdICGtg+fv8gV2UfNLcMCBjQPfpLJrTVGLTYBVDnLbYPkI/PrVJ0dgnTZi6nA6vXyqvCzOnpTrq1PlaRIMkDFsUmYxKeOokSdgiv2V7r/+1/+aTyPKFZpMMw3q6MiM/t//+38rSzxYz1VZ9LYNkaosOmIfmC00+PgtokGQXjg5TlxoSrA8U+a7iZm+m3XTjPXPZ1kPaSOF/Yr3qhpwYZDvuSTNJ/M6SI/Al4PipLLTBBxke8oBRxUOdmT7GJ6Lp77//vvKU8Nx4OrqwSnOGgxaMxrraBQXwsY2prFTbgSlCCY4e9Kkrj8+Q0ARGWE6amUJQt5+++38lD3z0FTTdZaKZWbeWO6Yrzhbwz7F/+XyjabTjACMYLftNENsc4Zjv0/VZdGj/Ktcm8z2iPkoZ3P7ZdFpHNBIKDfUola9ql57mO2UYr0wT/wWffbZZ6+tg8B6jnr5unU5KOaddUewPImsPfpNM8qqyr/HsW/1+z2IYWb6nvfD+mS9tv3OStKkzesgnQMhGVsO9FFqwkGcgwQH+XGIQCA9LcvBoarcBXF3DA7g7777bmVgn2bcZwMHtGPHjuV/l7OTEXyBg+hMB790XP0ysoyXzC7L3a+BRdaO7duvHIVtzt13OF3eL5tYnmY5Gxwd42Ef4rR/m7tjsA64cBBkkNMgcxBMr1yzSxdna+KsUbqsTbcTwRbrjFcCpzbTDOz/rFP28fL7zFdVFh38n5ZcRUcAyJkwtjtZ8zSwq8uig2VgHggi0wCYC2FR/syw2ykwrUECdETDBMN838cZoJe/J2GQadKoYvnS6xXiKcr9fg8G+Z7PhGmABjZJEUnqunlf7hL34I1aWw4uv/vd78ZW7sIB5OjRo/nfTJdpcoD/t3/7t8oMUGSXUJflZZyUwaSB/ziRNWS+oyNjzPTLARHS+a8q1SFATu87z7hoOJXHxQE+nSbrjoxpGgSz7Bzk0+EIoggU0wCvPP9se2pj2fapQaY5DoyboG2SZtpO5XUGAuSZzgZVKW9zgjYCrKrAjSw6DeZR3Lkosuj9MrI0Evg+sv5j/tiH0rs1hVFsJwJ9poc4+xLTpWMfTEWDHFXrJN1O7KsE9fHbFhniWA8onwWiiwZKup0iiRDDp9efDPI9GXSa7E/c4pbrDOI9fte4mDfW/6Df86ZohI2zzFGSRu0NnmhU/K1ZwkGwfKAq48DFhXcEIOVgM3Cg5D7vBKRVGc3A9DjozZTV0/jE9uSsi9uhu9xOcwcNAc7+9HtQFb99NCYm+TArSWprQdzdpcsIAgjQydjVBejgPYYpn6rX3ESJBXXYw5y+1/i5neYPfjf5/eziheCSVMUgfRZxapr6bLJ0gzyMhnIB6qHTp5tqbiFQiFP8lD8YLHST22n+iPIZkhyUHo26Rl+SxsVyl1kQp9CpxR3kYrIUgT33IKauuHywiXKXuECV+taq07qc8iWjFAj860poJKmrBv3Nk6S5yCBdkiRJ6hjLXSRJkqSOMUiXJEmSOsYgXZIkSeoYg/QFqPxwEv6XpLmGC0fTB2elD2FKdeE3jzsG1c3ffFC3jsvbKB66Nd+wTCwbDxyTRsUgfYGKx9rzmHXv7CJpLuIuLjwZl9+xeLJrFX7jGIbfPH77uoRgdq4HriwDD4niqbCs5/S4km4j7iQ2KXHrzUkFzdyhjdt88sRdn2WiUTFIV634kYsMCH/TT91RzlK5jbrJ7aT5iv2Y5wls27ZtTt36MjLf8Z2MrirALn9/686I8KTv48eP+ywTjYxBuiqRfVi7dm2eFYjMyOXLl/s+FVWTxcFky5Yt+RMU2T5kCXkwFvfgNwDsDreTFoKVK1cWf80NZL5PnTrVO77REWCTDU8DdYLtTz75JL//fgxHg4T781cF4jyYkGPn2bNnK8+OcGy1ka5BGaTrNfzwnD59Oj99TGZA3cOPP9uH08fxUCsOOkePHs3/vn79ev6q2eV2Wrj4HU2zrwR/IX2PB8vxVNu33367N2yUvxAs8n9VyQYlJhHs0fE3wzNsjKcuGEyHqRv/bCivs6r5r8qAp/Mfy0agzAMDSTTVDVu2efPmbPXq1dnjx4+LPj+W63z11VfTzhIwX7hz507+moqyF7bpvXv3ir4/YRqg7KoqyJdSBul6DRlzfuDeeeedoo+6hicsfvPNN9mmTZuKPj8i6OPAdOvWrcosjibL7bQwxdmTkydP9rKvac18uU47vUaIjgwvwR6/wbxX3k8IXCkxWb9+/bSzmwSHDMu44ozNsWPHpn2W4J55Yb9kWtSRk5RpEqingXJVMFxXDtIP0y+vM5avHMyS0f7oo496w7AsTDvmn8Yw/Vk+Am6y4zEsXflJ3eOwatWqfNo3btwo+vyE7XXx4sV8vbG8adZeKjNI1zT8+D59+jRbtmxZdubMmd6PLl2TH3GN1/Pnz/PXJUuW5K/g4MsB+je/+U2eCXr58mXxjmaL22nh4Tc0zp4MeyaSQH3Dhg15wEmDLzx48CB79uxZL6MbCGg/++yz/HOR0U0/S7DLBZ4EtRHc02CgFIt5TrPy6W9/2rH/Mu4oFakKhmmANKlPZ5pMn3Gk62zfvn3Z0qVL88RR2L9//7Rx1zVk2jh37lz+GtnuOnyvWac0gqqwbmlgcCytmqdYf+wjbCOPrapjkK5pCBgIHDgFS/YvfnTL2Qp1RxxUqQnlh/9nP/tZ8Y66xO20MNSdPWlrzZo1+WtaWkGGlkzs8uXLiz4/IqAnAAzROIzGIuMg6CXTmyLYJOhnOAJMguL47S9347gbGI0OsvHloHemYBcsL0mltmh0RAOEBgz/RwOmCt9jGhM0TMrrMcX3fKZGOOuScXFsZbpSmUG6KpWzQPxNv1FkKzQ6HNzIIvEjP4nTuGrH7aS2yBpzoWL89hIkUupCBjYNyAfx6NGjPBgmwE+z44xrttHgSM84pdJgt1y3TkdSqa24PScdpTRcEFoXMLPuueCbBs1MwXxTNBCsUVeZQbqmWbRoUe0pPHVHHMw4tc2BJW1QcSBmG7ItNbvcThoFsvJRtkKDD/2yuHXI7pIBZlxpdpwuSlTijE8aBKfdbGR843tCEEsQTaMlnXcSSKMQpT80glgPKRpI1PfTyKFuvkk5Tx3WJQ13sulNS4S0MBika5o4dVg+vcjfUatezt7wQ8OPt6Uwgxt2nZF1IhtWvjdxZNnKp73hdmpu0tuJ71lckOcFZbNj2G1Ow4ySErK/ge1KyWCVQcoiqLtmP6JchVKX8gWjdcrlLQS7UdZSZzbKXZg/5rN8t5Ty9yTeL9fiV4mEE43hYbH9jhw5kt+xhe2YNrbr9GuEx/ecMwCMz7NrqmOQrtfwA0im5euvvy76ZPnf9Cv/OMaPKCyFGQzriAYP+IEuZ2wGwQGLU9T8yEcwx3jJ9HBg4F69KbdTc7OxnaKeGVV3htB4jWKbRx11+nkuwv/++++zv/3bv83/T7EfkJ3tdztO9iMCVbKulEUMEqSSdeauLex/EdBHsE+g3WbZxoX5Yz6Z37Tko3whJ+uK70gE62yvCHbLWGcklZqUkfAdZR2n64xpNA3Q4/e2KqnFex988EH+PefOOoOMTwuXQbpeQ8aPU/P8YJJRouPHiR+p8um4OCChKnur10XgNix+3NkujIttxH2WEXd3SLmdmpuN7RSZd4zqwkMNblTb/MCBA3lAybZkm5Mt/5d/+Zfi3enYP+Liwfi9JfAkOExxAWnsH7xWSccRtzNMs7QsHxct81sQ8xYdZxDGgTMSMQ2C6fSe8OnZCuaTUhPmO4anwcTtCiNgLq8rxsP2qit3YTuwnOk4Y5oEy+WyHsZN8JyuM+51zjwjvsPR1d1qsu7uO4jGWNXxVCp7Y+qV4m8tEPwY8+NXFSRoMjhAcAESB3K3Q3e5neYOsqA8jp0EQ13wE1lRMpx1ZRtd3eZRj00gWy6PiHkmiLR0YnYNso9JgzKTLs0CTuOSaeGhHAZ+3eV2Wni6us2jvnyme3hrdtWVhkptGKRLE0S2j9Ok1Ct6urO73E4LT5e3edRK00Xph7onttOo7v4iGaQvUByEoi5wXLWIeh01ldwhgbsneLDtLrfT3EAJSNwzu18tedyxhd88fvuqdHGbRz03yzboRYuaHZS5sI2oa3c7aVSsSZckSZI6xky6JEmS1DEG6ZIkSVLHGKRLkiRJHWOQLkmSJHWMQbokSZLUMQbpkiRJUscYpEuSJEkdY5AuSZIkdYxBuiRJktQxBumSJElSxxikS5IkSR1jkC5JkiR1jEG6JEmS1DEG6ZIkSVLHGKRLkiRJHWOQLkmSJHWMQbokSZLUMQbpkiRJUscYpEuSJEkdY5AuSZIkdYxBuiRJktQxBumSJElSxxikS5IkSR1jkC5JkiR1jEG6JEmS1ClZ9v8DLSTs/bk3gNEAAAAASUVORK5CYII=)"
      ],
      "metadata": {
        "id": "KkCHSViyK9v_"
      }
    },
    {
      "cell_type": "code",
      "source": [
        "embedding_size = 20\n",
        "tf.random.set_seed(42)\n",
        "\n",
        "text_vectorization = tf.keras.layers.TextVectorization(\n",
        "    max_tokens=max_tokens, output_mode=\"int\")\n",
        "text_vectorization.adapt(sample_reviews)\n",
        "\n",
        "# for review in sample_reviews.take(1):\n",
        "#     print(review)"
      ],
      "metadata": {
        "id": "bxhkEcaG74OU"
      },
      "execution_count": null,
      "outputs": []
    },
    {
      "cell_type": "code",
      "source": [
        "model = tf.keras.Sequential([\n",
        "    text_vectorization,\n",
        "    tf.keras.layers.Embedding(input_dim=max_tokens,\n",
        "                              output_dim=embedding_size,\n",
        "                              mask_zero=True),  # <pad> tokens => zero vectors\n",
        "    tf.keras.layers.Lambda(compute_mean_embedding),\n",
        "    tf.keras.layers.Dense(100, activation=\"relu\"),\n",
        "    tf.keras.layers.Dense(1, activation=\"sigmoid\"),\n",
        "])"
      ],
      "metadata": {
        "colab": {
          "base_uri": "https://localhost:8080/"
        },
        "id": "QxKP_PAt8SCC",
        "outputId": "bcc5647f-3ba4-4ca9-ce09-136a2c38857f"
      },
      "execution_count": null,
      "outputs": [
        {
          "output_type": "stream",
          "name": "stdout",
          "text": [
            "Tensor(\"lambda_2/Sum:0\", shape=(None, 20), dtype=float32)\n"
          ]
        }
      ]
    },
    {
      "cell_type": "markdown",
      "source": [
        "f) *Train the model and see what accuracy you get. Try to optimize your pipelines to make training as fast as possible.*"
      ],
      "metadata": {
        "id": "0ATBTrIIuUgg"
      }
    },
    {
      "cell_type": "code",
      "source": [
        "model.compile(loss=\"binary_crossentropy\", optimizer=\"nadam\",\n",
        "              metrics=[\"accuracy\"])\n",
        "model.fit(train_set, epochs=5, validation_data=valid_set)"
      ],
      "metadata": {
        "colab": {
          "base_uri": "https://localhost:8080/"
        },
        "id": "dDZ60JEkKoEs",
        "outputId": "dbabae5e-68f6-4dba-a74c-919e036ad60f"
      },
      "execution_count": null,
      "outputs": [
        {
          "output_type": "stream",
          "name": "stdout",
          "text": [
            "Epoch 1/5\n",
            "Tensor(\"sequential_4/lambda_2/Sum:0\", shape=(None, 20), dtype=float32)\n",
            "Tensor(\"sequential_4/lambda_2/Sum:0\", shape=(None, 20), dtype=float32)\n",
            "779/782 [============================>.] - ETA: 0s - loss: 0.2797 - accuracy: 0.8780Tensor(\"sequential_4/lambda_2/Sum:0\", shape=(None, 20), dtype=float32)\n",
            "782/782 [==============================] - 13s 15ms/step - loss: 0.2795 - accuracy: 0.8782 - val_loss: 0.3311 - val_accuracy: 0.8571\n",
            "Epoch 2/5\n",
            "782/782 [==============================] - 12s 15ms/step - loss: 0.2771 - accuracy: 0.8798 - val_loss: 0.3674 - val_accuracy: 0.8458\n",
            "Epoch 3/5\n",
            "782/782 [==============================] - 12s 15ms/step - loss: 0.2736 - accuracy: 0.8820 - val_loss: 0.3361 - val_accuracy: 0.8567\n",
            "Epoch 4/5\n",
            "782/782 [==============================] - 14s 18ms/step - loss: 0.2696 - accuracy: 0.8842 - val_loss: 0.3778 - val_accuracy: 0.8383\n",
            "Epoch 5/5\n",
            "782/782 [==============================] - 17s 22ms/step - loss: 0.2671 - accuracy: 0.8829 - val_loss: 0.3436 - val_accuracy: 0.8539\n"
          ]
        },
        {
          "output_type": "execute_result",
          "data": {
            "text/plain": [
              "<keras.callbacks.History at 0x7f2747449ab0>"
            ]
          },
          "metadata": {},
          "execution_count": 79
        }
      ]
    },
    {
      "cell_type": "code",
      "source": [
        "model.evaluate(test_set)"
      ],
      "metadata": {
        "colab": {
          "base_uri": "https://localhost:8080/"
        },
        "id": "1MWXKeWmNVKS",
        "outputId": "53754a00-ed8d-494a-8a37-6ef2c589a24c"
      },
      "execution_count": null,
      "outputs": [
        {
          "output_type": "stream",
          "name": "stdout",
          "text": [
            "313/313 [==============================] - 3s 10ms/step - loss: 0.3306 - accuracy: 0.8618\n"
          ]
        },
        {
          "output_type": "execute_result",
          "data": {
            "text/plain": [
              "[0.33063405752182007, 0.8618000149726868]"
            ]
          },
          "metadata": {},
          "execution_count": 80
        }
      ]
    },
    {
      "cell_type": "markdown",
      "source": [
        "g) *Use TFDS to load the same dataset more easily: tfds.load(\"imdb_reviews\").*"
      ],
      "metadata": {
        "id": "flKGFJaYuUna"
      }
    },
    {
      "cell_type": "code",
      "source": [
        "import tensorflow_datasets as tfds\n",
        "\n",
        "datasets = tfds.load(name=\"imdb_reviews\")\n",
        "train_set, test_set = datasets[\"train\"], datasets[\"test\"]"
      ],
      "metadata": {
        "colab": {
          "base_uri": "https://localhost:8080/",
          "height": 116,
          "referenced_widgets": [
            "dbdc536d16c146938468a66a2c2876cf",
            "e908783650754a6890c390de91c25457",
            "29dcb3d2b58d43eda02b74ce293cee84",
            "da64231e025642af9bb7e965356f2134",
            "3c22548eebb94f699959abad838805f2",
            "766cd12e25a34ddaa56bbe1f0b61f680",
            "7da83a75db3c4f9b8627a3f96a90d12c",
            "7991788780f24b0887dfdb3922441561",
            "1308c1e94a2e4e06921cc5755b68fab4",
            "3461868d5d1c4e829995a55fd67c0d05",
            "9a2d60df0869494b83263789fd4ef2d5",
            "c384f29f4f3d40eab3358b443337f9ab",
            "281b37afb11d4620bb154a0816a4c420",
            "8570960c56e84528b9f222f9a10adbc6",
            "ac9dc48f991a4693936c4e4531f890b1",
            "dfe9b463123145a3bf28758f4efb8f61",
            "265b51e0a4644996a28408b3d950124c",
            "a37353ee0be047aaaded87ff5a859d16",
            "7d2d6d43b2b34b7ba44b5174558d6420",
            "1caaeea13bcb467ca589897d72ed1062",
            "271aff66c05946828256e09b8683ea13",
            "57c5192d0cce4fba905f3d8f7507a265",
            "ba298c04a57349bfa3df1049592fdf07",
            "6d5b93937d574c1c804a37a9e88f5c53",
            "469a3942055d4947b1cbb26a8e939b9f",
            "4b5a58d4776f47dc9373566e3f3f7f59",
            "8c1f12d2f4634c32a77d3d82a4122a81",
            "93076adc4d414fb5b476abf6d37b6962",
            "0306c8a48b6a4b9f9b5a9466ed0cd195",
            "b6b7872771874ff4b37f4dd5ee3577f2",
            "3dd17cfcb7ef4873a86d0c5490564c97",
            "b6ccd2372c5d41bcb1db2697894fe1f7",
            "38f2b1bec7a74946bf4755a077bec19b",
            "14cb0a27ab67403ba198e011fb021b2a",
            "e10f651371f44f8d9bcd9a4750498f13",
            "cbd565eb382949a2816dc1e70060da2b",
            "cf3cf297f2f843f68b5c7c0a1f47da6d",
            "772bfd71ee2a444c9980d24165a1ad66",
            "270757018e5746e29fc998f69d526389",
            "93eada760466416eaed692773afe7bcf",
            "70f74d12f9904a41ab00dd4e6043c11f",
            "cac2e3c1588e4fc1b42f86392eed18e0",
            "d6fd04665a9a40b786aa8c4117d90c8c",
            "c9c00895da1249fca9c432e9c3b6a47c",
            "acaa17856771402693e1e72eaca00a0c",
            "b9cb0b18c6eb4f50b72bfead5539f7f9",
            "85d79c68b97048618959e562026ca8e6",
            "0738efb70d69439ca0f405693e5f03cd",
            "a06e9ede8138472d993783d519baae5f",
            "c85630d095824504a3f90ee462c4ab6f",
            "16ba7691247d43d7b78dac7f358e8f1b",
            "a449b67feff641a49c60785c0870ab7d",
            "dacfce9f92d94198bcbbcf81b5ec6f5f",
            "9f5c5d4c2a2b4bf7817fcd0ca90cbed3",
            "67d82c8f966b41b990925348890eed3c",
            "b8d849da651e42beb15c19763c8831e7",
            "cd43784b91284900b5cb3c8e04d2ff6a",
            "c969e6e3892b46eb8da67f3563908f0a",
            "6f3e9ecf6e454580a17da7134998d644",
            "4c9eb18202b342489006ae900855e62a",
            "e29d8000a9c24707a215d6b0fa605261",
            "6c6fc0358cbe4bf0a75850b2f87bf99e",
            "78eb7752e8fa49fe8991c670ab913b14",
            "a1426928c29f419c853d2a28ea86f07a",
            "d71d7699128743f8945349e1d87392c6",
            "c70796d4cf824ddb9f2a1734860551ab",
            "bb564e6e7a8545b2ad1a0bd90b252067",
            "e66d5c01a2f245a0a3c63882b7eeab4a",
            "7c799e189fd24e86a04e55f95395bc5f",
            "39c644302d72451a9df854fb7f5ffe53",
            "76561e04cc314d3fa8a54a848d603e28",
            "0457a63fdef046acae511778f7706ac4",
            "07e0b707aa224796bf49fad64e0833c1",
            "dd839ab809db4f6488b36d1c97c6fbe8",
            "f7c77ca4d8ad416885a165e4dd2e87dc",
            "823342c78fc14f40b1d2e7b301b0da33",
            "070cd214cc274329811529025a1c0f4b",
            "de9928d98db043f4a7a1f0e810dcb0a7",
            "c251dc9bac0d44e99c938e71b6c52625",
            "8153f8ffee67407c8db83d2701ea3658",
            "fc2aa2521551435f890afa093fff75c4",
            "66f4a8ecf82b484386884e67c45648ac",
            "197617fa452f464780d8a71f1b72d0ec",
            "6672490b9ea2414ba232f415c21bade8",
            "a9fac17c352a4a6ea0bc429a5a493932",
            "14157edf18624b70b675c40b30db01db",
            "2adc25fd8a3a4a60b8c372e6cd08228c",
            "489c0e84551945c69a0af6c0375b5dba",
            "17393e55db3a470f9f9e29206f552220",
            "990c04244ca64cc28c36feba777f0c87",
            "17d44048aba048e3ad1d0d4c18590881",
            "d9184cca6e554d398b9eb24046d911ef",
            "1e207a9a681c4d2087a6519ffe5d35e3",
            "8b42093179a4460494c6d9015daa2f7d",
            "5917624d08a54c989718edead969919e",
            "7a37b29797f3422bafe2c5bcd895d2a6",
            "ee0bb76ab8194d559d99d92677f87524",
            "a2a2edbcb0cc41b39f925741140058f5",
            "37d199c247fd403bbbd7ec6466d5b3bf"
          ]
        },
        "id": "ceH-Rd9EuVJr",
        "outputId": "f3558b38-3476-41f9-db84-4227796e2c38"
      },
      "execution_count": null,
      "outputs": [
        {
          "output_type": "stream",
          "name": "stdout",
          "text": [
            "Downloading and preparing dataset 80.23 MiB (download: 80.23 MiB, generated: Unknown size, total: 80.23 MiB) to /root/tensorflow_datasets/imdb_reviews/plain_text/1.0.0...\n"
          ]
        },
        {
          "output_type": "display_data",
          "data": {
            "text/plain": [
              "Dl Completed...: 0 url [00:00, ? url/s]"
            ],
            "application/vnd.jupyter.widget-view+json": {
              "version_major": 2,
              "version_minor": 0,
              "model_id": "dbdc536d16c146938468a66a2c2876cf"
            }
          },
          "metadata": {}
        },
        {
          "output_type": "display_data",
          "data": {
            "text/plain": [
              "Dl Size...: 0 MiB [00:00, ? MiB/s]"
            ],
            "application/vnd.jupyter.widget-view+json": {
              "version_major": 2,
              "version_minor": 0,
              "model_id": "c384f29f4f3d40eab3358b443337f9ab"
            }
          },
          "metadata": {}
        },
        {
          "output_type": "display_data",
          "data": {
            "text/plain": [
              "Generating splits...:   0%|          | 0/3 [00:00<?, ? splits/s]"
            ],
            "application/vnd.jupyter.widget-view+json": {
              "version_major": 2,
              "version_minor": 0,
              "model_id": "ba298c04a57349bfa3df1049592fdf07"
            }
          },
          "metadata": {}
        },
        {
          "output_type": "display_data",
          "data": {
            "text/plain": [
              "Generating train examples...:   0%|          | 0/25000 [00:00<?, ? examples/s]"
            ],
            "application/vnd.jupyter.widget-view+json": {
              "version_major": 2,
              "version_minor": 0,
              "model_id": "14cb0a27ab67403ba198e011fb021b2a"
            }
          },
          "metadata": {}
        },
        {
          "output_type": "display_data",
          "data": {
            "text/plain": [
              "Shuffling /root/tensorflow_datasets/imdb_reviews/plain_text/1.0.0.incompleteBI8CT2/imdb_reviews-train.tfrecord…"
            ],
            "application/vnd.jupyter.widget-view+json": {
              "version_major": 2,
              "version_minor": 0,
              "model_id": "acaa17856771402693e1e72eaca00a0c"
            }
          },
          "metadata": {}
        },
        {
          "output_type": "display_data",
          "data": {
            "text/plain": [
              "Generating test examples...:   0%|          | 0/25000 [00:00<?, ? examples/s]"
            ],
            "application/vnd.jupyter.widget-view+json": {
              "version_major": 2,
              "version_minor": 0,
              "model_id": "b8d849da651e42beb15c19763c8831e7"
            }
          },
          "metadata": {}
        },
        {
          "output_type": "display_data",
          "data": {
            "text/plain": [
              "Shuffling /root/tensorflow_datasets/imdb_reviews/plain_text/1.0.0.incompleteBI8CT2/imdb_reviews-test.tfrecord*…"
            ],
            "application/vnd.jupyter.widget-view+json": {
              "version_major": 2,
              "version_minor": 0,
              "model_id": "bb564e6e7a8545b2ad1a0bd90b252067"
            }
          },
          "metadata": {}
        },
        {
          "output_type": "display_data",
          "data": {
            "text/plain": [
              "Generating unsupervised examples...:   0%|          | 0/50000 [00:00<?, ? examples/s]"
            ],
            "application/vnd.jupyter.widget-view+json": {
              "version_major": 2,
              "version_minor": 0,
              "model_id": "de9928d98db043f4a7a1f0e810dcb0a7"
            }
          },
          "metadata": {}
        },
        {
          "output_type": "display_data",
          "data": {
            "text/plain": [
              "Shuffling /root/tensorflow_datasets/imdb_reviews/plain_text/1.0.0.incompleteBI8CT2/imdb_reviews-unsupervised.t…"
            ],
            "application/vnd.jupyter.widget-view+json": {
              "version_major": 2,
              "version_minor": 0,
              "model_id": "17393e55db3a470f9f9e29206f552220"
            }
          },
          "metadata": {}
        },
        {
          "output_type": "stream",
          "name": "stdout",
          "text": [
            "Dataset imdb_reviews downloaded and prepared to /root/tensorflow_datasets/imdb_reviews/plain_text/1.0.0. Subsequent calls will reuse this data.\n"
          ]
        }
      ]
    },
    {
      "cell_type": "code",
      "source": [
        "for example in train_set.take(1):\n",
        "    print(example[\"text\"])\n",
        "    print(example[\"label\"])"
      ],
      "metadata": {
        "colab": {
          "base_uri": "https://localhost:8080/"
        },
        "id": "oZ6t8f8DucZR",
        "outputId": "41eab962-28ed-4b14-d682-b4559356ee95"
      },
      "execution_count": null,
      "outputs": [
        {
          "output_type": "stream",
          "name": "stdout",
          "text": [
            "tf.Tensor(b\"This was an absolutely terrible movie. Don't be lured in by Christopher Walken or Michael Ironside. Both are great actors, but this must simply be their worst role in history. Even their great acting could not redeem this movie's ridiculous storyline. This movie is an early nineties US propaganda piece. The most pathetic scenes were those when the Columbian rebels were making their cases for revolutions. Maria Conchita Alonso appeared phony, and her pseudo-love affair with Walken was nothing but a pathetic emotional plug in a movie that was devoid of any real meaning. I am disappointed that there are movies like this, ruining actor's like Christopher Walken's good name. I could barely sit through it.\", shape=(), dtype=string)\n",
            "tf.Tensor(0, shape=(), dtype=int64)\n"
          ]
        }
      ]
    }
  ]
}